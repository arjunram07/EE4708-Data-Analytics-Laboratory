{
  "nbformat": 4,
  "nbformat_minor": 0,
  "metadata": {
    "kernelspec": {
      "display_name": "Python 3",
      "language": "python",
      "name": "python3"
    },
    "language_info": {
      "codemirror_mode": {
        "name": "ipython",
        "version": 3
      },
      "file_extension": ".py",
      "mimetype": "text/x-python",
      "name": "python",
      "nbconvert_exporter": "python",
      "pygments_lexer": "ipython3",
      "version": "3.6.10"
    },
    "colab": {
      "name": "Data Analytics Lab- 2nd week .ipynb",
      "provenance": [],
      "collapsed_sections": [],
      "toc_visible": true
    }
  },
  "cells": [
    {
      "cell_type": "markdown",
      "metadata": {
        "id": "Ua7lFmL8OS8S",
        "colab_type": "text"
      },
      "source": [
        "## Data Analytics Lab (2nd Week)\n",
        "\n",
        "### Probability Distribution, Moments, Visualisation, Data Generation, Parameter Estimation, Hypothesis Testing, Correlation\n",
        "\n",
        "### Basic moments of one-dimensional data and visualisation"
      ]
    },
    {
      "cell_type": "markdown",
      "metadata": {
        "id": "r8JGJMEIOS8U",
        "colab_type": "text"
      },
      "source": [
        "Implement functions to compute median, mode, sample mean, sample variance, standard deviation of one-dimensional data \n",
        "\"without using numpy\". \n",
        "\n",
        "Example :\n",
        "data1 = np.array([1,2,3,4,5])\n",
        "\n",
        "data1_median = median(data1)\n",
        "\n",
        "data1_mode = mode(data1)\n",
        "\n",
        "data1_mean = mean(data1)\n",
        "\n",
        "data1_variance = variance(data1)\n",
        "\n",
        "data1_stddev = stddev(data1)"
      ]
    },
    {
      "cell_type": "code",
      "metadata": {
        "id": "JZyPCVvuOS8V",
        "colab_type": "code",
        "colab": {
          "base_uri": "https://localhost:8080/",
          "height": 71
        },
        "outputId": "2f4696d9-309b-4413-b89a-fe4eea7696ef"
      },
      "source": [
        "import matplotlib.pyplot as plt\n",
        "import numpy as np \n",
        "import math \n",
        "import pandas as pd \n",
        "import seaborn as sns\n",
        "import scipy as sci\n",
        "import scipy.integrate as integrate"
      ],
      "execution_count": 1,
      "outputs": [
        {
          "output_type": "stream",
          "text": [
            "/usr/local/lib/python3.6/dist-packages/statsmodels/tools/_testing.py:19: FutureWarning: pandas.util.testing is deprecated. Use the functions in the public API at pandas.testing instead.\n",
            "  import pandas.util.testing as tm\n"
          ],
          "name": "stderr"
        }
      ]
    },
    {
      "cell_type": "markdown",
      "metadata": {
        "id": "tH_AdoXUOS8b",
        "colab_type": "text"
      },
      "source": [
        "Compute the above for different one-dimensional datasets - data1.txt, data2.txt, data3.txt, data4.txt and store as data1_median, data2_median etc. Verify the results using the numpy built in functions for mean,stddev and variance."
      ]
    },
    {
      "cell_type": "code",
      "metadata": {
        "id": "gJGMpJIzOS8c",
        "colab_type": "code",
        "colab": {}
      },
      "source": [
        "def mean(b):\n",
        "  sum=0\n",
        "  length=0\n",
        "  for i in range(int(len(b))):\n",
        "    sum=sum+b[i]\n",
        "    length=length+1\n",
        "  mean=float(sum/length)\n",
        "  return mean  \n",
        "\n",
        "def median(b):\n",
        "  b=list(b)\n",
        "  b.sort()\n",
        "  if int(len(b))%2==0:\n",
        "    median = (b[int(len(b)/2)-1]+b[int(len(b)/2)])/2\n",
        "  else:\n",
        "    median = b[int(len(b)/2)]\n",
        "  return median\n",
        "\n",
        "def variance(b):\n",
        "  var = sum((i - mean(b)) ** 2 for i in b) / len(b)\n",
        "  return var\n",
        "\n",
        "def stddev(b):\n",
        "  return math.sqrt(variance(b))\n",
        "\n",
        "def mode(b):\n",
        "  freq={}\n",
        "  b = b.tolist()\n",
        "  for item in tuple(b): \n",
        "    if type(item)==list:\n",
        "      item=float(item[0])\n",
        "    if item in freq:\n",
        "      freq[item]+=1\n",
        "    else: \n",
        "      freq[item]=1\n",
        "  sort_orders = sorted(freq.items(), key=lambda x: x[1], reverse=True)\n",
        "  if len(sort_orders)==1:\n",
        "    mode=sort_orders[0][0]\n",
        "  elif sort_orders[0][1]==sort_orders[1][1]:\n",
        "    sort_orders = sorted(freq.items(), key=lambda x: x[0])\n",
        "    mode=sort_orders[0][0]\n",
        "  else:\n",
        "    mode=sort_orders[0][0]\n",
        "  return mode"
      ],
      "execution_count": 2,
      "outputs": []
    },
    {
      "cell_type": "markdown",
      "metadata": {
        "id": "w93hrA5puc9R",
        "colab_type": "text"
      },
      "source": [
        "## Answers:\n",
        "Data 1"
      ]
    },
    {
      "cell_type": "code",
      "metadata": {
        "id": "r3QEkpYrQ_oK",
        "colab_type": "code",
        "colab": {
          "base_uri": "https://localhost:8080/",
          "height": 187
        },
        "outputId": "48a02302-e220-49ca-c231-9aeb7215598c"
      },
      "source": [
        "data1=np.random.normal(1,50,size=100)\n",
        "\n",
        "data1_median = median(data1)\n",
        "print('median(without numpy) of data1 is',data1_median)\n",
        "print('median using numpy for data1 is',np.median(data1))\n",
        "\n",
        "data1_mode = mode(data1)\n",
        "print('mode(without numpy) of data1 is',data1_mode)\n",
        "print('mode using numpy for data1 is',sci.stats.mode(data1)[0][0])\n",
        "\n",
        "\n",
        "data1_mean = mean(data1)\n",
        "print('mean(without numpy) of data1 is',data1_mean)\n",
        "print('mean using numpy for data1 is',np.mean(data1))\n",
        "\n",
        "data1_variance = variance(data1)\n",
        "print('variance(without numpy) of data1 is',data1_variance)\n",
        "print('variance using numpy for data1 is',np.var(data1))\n",
        "\n",
        "data1_stddev = stddev(data1)\n",
        "print('stddev(without numpy) of data1 is',data1_stddev)\n",
        "print('stddev using numpy for data1 is',np.std(data1))"
      ],
      "execution_count": 3,
      "outputs": [
        {
          "output_type": "stream",
          "text": [
            "median(without numpy) of data1 is 9.897327172958235\n",
            "median using numpy for data1 is 9.897327172958235\n",
            "mode(without numpy) of data1 is -138.344907960999\n",
            "mode using numpy for data1 is -138.344907960999\n",
            "mean(without numpy) of data1 is 11.881947016490976\n",
            "mean using numpy for data1 is 11.881947016490981\n",
            "variance(without numpy) of data1 is 2258.5254109354496\n",
            "variance using numpy for data1 is 2258.5254109354505\n",
            "stddev(without numpy) of data1 is 47.52394565832523\n",
            "stddev using numpy for data1 is 47.52394565832524\n"
          ],
          "name": "stdout"
        }
      ]
    },
    {
      "cell_type": "markdown",
      "metadata": {
        "id": "BK_CncX9oa8l",
        "colab_type": "text"
      },
      "source": [
        "Data 2"
      ]
    },
    {
      "cell_type": "code",
      "metadata": {
        "id": "mBm4bFtdYhXi",
        "colab_type": "code",
        "colab": {
          "base_uri": "https://localhost:8080/",
          "height": 187
        },
        "outputId": "6b562d77-f079-42f9-e9e4-4af383f75f16"
      },
      "source": [
        "sample1 = np.random.normal(loc=20, scale=5, size=50)\n",
        "sample2 = np.random.normal(loc=40, scale=5, size=50)\n",
        "data2 = np.hstack((sample1, sample2))\n",
        "\n",
        "data2_median = median(data2)\n",
        "print('median(without numpy) of data2 is',data2_median)\n",
        "print('median using numpy for data2 is',np.median(data2))\n",
        "\n",
        "data2_mode = mode(data2)\n",
        "print('mode(without numpy) of data2 is',data2_mode)\n",
        "print('mode using numpy for data2 is',sci.stats.mode(data2)[0][0])\n",
        "\n",
        "\n",
        "data2_mean = mean(data2)\n",
        "print('mean(without numpy) of data2 is',data2_mean)\n",
        "print('mean using numpy for data2 is',np.mean(data2))\n",
        "\n",
        "data2_variance = variance(data2)\n",
        "print('variance(without numpy) of data2 is',data2_variance)\n",
        "print('variance using numpy for data2 is',np.var(data2))\n",
        "\n",
        "data2_stddev = stddev(data2)\n",
        "print('stddev(without numpy) of data2 is',data2_stddev)\n",
        "print('stddev using numpy for data2 is',np.std(data2))"
      ],
      "execution_count": 4,
      "outputs": [
        {
          "output_type": "stream",
          "text": [
            "median(without numpy) of data2 is 29.13447735305788\n",
            "median using numpy for data2 is 29.13447735305788\n",
            "mode(without numpy) of data2 is 3.8019877285918433\n",
            "mode using numpy for data2 is 3.8019877285918433\n",
            "mean(without numpy) of data2 is 30.838386170420623\n",
            "mean using numpy for data2 is 30.838386170420623\n",
            "variance(without numpy) of data2 is 125.50560971853996\n",
            "variance using numpy for data2 is 125.50560971853999\n",
            "stddev(without numpy) of data2 is 11.202928622397804\n",
            "stddev using numpy for data2 is 11.202928622397804\n"
          ],
          "name": "stdout"
        }
      ]
    },
    {
      "cell_type": "markdown",
      "metadata": {
        "id": "8j3w7n6ZpHjK",
        "colab_type": "text"
      },
      "source": [
        "Data 3"
      ]
    },
    {
      "cell_type": "code",
      "metadata": {
        "id": "bdaUTKrHYhUM",
        "colab_type": "code",
        "colab": {
          "base_uri": "https://localhost:8080/",
          "height": 187
        },
        "outputId": "f6a79c7b-8e8e-49d5-f339-cfbc7390c926"
      },
      "source": [
        "data3=np.random.randint(1,2,size=100)                        #Generated two datasets namely data3 and data4\n",
        "\n",
        "data3_median = median(data3)\n",
        "print('median(without numpy) of data3 is',data3_median)\n",
        "print('median using numpy for data3 is',np.median(data3))\n",
        "\n",
        "data3_mode = mode(data3)\n",
        "print('mode(without numpy) of data3 is',data3_mode)\n",
        "print('mode using numpy for data3 is',sci.stats.mode(data3)[0][0])\n",
        "\n",
        "\n",
        "data3_mean = mean(data3)\n",
        "print('mean(without numpy) of data3 is',data3_mean)\n",
        "print('mean using numpy for data3 is',np.mean(data3))\n",
        "\n",
        "data3_variance = variance(data3)\n",
        "print('variance(without numpy) of data3 is',data3_variance)\n",
        "print('variance using numpy for data3 is',np.var(data3))\n",
        "\n",
        "data3_stddev = stddev(data3)\n",
        "print('stddev(without numpy) of data3 is',data3_stddev)\n",
        "print('stddev using numpy for data3 is',np.std(data3))\n"
      ],
      "execution_count": 5,
      "outputs": [
        {
          "output_type": "stream",
          "text": [
            "median(without numpy) of data3 is 1.0\n",
            "median using numpy for data3 is 1.0\n",
            "mode(without numpy) of data3 is 1\n",
            "mode using numpy for data3 is 1\n",
            "mean(without numpy) of data3 is 1.0\n",
            "mean using numpy for data3 is 1.0\n",
            "variance(without numpy) of data3 is 0.0\n",
            "variance using numpy for data3 is 0.0\n",
            "stddev(without numpy) of data3 is 0.0\n",
            "stddev using numpy for data3 is 0.0\n"
          ],
          "name": "stdout"
        }
      ]
    },
    {
      "cell_type": "markdown",
      "metadata": {
        "id": "XdrAt8gopcNJ",
        "colab_type": "text"
      },
      "source": [
        "Data 4"
      ]
    },
    {
      "cell_type": "code",
      "metadata": {
        "id": "giKOpknOWHgp",
        "colab_type": "code",
        "colab": {
          "base_uri": "https://localhost:8080/",
          "height": 187
        },
        "outputId": "712c1c26-1cd1-4e97-8e2f-9f84c4074e50"
      },
      "source": [
        "data4=np.random.exponential(size=100)\n",
        "data4_median = median(data4)\n",
        "print('median(without numpy) of data4 is',data4_median)\n",
        "print('median using numpy for data4 is',np.median(data4))\n",
        "\n",
        "data4_mode = mode(data4)\n",
        "print('mode(without numpy) of data4 is',data4_mode)\n",
        "print('mode using numpy for data4 is',sci.stats.mode(data4)[0][0])\n",
        "\n",
        "\n",
        "data4_mean = mean(data4)\n",
        "print('mean(without numpy) of data4 is',data4_mean)\n",
        "print('mean using numpy for data4 is',np.mean(data4))\n",
        "\n",
        "data4_variance = variance(data4)\n",
        "print('variance(without numpy) of data4 is',data4_variance)\n",
        "print('variance using numpy for data4 is',np.var(data4))\n",
        "\n",
        "data4_stddev = stddev(data4)\n",
        "print('stddev(without numpy) of data4 is',data4_stddev)\n",
        "print('stddev using numpy for data4 is',np.std(data4))\n"
      ],
      "execution_count": 6,
      "outputs": [
        {
          "output_type": "stream",
          "text": [
            "median(without numpy) of data4 is 0.7295135507522406\n",
            "median using numpy for data4 is 0.7295135507522406\n",
            "mode(without numpy) of data4 is 0.01269904520999791\n",
            "mode using numpy for data4 is 0.01269904520999791\n",
            "mean(without numpy) of data4 is 1.0667049583060018\n",
            "mean using numpy for data4 is 1.0667049583060022\n",
            "variance(without numpy) of data4 is 1.166779309417638\n",
            "variance using numpy for data4 is 1.1667793094176377\n",
            "stddev(without numpy) of data4 is 1.0801755919375506\n",
            "stddev using numpy for data4 is 1.0801755919375506\n"
          ],
          "name": "stdout"
        }
      ]
    },
    {
      "cell_type": "markdown",
      "metadata": {
        "id": "VmeRO2PCOS8h",
        "colab_type": "text"
      },
      "source": [
        "Visualize all the datasets (1-4) separately using matplotlib scatter plot and histograms. \n",
        "\n",
        "1. Comment on initial observations of distributions. \n",
        "\n",
        "2. For each dataset, specify which descriptive statistics best describe the data.\n",
        "\n",
        "Example :\n",
        "\n",
        "data1 - mean\n",
        "\n",
        "data2 - mean\n",
        "\n",
        "data3 - mean\n",
        "\n",
        "data4 - mean\n",
        "\n",
        "Hints: If you want to plot a known distribution (Normal,Unifrom, Exponential etc) using matplotlib, define it as a function \n",
        "and plot it. For this, you need to know the formula of the chosen distribution. If you dont know the exact distribution \n",
        "of a dataset, plot it as a histogram and smooth the data by converting bin edges to centres. Using seaborn library: \n",
        "    Install seaborn library and use $\\texttt{distplot()}$ function to plot the distribution and verify the result."
      ]
    },
    {
      "cell_type": "markdown",
      "metadata": {
        "id": "RboKSIUe9iQM",
        "colab_type": "text"
      },
      "source": [
        "### Scatter plot with their range itself"
      ]
    },
    {
      "cell_type": "code",
      "metadata": {
        "id": "aO242GvrOS8i",
        "colab_type": "code",
        "colab": {
          "base_uri": "https://localhost:8080/",
          "height": 621
        },
        "outputId": "948aa36c-a975-478e-d126-cf73545ebde2"
      },
      "source": [
        "# visualization by scatter plot\n",
        "plt.figure(figsize=(10,10))\n",
        "j=0\n",
        "for i in [data1,data2,data3,data4]:\n",
        "  j=j+1    \n",
        "  plt.subplot(int('22'+str(j)))\n",
        "  plt.scatter(range(len(i)),i)\n",
        "  plt.title('Scatter plot for data'+str(j))\n",
        "  plt.xlabel('Range')\n",
        "  plt.ylabel('Data'+str(j))"
      ],
      "execution_count": 7,
      "outputs": [
        {
          "output_type": "display_data",
          "data": {
            "image/png": "[encoded data removed]",
            "text/plain": [
              "<Figure size 720x720 with 4 Axes>"
            ]
          },
          "metadata": {
            "tags": [],
            "needs_background": "light"
          }
        }
      ]
    },
    {
      "cell_type": "markdown",
      "metadata": {
        "id": "4kSi7Vza9qnv",
        "colab_type": "text"
      },
      "source": [
        "## Histograms \n",
        "#### Data1-Observations\n",
        "We can observe from the plot that the distribution is a Gaussian distribution. Because, the frequency increases from left and reaches a peak and finally decreases."
      ]
    },
    {
      "cell_type": "code",
      "metadata": {
        "id": "OQ_U8wwUOS8m",
        "colab_type": "code",
        "colab": {
          "base_uri": "https://localhost:8080/",
          "height": 353
        },
        "outputId": "20514998-c95b-44c9-8277-808eec10e4fb"
      },
      "source": [
        "plt.figure(figsize=(5,5))\n",
        "sns.distplot(data1)\n",
        "plt.title('Histogram for data1')\n"
      ],
      "execution_count": 9,
      "outputs": [
        {
          "output_type": "execute_result",
          "data": {
            "text/plain": [
              "Text(0.5, 1.0, 'Histogram for data1')"
            ]
          },
          "metadata": {
            "tags": []
          },
          "execution_count": 9
        },
        {
          "output_type": "display_data",
          "data": {
            "image/png": "[encoded data removed]",
            "text/plain": [
              "<Figure size 360x360 with 1 Axes>"
            ]
          },
          "metadata": {
            "tags": [],
            "needs_background": "light"
          }
        }
      ]
    },
    {
      "cell_type": "markdown",
      "metadata": {
        "id": "cjmIfKHoPfLS",
        "colab_type": "text"
      },
      "source": [
        "### Data2- Observations \n",
        "This distributon is a bimodal distribution. Because there is clearly two peaks in the data. "
      ]
    },
    {
      "cell_type": "code",
      "metadata": {
        "id": "LzQO7i2HPisR",
        "colab_type": "code",
        "colab": {
          "base_uri": "https://localhost:8080/",
          "height": 353
        },
        "outputId": "2db62255-cc9b-413b-bb45-0ccdcf487278"
      },
      "source": [
        "plt.figure(figsize=(5,5))\n",
        "sns.distplot(data2)\n",
        "plt.title('Histogram for data2')"
      ],
      "execution_count": 10,
      "outputs": [
        {
          "output_type": "execute_result",
          "data": {
            "text/plain": [
              "Text(0.5, 1.0, 'Histogram for data2')"
            ]
          },
          "metadata": {
            "tags": []
          },
          "execution_count": 10
        },
        {
          "output_type": "display_data",
          "data": {
            "image/png": "[encoded data removed]",
            "text/plain": [
              "<Figure size 360x360 with 1 Axes>"
            ]
          },
          "metadata": {
            "tags": [],
            "needs_background": "light"
          }
        }
      ]
    },
    {
      "cell_type": "markdown",
      "metadata": {
        "id": "Er6kDQjdVBbJ",
        "colab_type": "text"
      },
      "source": [
        "### Data3-observation\n",
        "This distribution is a uniform distribution because all the values have equal probability of occurance."
      ]
    },
    {
      "cell_type": "code",
      "metadata": {
        "id": "i1nR6j3LVErZ",
        "colab_type": "code",
        "colab": {
          "base_uri": "https://localhost:8080/",
          "height": 407
        },
        "outputId": "58739133-84a4-4c55-ac68-706da84eca38"
      },
      "source": [
        "plt.figure(figsize=(5,5))\n",
        "sns.distplot(data3)\n",
        "plt.title('Histogram for data3')"
      ],
      "execution_count": 11,
      "outputs": [
        {
          "output_type": "stream",
          "text": [
            "/usr/local/lib/python3.6/dist-packages/seaborn/distributions.py:283: UserWarning: Data must have variance to compute a kernel density estimate.\n",
            "  warnings.warn(msg, UserWarning)\n"
          ],
          "name": "stderr"
        },
        {
          "output_type": "execute_result",
          "data": {
            "text/plain": [
              "Text(0.5, 1.0, 'Histogram for data3')"
            ]
          },
          "metadata": {
            "tags": []
          },
          "execution_count": 11
        },
        {
          "output_type": "display_data",
          "data": {
            "image/png": "[encoded data removed]",
            "text/plain": [
              "<Figure size 360x360 with 1 Axes>"
            ]
          },
          "metadata": {
            "tags": [],
            "needs_background": "light"
          }
        }
      ]
    },
    {
      "cell_type": "markdown",
      "metadata": {
        "id": "MkRvNC7gVWqi",
        "colab_type": "text"
      },
      "source": [
        "### Data4-Observation\n",
        "As we can see the data frequency decreases from maximum at the left. So, it follows a exponential distribution."
      ]
    },
    {
      "cell_type": "code",
      "metadata": {
        "id": "PpAQeNTsVdH3",
        "colab_type": "code",
        "colab": {
          "base_uri": "https://localhost:8080/",
          "height": 353
        },
        "outputId": "3acbe4c2-45cd-4785-ddf9-620832d623c1"
      },
      "source": [
        "plt.figure(figsize=(5,5))\n",
        "sns.distplot(data4)\n",
        "plt.title('Histogram for data4')"
      ],
      "execution_count": 12,
      "outputs": [
        {
          "output_type": "execute_result",
          "data": {
            "text/plain": [
              "Text(0.5, 1.0, 'Histogram for data4')"
            ]
          },
          "metadata": {
            "tags": []
          },
          "execution_count": 12
        },
        {
          "output_type": "display_data",
          "data": {
            "image/png": "[encoded data removed]",
            "text/plain": [
              "<Figure size 360x360 with 1 Axes>"
            ]
          },
          "metadata": {
            "tags": [],
            "needs_background": "light"
          }
        }
      ]
    },
    {
      "cell_type": "markdown",
      "metadata": {
        "id": "zoa3pYoEVr3F",
        "colab_type": "text"
      },
      "source": [
        "### 2)For each dataset, specify which descriptive statistics best describe the data.\n",
        "\n",
        "Data1 (Gaussian) = Mean\n",
        "\n",
        "Data2 (Bimodal) = Median\n",
        "\n",
        "Data3 (Uniform) = Mode,Mean,Median all are equal\n",
        "\n",
        "Data4 (Exponential) = Median "
      ]
    },
    {
      "cell_type": "markdown",
      "metadata": {
        "id": "fBhfTX5oOS8r",
        "colab_type": "text"
      },
      "source": [
        "### Probability Distribution parameters and visualisation"
      ]
    },
    {
      "cell_type": "markdown",
      "metadata": {
        "id": "0ea1XN5lOS80",
        "colab_type": "text"
      },
      "source": [
        "Uniform Distribution: A uniform distribution, also called a rectangular distribution, is a probability distribution that has constant probability. This distribution is defined by two parameters, a and b: a is the minimum and b is the maximum."
      ]
    },
    {
      "cell_type": "markdown",
      "metadata": {
        "id": "qhDwtW8iOS81",
        "colab_type": "text"
      },
      "source": [
        "Formula: \n",
        "\\begin{align*}\n",
        "f(x) = \\frac{1}{b-a} , a \\leq x \\leq b\n",
        "\\end{align*}\n",
        "Parameters:  $\\text{Mean} = \\frac{(a+b)}{2} ; \\text{Variance} = \\frac{1}{12(b-a)^2}$\n"
      ]
    },
    {
      "cell_type": "markdown",
      "metadata": {
        "id": "Deoy5t_0OS82",
        "colab_type": "text"
      },
      "source": [
        "Gaussian Distribution: The normal distribution is a probability function that describes how the values of a variable are distributed. It is a symmetric distribution where most of the observations cluster around the central peak and the probabilities for values further away from the mean taper off equally in both directions. For mean, $\\mu$ and standard deviation, $\\sigma$, the formula is given as\n",
        "\\begin{align*}\n",
        "f(x) = \\frac{1}{\\sigma \\sqrt{2\\pi}}e^{\\frac{-(x-\\mu)^2}{2\\sigma^2}}\n",
        "\\end{align*}"
      ]
    },
    {
      "cell_type": "markdown",
      "metadata": {
        "id": "8Khf3uL_OS83",
        "colab_type": "text"
      },
      "source": [
        "Use the random.normal() method to get a Normal Data Distribution.\n",
        "\n",
        "It has three parameters:\n",
        "\n",
        "loc - (Mean) where the peak of the bell exists.\n",
        "\n",
        "scale - (Standard Deviation) how flat the graph distribution should be.\n",
        "\n",
        "size - The shape of the returned array."
      ]
    },
    {
      "cell_type": "markdown",
      "metadata": {
        "id": "Lant9ZdNOS84",
        "colab_type": "text"
      },
      "source": [
        "Given a normal distribution of mean = 3 and standard deviation = 1. \n",
        "1. Find $P(x\\leq3)$ from the given distribution. \n",
        "2. Find the probability that $P(3\\lt x\\leq5)$ drawn from the given distribution. \n",
        "Write a function to estimate the above cumulative distribution function of a normal distribution. Verify the same.\n",
        " "
      ]
    },
    {
      "cell_type": "markdown",
      "metadata": {
        "id": "vSVvawA2fofd",
        "colab_type": "text"
      },
      "source": [
        "## 1) Probablity less than or equal to 3, P(x≤3)"
      ]
    },
    {
      "cell_type": "code",
      "metadata": {
        "id": "r39moFeUXj1M",
        "colab_type": "code",
        "colab": {
          "base_uri": "https://localhost:8080/",
          "height": 34
        },
        "outputId": "9e61a1cf-1a44-438a-b2e7-d7524c55efd3"
      },
      "source": [
        "data=np.random.normal(loc=3,scale=1,size=1000)\n",
        "num=[]\n",
        "for i in range(len(data)):\n",
        "  if data[i]<=3:\n",
        "    num.append(data[i])\n",
        "  else:\n",
        "    continue\n",
        "print('Probability of x<=3 is :',len(num)/len(data))"
      ],
      "execution_count": 13,
      "outputs": [
        {
          "output_type": "stream",
          "text": [
            "Probability of x<=3 is : 0.495\n"
          ],
          "name": "stdout"
        }
      ]
    },
    {
      "cell_type": "markdown",
      "metadata": {
        "id": "3RPWjW-phgiF",
        "colab_type": "text"
      },
      "source": [
        "## 2) Probablity greater than 3 and less than 5, P(3<x<=5)"
      ]
    },
    {
      "cell_type": "code",
      "metadata": {
        "id": "fIND5xkrhgD4",
        "colab_type": "code",
        "colab": {
          "base_uri": "https://localhost:8080/",
          "height": 34
        },
        "outputId": "ca5cee84-fdbe-461f-ddda-e074ef72145c"
      },
      "source": [
        "num=[]\n",
        "for i in range(len(data)):\n",
        "  if data[i]>3 and data[i]<=5:\n",
        "    num.append(data[i])\n",
        "  else:\n",
        "    continue\n",
        "print('Probability of 3<x<=5 is :',len(num)/len(data))"
      ],
      "execution_count": 14,
      "outputs": [
        {
          "output_type": "stream",
          "text": [
            "Probability of 3<x<=5 is : 0.488\n"
          ],
          "name": "stdout"
        }
      ]
    },
    {
      "cell_type": "markdown",
      "metadata": {
        "id": "ecoEJhgbnEwW",
        "colab_type": "text"
      },
      "source": [
        "## Function for estimating CDF and verification of above calculated values\n",
        "From the results we can observe that the values are same as calculated above"
      ]
    },
    {
      "cell_type": "code",
      "metadata": {
        "id": "hFTA9BcYOS85",
        "colab_type": "code",
        "colab": {
          "base_uri": "https://localhost:8080/",
          "height": 51
        },
        "outputId": "f29bb74f-12da-46b3-e19e-612dbfca0496"
      },
      "source": [
        "# Function for estimating cdf\n",
        "def estimateCDF(x, a, b):\n",
        "  mu=mean(x)\n",
        "  std=stddev(x)\n",
        "  y=lambda x: (np.exp(-np.power(x - mu, 2.) / (2 * np.power(std, 2.))))/(std*np.power(2*np.pi,0.5))\n",
        "  cdf=integrate.quad(y,a,b)\n",
        "  return cdf\n",
        "\n",
        "print('Probability of x<=3 is :',estimateCDF(data,-np.inf,3)[0])\n",
        "print('Probability of 3<x<=5 is :',estimateCDF(data,3,5)[0])"
      ],
      "execution_count": 15,
      "outputs": [
        {
          "output_type": "stream",
          "text": [
            "Probability of x<=3 is : 0.4955620885522\n",
            "Probability of 3<x<=5 is : 0.4807416355982709\n"
          ],
          "name": "stdout"
        }
      ]
    },
    {
      "cell_type": "markdown",
      "metadata": {
        "id": "QMudTYlFOS8-",
        "colab_type": "text"
      },
      "source": [
        "### Maximum Likelihood Estimation for normal distribution : \n",
        "A method of estimating the parameters of a distribution by maximizing a likelihood function, so that under the assumed statistical model the observed data is most probable. For normal distribution, $f(x,\\mu,\\sigma) = \\frac{1}{\\sigma \\sqrt{2\\pi}}e^{\\frac{-(x-\\mu)^2}{2\\sigma^2}}$, the goal is to determine $\\mu$ and $\\sigma$ for our data so that we can match our data to its most likely Gaussian bell curve. The estimated mean, $\\hat{\\mu}$ for normal distribution is  $\\hat{\\mu} = \\frac{1}{n}\\sum_{i=1}^nx_i$ and the estimated standard deviation is $\\hat{\\sigma} = \\sqrt{ \\frac{1}{n}\\sum_{i=1}^n(x_i-\\mu)^2}$."
      ]
    },
    {
      "cell_type": "markdown",
      "metadata": {
        "id": "GB20URlWOS8_",
        "colab_type": "text"
      },
      "source": [
        "Assuming that data1 has been sampled from normal distribution with unknown mean and standard deviation of 2, calculate $95\\%$ confidence interval of data1_mean.\n",
        "\n",
        "\n"
      ]
    },
    {
      "cell_type": "markdown",
      "metadata": {
        "id": "fjFuKRJeoaVV",
        "colab_type": "text"
      },
      "source": [
        "## DataSet1.txt"
      ]
    },
    {
      "cell_type": "code",
      "metadata": {
        "id": "k47-fY_WOS9A",
        "colab_type": "code",
        "colab": {
          "base_uri": "https://localhost:8080/",
          "height": 282
        },
        "outputId": "f3f38141-1735-4376-fc1b-603c1ea3571c"
      },
      "source": [
        "data1=pd.read_csv('DataSet1.txt').to_numpy()\n",
        "sns.distplot(data1)\n",
        "mu=sum(data1)/len(data1)\n",
        "var = sum((i - mu) ** 2 for i in data1) / len(data1)\n",
        "stddev=np.sqrt(var)\n",
        "print('The mu and sigma values of the distribution are ', mu[0],stddev[0])"
      ],
      "execution_count": 16,
      "outputs": [
        {
          "output_type": "stream",
          "text": [
            "The mu and sigma values of the distribution are  28.312952286755355 48.34151136604429\n"
          ],
          "name": "stdout"
        },
        {
          "output_type": "display_data",
          "data": {
            "image/png": "[encoded data removed]",
            "text/plain": [
              "<Figure size 432x288 with 1 Axes>"
            ]
          },
          "metadata": {
            "tags": [],
            "needs_background": "light"
          }
        }
      ]
    },
    {
      "cell_type": "markdown",
      "metadata": {
        "id": "ibyGj_mDr5a1",
        "colab_type": "text"
      },
      "source": [
        "## Dataset2.txt"
      ]
    },
    {
      "cell_type": "code",
      "metadata": {
        "id": "OPR4nOGnr9u9",
        "colab_type": "code",
        "colab": {
          "base_uri": "https://localhost:8080/",
          "height": 282
        },
        "outputId": "941f31b9-cc45-4b65-94ea-52df3e296923"
      },
      "source": [
        "data2=np.random.normal(loc=3,scale=2,size=100)\n",
        "sns.distplot(data2)\n",
        "mu=sum(data2)/len(data2)\n",
        "var = sum((i - mu) ** 2 for i in data2) / len(data2)\n",
        "stddev=np.sqrt(var)\n",
        "\n",
        "print('The mu and sigma values of the distribution are ', mu,stddev)"
      ],
      "execution_count": 45,
      "outputs": [
        {
          "output_type": "stream",
          "text": [
            "The mu and sigma values of the distribution are  2.959725508189513 2.035115904767392\n"
          ],
          "name": "stdout"
        },
        {
          "output_type": "display_data",
          "data": {
            "image/png": "[encoded data removed]",
            "text/plain": [
              "<Figure size 432x288 with 1 Axes>"
            ]
          },
          "metadata": {
            "tags": [],
            "needs_background": "light"
          }
        }
      ]
    },
    {
      "cell_type": "markdown",
      "metadata": {
        "id": "m2vDefsFvzTt",
        "colab_type": "text"
      },
      "source": [
        "Assuming that data1 has been sampled from normal distribution with unknown mean and standard deviation of 2, calculate $95\\%$ confidence interval of data1_mean.\n",
        "\n",
        "μ = M ± t*(s)\n",
        "\n",
        "M = sample mean\n",
        "\n",
        "μ = Population mean\n",
        "\n",
        "t = t statistic determined by confidence level = 1.98(95% confidence)\n",
        "\n",
        "s =  standard error = √(s^2/n)\n",
        "\n",
        "95% confidence interval of mean is 27.914<μ<28.710\n"
      ]
    },
    {
      "cell_type": "code",
      "metadata": {
        "id": "E1OrQSZJvywW",
        "colab_type": "code",
        "colab": {
          "base_uri": "https://localhost:8080/",
          "height": 34
        },
        "outputId": "00649391-aab4-4554-9351-defc6bc36791"
      },
      "source": [
        "M = mean(data1)\n",
        "t=1.98\n",
        "s = np.sqrt((2**2)/len(data1))\n",
        "mu = [M - t*s, M+ t*s]\n",
        "mu"
      ],
      "execution_count": 33,
      "outputs": [
        {
          "output_type": "execute_result",
          "data": {
            "text/plain": [
              "[27.91495731191271, 28.710947261598]"
            ]
          },
          "metadata": {
            "tags": []
          },
          "execution_count": 33
        }
      ]
    },
    {
      "cell_type": "markdown",
      "metadata": {
        "id": "8WVxNhyDOS9F",
        "colab_type": "text"
      },
      "source": [
        "### Parameter estimation"
      ]
    },
    {
      "cell_type": "markdown",
      "metadata": {
        "id": "CAEGkQ65OS9F",
        "colab_type": "text"
      },
      "source": [
        "In this section you will fit data to a standard distribution.\n",
        "\n",
        "Normal distribution \n",
        "\"DataSet1.txt\" is to be fitted to normal distribution. Complete the function fitNormal() to estimate parameters."
      ]
    },
    {
      "cell_type": "markdown",
      "metadata": {
        "id": "zDTYq9NUJ5Uz",
        "colab_type": "text"
      },
      "source": [
        "## fitNormal()"
      ]
    },
    {
      "cell_type": "code",
      "metadata": {
        "id": "lwApDr8TOS9H",
        "colab_type": "code",
        "colab": {}
      },
      "source": [
        "def fitNormal(x):\n",
        "  mu=sum(x)/len(x)\n",
        "  var = sum((i - mu) ** 2 for i in x) / len(x)\n",
        "  sig=np.sqrt(var)\n",
        "  return [mu,sig]"
      ],
      "execution_count": 34,
      "outputs": []
    },
    {
      "cell_type": "markdown",
      "metadata": {
        "id": "o77OdM7TOS9L",
        "colab_type": "text"
      },
      "source": [
        "Read the file \"DataSet1.txt\" into a variable $\\texttt{data1}$. Also plot a histogram of the same. Then pass it to $\\texttt{fitNormal()}$ to estimate parameters. Generate your own data using estimated parameters and plot the distribution. Use $\\texttt{numpy.linspace()}$ to generate 1000 points in the range of $\\texttt{data1}$. The probabilities are estimated from Gaussian distribution formula. Make a lineplot in the same figure."
      ]
    },
    {
      "cell_type": "markdown",
      "metadata": {
        "id": "UqaKgWeaMJ39",
        "colab_type": "text"
      },
      "source": [
        "## Data1.txt"
      ]
    },
    {
      "cell_type": "code",
      "metadata": {
        "id": "LrA9XOM3OS9M",
        "colab_type": "code",
        "colab": {
          "base_uri": "https://localhost:8080/",
          "height": 298
        },
        "outputId": "8f628782-ab37-4afc-f7d9-b393992d6835"
      },
      "source": [
        "data1=pd.read_csv('DataSet1.txt').to_numpy()\n",
        "\n",
        "x=np.linspace(min(data1),max(data1))\n",
        "[mu,std]=fitNormal(data1)\n",
        "y=(np.exp(-np.power(x - mu, 2.) / (2 * np.power(std, 2.))))/(std*np.power(2*np.pi,0.5))\n",
        "sns.distplot(data1)\n",
        "plt.plot(x,y,'r')\n",
        "plt.title('Distribution plot')\n",
        "plt.legend(['plot using parameters','data1 distribution plot'])"
      ],
      "execution_count": 35,
      "outputs": [
        {
          "output_type": "execute_result",
          "data": {
            "text/plain": [
              "<matplotlib.legend.Legend at 0x7f54a4657f60>"
            ]
          },
          "metadata": {
            "tags": []
          },
          "execution_count": 35
        },
        {
          "output_type": "display_data",
          "data": {
            "image/png": "[encoded data removed]",
            "text/plain": [
              "<Figure size 432x288 with 1 Axes>"
            ]
          },
          "metadata": {
            "tags": [],
            "needs_background": "light"
          }
        }
      ]
    },
    {
      "cell_type": "markdown",
      "metadata": {
        "id": "LVS4E51WOS9Q",
        "colab_type": "text"
      },
      "source": [
        "\"DataSet2.txt\" is to be fitted to uniform distribution. Complete the function fitUniform() to estimate parameters. Generate and plot data as before."
      ]
    },
    {
      "cell_type": "markdown",
      "metadata": {
        "id": "Wi8Rvi7IOdsn",
        "colab_type": "text"
      },
      "source": [
        "## fitUniform()"
      ]
    },
    {
      "cell_type": "code",
      "metadata": {
        "id": "eVumubfyOS9W",
        "colab_type": "code",
        "colab": {}
      },
      "source": [
        "def fitUniform(x):\n",
        "  a=min(x)\n",
        "  b=max(x)\n",
        "  return [a, b]"
      ],
      "execution_count": 36,
      "outputs": []
    },
    {
      "cell_type": "markdown",
      "metadata": {
        "id": "VY03Udt5MMlT",
        "colab_type": "text"
      },
      "source": [
        "## Data2.txt"
      ]
    },
    {
      "cell_type": "markdown",
      "metadata": {
        "id": "45xk_bqYOS9b",
        "colab_type": "text"
      },
      "source": [
        "Read the file \"DataSet2.txt\" into a variable \"data2\". Also plot a histogram of the same. Then pass it to $\\texttt{fitUniform()}$ to estimate parameters. Generate your own data using estimated parameters and plot the distribution."
      ]
    },
    {
      "cell_type": "code",
      "metadata": {
        "id": "7sKW6kt3MsFZ",
        "colab_type": "code",
        "colab": {
          "base_uri": "https://localhost:8080/",
          "height": 265
        },
        "outputId": "cebc91fe-c909-471b-d839-cc01d054a898"
      },
      "source": [
        "data2=pd.read_csv('DataSet2.txt').to_numpy()\n",
        "[a,b]=fitUniform(data2)\n",
        "x=np.linspace(min(data2),max(data2))\n",
        "y=1000/(b-a)*np.ones(len(x))\n",
        "sns.distplot(data2,kde=False)\n",
        "plt.plot(x,y)\n",
        "plt.legend(['plot using parameters','data1 distribution plot'])\n",
        "plt.xticks(np.arange(-50, 60, step=10));"
      ],
      "execution_count": 37,
      "outputs": [
        {
          "output_type": "display_data",
          "data": {
            "image/png": "[encoded data removed]",
            "text/plain": [
              "<Figure size 432x288 with 1 Axes>"
            ]
          },
          "metadata": {
            "tags": [],
            "needs_background": "light"
          }
        }
      ]
    },
    {
      "cell_type": "markdown",
      "metadata": {
        "id": "v6ZszZ2bOS9g",
        "colab_type": "text"
      },
      "source": [
        "## Correlation\n",
        "\n",
        "In this section you are required to measure correlation between two variables. The dataset \"**AirQualityData.csv**\" contains daily readings of $\\text{PM}_{10}$ and $O_3$ concentration in air along with temperature readings. To verify if the variation concentration of any of these pollutants is associated with temperature changes, measure the correlation between temperature and each of these pollutants. Complete the function $\\texttt{correlationCoeff()}$ below that measures the correlation coefficient between two given time-series data. For a given n two data sets x and y, the Pearson coefficient formula is given as\n",
        "\n",
        "\\begin{align*}\n",
        "    r_{xy} = \\frac{cov(X,Y)}{\\sigma(X)\\cdot \\sigma(Y)}\n",
        "\\end{align*}\n",
        "$cov(X,Y) = \\frac{\\Sigma_{i=1}^n (x_i-\\bar{x})(y_i-\\bar{y})}{n-1}; \\\\ $ \n",
        "$\\sigma(X), \\sigma(Y)$ are respective standard deviations\n"
      ]
    },
    {
      "cell_type": "code",
      "metadata": {
        "id": "h2CmDyOZOS9g",
        "colab_type": "code",
        "colab": {}
      },
      "source": [
        "def correlationCoeff(x, y):\n",
        "  num=0\n",
        "  for i in range(len(x)):\n",
        "    num=num+(((x[i]-np.mean(x))*(y[i]-np.mean(y))))\n",
        "  est=num/len(x)\n",
        "  return est/(np.std(x)*np.std(y))"
      ],
      "execution_count": 38,
      "outputs": []
    },
    {
      "cell_type": "markdown",
      "metadata": {
        "id": "dwe5o2JXOS9l",
        "colab_type": "text"
      },
      "source": [
        "Read the file \"AirQualityData.csv\" . Ignoring the \"date\" column, read columns \"temp\", \"pm10\" and \"o3\" as the dataframe as pass them to the function $\\texttt{correlationCoeff()}$ to estimate seperately the effect of \"pm10\" on \"temp\" and \"o3\" on \"temp\". Which of the pollutants has a greater impact on temperature? Compare the value that you get from the above function with the python built in function $\\texttt{df.corr()}$ . "
      ]
    },
    {
      "cell_type": "markdown",
      "metadata": {
        "id": "L9vm4n0FlUsd",
        "colab_type": "text"
      },
      "source": [
        "### From the data we can see that temperature and o3 is more correlated (0.57) than the temp and pm10 (0.3623)"
      ]
    },
    {
      "cell_type": "code",
      "metadata": {
        "id": "zJbUpSHJOS9m",
        "colab_type": "code",
        "colab": {
          "base_uri": "https://localhost:8080/",
          "height": 176
        },
        "outputId": "32875a6a-0866-45c5-9836-3e52af02968c"
      },
      "source": [
        "airdata=pd.read_csv('AirQualityData.csv')\n",
        "airdata.drop('date',axis=1)\n",
        "coeff_pm10=correlationCoeff(airdata['temp'],airdata['pm10']) #coefficient between temp and pm10\n",
        "coeff_o3 = correlationCoeff(airdata['temp'],airdata['o3'])\n",
        "print('coefficient for pm10 and temp is : ',coeff_pm10)\n",
        "print('coefficient for o3 and temp is : ', coeff_o3)\n",
        "airdata.corr()"
      ],
      "execution_count": 39,
      "outputs": [
        {
          "output_type": "stream",
          "text": [
            "coefficient for pm10 and temp is :  0.3623906454505246\n",
            "coefficient for o3 and temp is :  0.5702394453305746\n"
          ],
          "name": "stdout"
        },
        {
          "output_type": "execute_result",
          "data": {
            "text/html": [
              "<div>\n",
              "<style scoped>\n",
              "    .dataframe tbody tr th:only-of-type {\n",
              "        vertical-align: middle;\n",
              "    }\n",
              "\n",
              "    .dataframe tbody tr th {\n",
              "        vertical-align: top;\n",
              "    }\n",
              "\n",
              "    .dataframe thead th {\n",
              "        text-align: right;\n",
              "    }\n",
              "</style>\n",
              "<table border=\"1\" class=\"dataframe\">\n",
              "  <thead>\n",
              "    <tr style=\"text-align: right;\">\n",
              "      <th></th>\n",
              "      <th>temp</th>\n",
              "      <th>pm10</th>\n",
              "      <th>o3</th>\n",
              "    </tr>\n",
              "  </thead>\n",
              "  <tbody>\n",
              "    <tr>\n",
              "      <th>temp</th>\n",
              "      <td>1.000000</td>\n",
              "      <td>0.362391</td>\n",
              "      <td>0.570239</td>\n",
              "    </tr>\n",
              "    <tr>\n",
              "      <th>pm10</th>\n",
              "      <td>0.362391</td>\n",
              "      <td>1.000000</td>\n",
              "      <td>0.333296</td>\n",
              "    </tr>\n",
              "    <tr>\n",
              "      <th>o3</th>\n",
              "      <td>0.570239</td>\n",
              "      <td>0.333296</td>\n",
              "      <td>1.000000</td>\n",
              "    </tr>\n",
              "  </tbody>\n",
              "</table>\n",
              "</div>"
            ],
            "text/plain": [
              "          temp      pm10        o3\n",
              "temp  1.000000  0.362391  0.570239\n",
              "pm10  0.362391  1.000000  0.333296\n",
              "o3    0.570239  0.333296  1.000000"
            ]
          },
          "metadata": {
            "tags": []
          },
          "execution_count": 39
        }
      ]
    },
    {
      "cell_type": "markdown",
      "metadata": {
        "id": "f18wgU7NOS9u",
        "colab_type": "text"
      },
      "source": [
        "### Hypothesis Testing and Confidence Interval "
      ]
    },
    {
      "cell_type": "markdown",
      "metadata": {
        "id": "KU_WFmD0OS9u",
        "colab_type": "text"
      },
      "source": [
        "P Value: A p-value for a statistical model is the probability that when the null hypothesis is true, the statistical summary is equal to or greater than the actual observed results. This is also termed ‘probability value’ or ‘asymptotic significance’. The null hypothesis states that two measured phenomena experience no relationship to each other. We denote this as H or H0. If one or more of these probabilities turn out to be less than or equal to α, the level of significance, we reject the null hypothesis."
      ]
    },
    {
      "cell_type": "markdown",
      "metadata": {
        "id": "n1PREqbwOS9v",
        "colab_type": "text"
      },
      "source": [
        "Example: One such null hypothesis can be that the number of hours spent in the office affects the amount of salary paid. For a significance level of 5%, if the p-value falls lower than 5%, the null hypothesis is invalidated. Then it is discovered that the number of hours you spend in your office will not affect the amount of salary you will take home. "
      ]
    },
    {
      "cell_type": "markdown",
      "metadata": {
        "id": "xt0JFe5GOS9w",
        "colab_type": "text"
      },
      "source": [
        "T Test: Such a test tells us whether a sample of numeric data strays or differs significantly from the population. It also talks about two samples- whether they’re different. In other words, it gives us the probability of difference between populations."
      ]
    },
    {
      "cell_type": "code",
      "metadata": {
        "id": "nRWlAfd1OS9w",
        "colab_type": "code",
        "colab": {
          "base_uri": "https://localhost:8080/",
          "height": 34
        },
        "outputId": "8b039f43-d837-4e4d-9152-fe7bda531312"
      },
      "source": [
        "from scipy import stats\n",
        "stats.ttest_ind(data1,data2)"
      ],
      "execution_count": 40,
      "outputs": [
        {
          "output_type": "execute_result",
          "data": {
            "text/plain": [
              "Ttest_indResult(statistic=array([4.38958214]), pvalue=array([1.85497884e-05]))"
            ]
          },
          "metadata": {
            "tags": []
          },
          "execution_count": 40
        }
      ]
    },
    {
      "cell_type": "markdown",
      "metadata": {
        "id": "NQJSqWMCOS92",
        "colab_type": "text"
      },
      "source": [
        "KS Test: KS Test in Python Statistics: This is the Kolmogorov-Smirnov test. It lets us test the hypothesis that the sample is a part of the standard t-distribution. Let’s take an example."
      ]
    },
    {
      "cell_type": "code",
      "metadata": {
        "id": "tCLai7roOS93",
        "colab_type": "code",
        "colab": {
          "base_uri": "https://localhost:8080/",
          "height": 34
        },
        "outputId": "03a33e93-0fd3-4642-c8d3-dcace2536e29"
      },
      "source": [
        "stats.kstest(data3,'norm')"
      ],
      "execution_count": 41,
      "outputs": [
        {
          "output_type": "execute_result",
          "data": {
            "text/plain": [
              "KstestResult(statistic=0.8413447460685429, pvalue=4.764860426058126e-80)"
            ]
          },
          "metadata": {
            "tags": []
          },
          "execution_count": 41
        }
      ]
    },
    {
      "cell_type": "code",
      "metadata": {
        "id": "ddFNuopAOS97",
        "colab_type": "code",
        "colab": {
          "base_uri": "https://localhost:8080/",
          "height": 51
        },
        "outputId": "ab023d66-0ebc-4403-f261-3b87626dbe7b"
      },
      "source": [
        "data=np.random.normal(loc=0,scale=1,size=10000)\n",
        "p_value=stats.kstest(data,'norm')[1]\n",
        "print('p_value obtained is ',p_value)\n",
        "print('As the obtained p-value is greater the 0.05, the null hypothesis is true so the distribution is normal')"
      ],
      "execution_count": 42,
      "outputs": [
        {
          "output_type": "stream",
          "text": [
            "p_value obtained is  0.6888839596600667\n",
            "As the obtained p-value is greater the 0.05, the null hypothesis is true so the distribution is normal\n"
          ],
          "name": "stdout"
        }
      ]
    },
    {
      "cell_type": "markdown",
      "metadata": {
        "id": "oGRvHja6ujll",
        "colab_type": "text"
      },
      "source": [
        "#### Here the p-value obtained is 0, which is less than 0.05. Hence the null hypothesis is rejected. So the two means are not equal."
      ]
    },
    {
      "cell_type": "code",
      "metadata": {
        "id": "3CIzgtCbOS-B",
        "colab_type": "code",
        "colab": {
          "base_uri": "https://localhost:8080/",
          "height": 34
        },
        "outputId": "b914b48b-9095-465a-835d-c6bd1173e3e8"
      },
      "source": [
        "a=np.random.poisson(lam=5.0,size=10000)\n",
        "b=np.random.poisson(lam=7.0,size=7000)\n",
        "stats.ttest_ind(a,b)"
      ],
      "execution_count": 43,
      "outputs": [
        {
          "output_type": "execute_result",
          "data": {
            "text/plain": [
              "Ttest_indResult(statistic=-53.81385780961074, pvalue=0.0)"
            ]
          },
          "metadata": {
            "tags": []
          },
          "execution_count": 43
        }
      ]
    }
  ]
}