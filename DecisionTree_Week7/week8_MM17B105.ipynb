{
 "cells": [
  {
   "cell_type": "markdown",
   "metadata": {
    "id": "P5ibEbUCiHlm"
   },
   "source": [
    "# Decision trees and random forests"
   ]
  },
  {
   "cell_type": "markdown",
   "metadata": {
    "id": "qO4ToUAoiHlp"
   },
   "source": [
    "Decision trees build classification or regression models in the form of a tree structure. Creating a binary decision tree is a process of dividing up the input space. A greedy and recursive approach is used to recursively create binary splits in the input space. At each step, all the values are lined up and different split points are tried and tested using a cost function. The split with the best cost (lowest cost because we minimize cost) is selected. All input variables and all possible split points are evaluated and chosen in a greedy manner as the optimal split point is chosen in each step without checking for whether or not the split will lead to the lowest possible cost several levels down. \n",
    "\n",
    "In order to make a prediction for a given observation, we typically use the mean (regression) or the mode (classification) of the training observations in the region to which the observation belongs. "
   ]
  },
  {
   "cell_type": "markdown",
   "metadata": {
    "id": "apN2feuFiHlr"
   },
   "source": [
    "### A. Classification using decision trees"
   ]
  },
  {
   "cell_type": "markdown",
   "metadata": {
    "id": "UtrP7U7SiHlt"
   },
   "source": [
    "1. Import the make_moons dataset from sklearn using $100$ samples, noise $= 0.35$ and a fixed random state = $42$.\n",
    "2. Fit and visualize a decision tree classifier. Plot the decision boundaries by calling the helper function plot_decision_boundary provided to you. "
   ]
  },
  {
   "cell_type": "code",
   "execution_count": 6,
   "metadata": {
    "id": "Ibyry3T0iHlv"
   },
   "outputs": [],
   "source": [
    "import numpy as np\n",
    "import matplotlib.pyplot as plt\n",
    "import pandas as pd\n",
    "import matplotlib as m\n",
    "from sklearn import datasets\n",
    "data=datasets.make_moons(n_samples=100, noise=0.35, random_state=42)"
   ]
  },
  {
   "cell_type": "code",
   "execution_count": 7,
   "metadata": {
    "id": "6N75fx71iHl5"
   },
   "outputs": [],
   "source": [
    "def plot_decision_boundary(tree, X, y, axes=[0, 7.5, 0, 3], legend=False, plot_training=True):\n",
    "    x1s = np.linspace(axes[0], axes[1], 100)\n",
    "    x2s = np.linspace(axes[2], axes[3], 100)\n",
    "    x1, x2 = np.meshgrid(x1s, x2s)\n",
    "    X_new = np.c_[x1.ravel(), x2.ravel()]\n",
    "    y_pred = tree.predict(X_new).reshape(x1.shape)\n",
    "    custom_cmap = m.colors.ListedColormap(['#fafab0','#9898ff','#a0faa0'])\n",
    "    plt.contourf(x1, x2, y_pred, alpha=0.3, cmap=custom_cmap)\n",
    "    custom_cmap2 = m.colors.ListedColormap(['#7d7d58','#4c4c7f','#507d50'])\n",
    "    plt.contour(x1, x2, y_pred, cmap=custom_cmap2, alpha=0.8)\n",
    "    if plot_training:\n",
    "        plt.plot(X[:, 0][y==0], X[:, 1][y==0], \"yo\")\n",
    "        plt.plot(X[:, 0][y==1], X[:, 1][y==1], \"bs\")\n",
    "        plt.plot(X[:, 0][y==2], X[:, 1][y==2], \"g^\")\n",
    "        plt.axis(axes)\n",
    "    plt.xlabel(r\"$x_1$\", fontsize=18)\n",
    "    plt.ylabel(r\"$x_2$\", fontsize=18, rotation=0)\n",
    "    if legend:\n",
    "        plt.legend(loc=\"lower right\", fontsize=14)\n",
    "        "
   ]
  },
  {
   "cell_type": "code",
   "execution_count": 8,
   "metadata": {
    "colab": {
     "base_uri": "https://localhost:8080/",
     "height": 291
    },
    "id": "YU6JvUMkiHl_",
    "outputId": "4aa4a16e-11e7-41a8-a870-adb9dcb0c657"
   },
   "outputs": [
    {
     "data": {
      "image/png": "[encoded data removed]",
      "text/plain": [
       "<Figure size 432x288 with 1 Axes>"
      ]
     },
     "metadata": {
      "needs_background": "light",
      "tags": []
     },
     "output_type": "display_data"
    }
   ],
   "source": [
    "from sklearn.tree import DecisionTreeClassifier\n",
    "tree=DecisionTreeClassifier()\n",
    "tree.fit(data[0],data[1]);\n",
    "plot_decision_boundary(tree,data[0],data[1])"
   ]
  },
  {
   "cell_type": "markdown",
   "metadata": {
    "id": "oDoPVOCMiHmI"
   },
   "source": [
    "#### Q. Comment on the overfitting nature of the Decision trees"
   ]
  },
  {
   "cell_type": "markdown",
   "metadata": {
    "id": "-xUuc_c2yPvn"
   },
   "source": [
    "### **Ans:** Decision trees are prone to overfitting because, they are data intensive. At each node the split is decided based on the data. So it learns the training data perfectly and performs poor on other data. This explains the overfitting nature of Decision trees. The overfitting can be reduced by regularization"
   ]
  },
  {
   "cell_type": "markdown",
   "metadata": {
    "id": "5mQyxmZ2iHma"
   },
   "source": [
    "### B. Overfitting in decision tree classifiers"
   ]
  },
  {
   "cell_type": "markdown",
   "metadata": {
    "id": "72qBgX0uiHmb"
   },
   "source": [
    "1. List and explain in a few lines, three of the regularization hyperparameters used while building a decision tree and why they might help reduce overfitting of a decision tree model.\n",
    "\n",
    "**Ans:** \n",
    "\n",
    "**1) max_depth:** This feature decides the depth of the decision tree. It helps the model not to overfit because if the model is allowed to go deeper all the data is split at nodes and results is overlearning. \n",
    "\n",
    "**2) min_samples_leaf:** This feature decides the minimum number of samples should be there in a leaf node. This helps to smooth the model because if no minimum samples are set the tree goes on till the last sample is trained. Which is literally overfit. \n",
    "\n",
    "**3) min_samples_split:** This parameter fixes the minimum samples required for a split operation. If there are less than minimum samples at a node, then split won't happen. This feature helps to stop tree from going further deeper, which overfits otherwise.\n",
    "\n",
    "2. Now fit a decision tree classifier on the same dataset using the min_samples_leaf hyperparameter set to 4. Plot the decision boundaries and compare with the model fit without any hyperparameters. Which model do you think will generalize better to the test dataset? \n",
    "\n",
    "**Ans:** The min_samples_leaf = 4, model will generalize better to test data. This is because without hyperparameters model overfits the data which can be seen from the decision boundary. The boundary bends to split the data at the left boundary, which is clearly performing well with train data, but will not generalize better to test data. \n",
    "\n",
    "3. Fit and visualize a decision tree classifier after setting the maximum depth of nodes as 5. Plot the decision boundaries by calling the helper function plot_decision_boundary provided to you. and compare with the model fit without any hyperparameters. Which model do you think will generalize better to the test dataset? \n",
    "\n",
    "**Ans:** The max_depth = 5, model will generalize better to test data. This is because without hyperparameters model overfits the data which can be seen from the decision boundary. The boundary bends to split the data at the left boundary, which is clearly performing well with train data, but will not generalize better to test data. "
   ]
  },
  {
   "cell_type": "code",
   "execution_count": null,
   "metadata": {
    "colab": {
     "base_uri": "https://localhost:8080/",
     "height": 358
    },
    "id": "xcvKCLbViHmd",
    "outputId": "b8044651-328f-46c0-f859-dd60d1718c7f"
   },
   "outputs": [
    {
     "data": {
      "image/png": "[encoded data removed]",
      "text/plain": [
       "<Figure size 720x360 with 2 Axes>"
      ]
     },
     "metadata": {
      "needs_background": "light",
      "tags": []
     },
     "output_type": "display_data"
    }
   ],
   "source": [
    "tree_leaf=DecisionTreeClassifier(min_samples_leaf=4)\n",
    "tree_leaf.fit(data[0],data[1]);\n",
    "plt.figure(figsize=[10,5])\n",
    "plt.subplot(1,2,1)\n",
    "plt.title('min_samples_leaf=4')\n",
    "plot_decision_boundary(tree_leaf,data[0],data[1])\n",
    "plt.subplot(1,2,2)\n",
    "plt.title('No regularization')\n",
    "plot_decision_boundary(tree,data[0],data[1])"
   ]
  },
  {
   "cell_type": "code",
   "execution_count": null,
   "metadata": {
    "colab": {
     "base_uri": "https://localhost:8080/",
     "height": 358
    },
    "id": "ByapQfoVm0SH",
    "outputId": "0f79fc1e-4477-472a-abcc-f914ace1f710"
   },
   "outputs": [
    {
     "data": {
      "image/png": "[encoded data removed]",
      "text/plain": [
       "<Figure size 720x360 with 2 Axes>"
      ]
     },
     "metadata": {
      "needs_background": "light",
      "tags": []
     },
     "output_type": "display_data"
    }
   ],
   "source": [
    "tree_depth=DecisionTreeClassifier(max_depth=5)\n",
    "tree_depth.fit(data[0],data[1]);\n",
    "plt.figure(figsize=[10,5])\n",
    "plt.subplot(1,2,1)\n",
    "plt.title('max_depth = 5')\n",
    "plot_decision_boundary(tree_depth,data[0],data[1])\n",
    "plt.subplot(1,2,2)\n",
    "plt.title('No regularization')\n",
    "plot_decision_boundary(tree,data[0],data[1])"
   ]
  },
  {
   "cell_type": "markdown",
   "metadata": {
    "id": "e3d9PEsaiHml"
   },
   "source": [
    "#### Q. Comment on the boundary surface of the decision tree. \n",
    "\n",
    "**Ans:** Boundary surface of decision tree is orthogonal. This is because at each node the boundary splits the data according to a certain criteria, It splits the data at that node into two based on that condition. As this split is into two parts the decision boundary is a straight line, which in other words orthogonal. "
   ]
  },
  {
   "cell_type": "markdown",
   "metadata": {
    "id": "WKAjYBshiHmw"
   },
   "source": [
    "### C. Linear classifiers vs decision tree classifiers"
   ]
  },
  {
   "cell_type": "code",
   "execution_count": 17,
   "metadata": {
    "id": "gKVKrNUaiHmx"
   },
   "outputs": [],
   "source": [
    "#Generate 100 points [x1, x2] in the 2D plane using np.random.rand() for -0.5<x1<0.5 and -0.5<x2<0.5\n",
    "x = np.random.rand(100,2) - 0.5\n",
    "y = np.zeros(100)\n",
    "#Assign a label of 1 to all points having x1>0.0 and 0 otherwise\n",
    "y[x[:,0]>0] = 1\n",
    "#Rotate the dataset by 45 degrees in the [x1,x2] plane\n",
    "rot = [[0.414,-0.414],[0.414,0.414]]\n",
    "x_rot = np.matmul(rot,x.T)\n",
    "x_rot = x_rot.T"
   ]
  },
  {
   "cell_type": "markdown",
   "metadata": {
    "id": "v0oZCLDPiHm3"
   },
   "source": [
    "1. Fit a linear Logistic Regression model and Decision Tree on the x_rot\n",
    "2. Fit a linear Logistic Regression model and Decision tree on the make_moons dataset generated in A(1)\n"
   ]
  },
  {
   "cell_type": "code",
   "execution_count": 18,
   "metadata": {
    "colab": {
     "base_uri": "https://localhost:8080/",
     "height": 51
    },
    "id": "7VLi1gpuiHm4",
    "outputId": "01882294-a1d8-4967-90f2-37be4b764e1d"
   },
   "outputs": [
    {
     "name": "stdout",
     "output_type": "stream",
     "text": [
      "Accuracy for logistic regression 0.99\n",
      "Accuracy for decision tree classifier 1.0\n"
     ]
    }
   ],
   "source": [
    "from sklearn.linear_model import LogisticRegression\n",
    "from sklearn.model_selection import train_test_split\n",
    "from sklearn.metrics import accuracy_score\n",
    "\n",
    "#X_train,X_test,y_train,y_test=train_test_split(x_rot,y,test_size=0.2,random_state=100)\n",
    "lr=LogisticRegression()\n",
    "lr.fit(x_rot,y)\n",
    "print('Accuracy for logistic regression',accuracy_score(lr.predict(x_rot),y))\n",
    "\n",
    "tree=DecisionTreeClassifier()\n",
    "tree.fit(x_rot,y)\n",
    "print('Accuracy for decision tree classifier',accuracy_score(tree.predict(x_rot),y))"
   ]
  },
  {
   "cell_type": "code",
   "execution_count": 19,
   "metadata": {
    "colab": {
     "base_uri": "https://localhost:8080/",
     "height": 51
    },
    "id": "g3K_Ho0cqjTr",
    "outputId": "37d74ef2-51f8-4345-b373-83cc501c6031"
   },
   "outputs": [
    {
     "name": "stdout",
     "output_type": "stream",
     "text": [
      "Accuracy for logistic regression 0.86\n",
      "Accuracy for decision tree classifier 1.0\n"
     ]
    }
   ],
   "source": [
    "#X_train,X_test,y_train,y_test=train_test_split(data[0],data[1],test_size=0.1,random_state=100)\n",
    "lr=LogisticRegression()\n",
    "lr.fit(data[0],data[1])\n",
    "print('Accuracy for logistic regression',accuracy_score(lr.predict(data[0]),data[1]))\n",
    "\n",
    "tree=DecisionTreeClassifier()\n",
    "tree.fit(data[0],data[1])\n",
    "print('Accuracy for decision tree classifier',accuracy_score(tree.predict(data[0]),data[1]))"
   ]
  },
  {
   "cell_type": "markdown",
   "metadata": {
    "id": "kiM90_AhiHm-"
   },
   "source": [
    "#### Q. Compare the performance of Decision Trees and logistic regression on the two datasets"
   ]
  },
  {
   "cell_type": "markdown",
   "metadata": {
    "id": "l48pGoMvWBmO"
   },
   "source": [
    "**Ans:** The Decision tree model overfits with a train accuracy 1.0, where as the logistic regression model has a less train accuracy, which means it generalizes well with unknown data. "
   ]
  },
  {
   "cell_type": "markdown",
   "metadata": {
    "id": "6XogoUY1iHnF"
   },
   "source": [
    "### D. Regression using decision trees"
   ]
  },
  {
   "cell_type": "markdown",
   "metadata": {
    "id": "Lh8sSpqXiHnG"
   },
   "source": [
    "1. Train a regression tree on the noisy sine dataset given below with three different max_depth values : $2, 3$ and $4$.\n",
    "2. Plot the divisions of the input space and the predicted value in each division of the input space using the helper function plot_regression_predictions provided to you below for each regression tree model in (1)."
   ]
  },
  {
   "cell_type": "code",
   "execution_count": 20,
   "metadata": {
    "id": "cGtL0eeNiHnH"
   },
   "outputs": [],
   "source": [
    "def plot_regression_predictions(tree_reg, X, y, axes=[0, 1, -0.2, 1], ylabel=\"$y$\"):\n",
    "    x1 = np.linspace(axes[0], axes[1], 500).reshape(-1, 1)\n",
    "    y_pred = tree_reg.predict(x1)\n",
    "    plt.axis(axes)\n",
    "    plt.xlabel(\"$x_1$\", fontsize=18)\n",
    "    if ylabel:\n",
    "        plt.ylabel(ylabel, fontsize=18, rotation=0)\n",
    "    plt.plot(X, y, \"b.\")\n",
    "    plt.plot(x1, y_pred, \"r.-\", linewidth=2, label=r\"$\\hat{y}$\")\n",
    "\n",
    "#Sine + noise training set \n",
    "np.random.seed(10)\n",
    "X = np.random.rand(150, 1)\n",
    "y = np.sin(2*np.pi*X) + np.random.randn(150, 1) / 10"
   ]
  },
  {
   "cell_type": "code",
   "execution_count": 21,
   "metadata": {
    "colab": {
     "base_uri": "https://localhost:8080/",
     "height": 358
    },
    "id": "ONW9MOmRiHnN",
    "outputId": "8b16c54a-536c-4931-e39f-71f44a34b039"
   },
   "outputs": [
    {
     "data": {
      "image/png": "[encoded data removed]",
      "text/plain": [
       "<Figure size 720x360 with 3 Axes>"
      ]
     },
     "metadata": {
      "needs_background": "light",
      "tags": []
     },
     "output_type": "display_data"
    }
   ],
   "source": [
    "from sklearn.tree import DecisionTreeRegressor\n",
    "plt.figure(figsize=[10,5])\n",
    "for i in [2,3,4]:\n",
    "  tree=DecisionTreeRegressor(max_depth=i)\n",
    "  tree.fit(X,y)\n",
    "  plt.subplot(1,3,i-1)\n",
    "  plt.title('max_depth='+str(i))\n",
    "  plot_regression_predictions(tree,X,y)"
   ]
  },
  {
   "cell_type": "markdown",
   "metadata": {
    "id": "xM6Qwk0ViHnS"
   },
   "source": [
    "### E. Overfitting in regression trees"
   ]
  },
  {
   "cell_type": "markdown",
   "metadata": {
    "id": "aGys08Z3iHnV"
   },
   "source": [
    "1. Fit another regression tree on the dataset used above, with no restrictions on the regularization hyperparameters of the model. Plot the predicted value in all input space divisions.\n",
    "2. What do you observe? Do regression trees too have a tendency to overfit if no regularization is applied? \n",
    "\n",
    "**Ans:** If no regularization is applied as shown in below figure, the model passes through almost every point which means it literally overfits. But the models with max_depth parameter, doesn't overfit and generalizes well.  "
   ]
  },
  {
   "cell_type": "code",
   "execution_count": 22,
   "metadata": {
    "colab": {
     "base_uri": "https://localhost:8080/",
     "height": 320
    },
    "id": "oKtFjA66iHnW",
    "outputId": "847a4057-3c3c-4fdb-8ae9-8bafc5aaac0a"
   },
   "outputs": [
    {
     "data": {
      "text/plain": [
       "Text(0.5, 1.0, 'no regularization')"
      ]
     },
     "execution_count": 22,
     "metadata": {
      "tags": []
     },
     "output_type": "execute_result"
    },
    {
     "data": {
      "image/png": "[encoded data removed]",
      "text/plain": [
       "<Figure size 432x288 with 1 Axes>"
      ]
     },
     "metadata": {
      "needs_background": "light",
      "tags": []
     },
     "output_type": "display_data"
    }
   ],
   "source": [
    "tree=DecisionTreeRegressor()\n",
    "tree.fit(X,y)\n",
    "plot_regression_predictions(tree,X,y)\n",
    "plt.title('no regularization')"
   ]
  },
  {
   "cell_type": "markdown",
   "metadata": {
    "id": "kmUAHD1siHne"
   },
   "source": [
    "### F. Fine-tuning a decision tree "
   ]
  },
  {
   "cell_type": "markdown",
   "metadata": {
    "id": "6QW3nHrfiHng"
   },
   "source": [
    "1. Generate a moons dataset using make_moons (n_samples=$10000$, noise=$0.5$). Random seed = 42 \n",
    "2. Split it into a training set and a test set. \n",
    "3. Use grid search with cross-validation (with the help of GridSearchCV) to find good hyperparameter values for max_leaf_nodes and min_samples_split. Try values ranging from $2$ to $35$ for max_leaf_nodes and $2$ to $10$ for min_samples_split. Report the optimal hyperparameter values.\n",
    "4. Train the decision tree classifier on the full training set using these optimal hyperparameters, and report your model's performance on the test set."
   ]
  },
  {
   "cell_type": "code",
   "execution_count": null,
   "metadata": {
    "colab": {
     "base_uri": "https://localhost:8080/",
     "height": 34
    },
    "id": "OZ7B-2_GiHnh",
    "outputId": "49cecb21-7fa5-41a6-dc66-59f4b19463f5"
   },
   "outputs": [
    {
     "data": {
      "text/plain": [
       "{'max_leaf_nodes': 18, 'min_samples_split': 2}"
      ]
     },
     "execution_count": 38,
     "metadata": {
      "tags": []
     },
     "output_type": "execute_result"
    }
   ],
   "source": [
    "data=datasets.make_moons(n_samples=10000, noise=0.5, random_state=42)\n",
    "X_train,X_test,y_train,y_test=train_test_split(data[0],data[1],test_size=0.2,random_state=100)\n",
    "from sklearn.model_selection import GridSearchCV\n",
    "tree=DecisionTreeClassifier()\n",
    "param_grid = {'max_leaf_nodes':range(2,36),'min_samples_split':range(2,11)}\n",
    "search = GridSearchCV(tree, param_grid)\n",
    "search.fit(data[0],data[1])\n",
    "search.best_params_"
   ]
  },
  {
   "cell_type": "markdown",
   "metadata": {
    "id": "xN8ycJO2Rjcp"
   },
   "source": [
    "Accuracy"
   ]
  },
  {
   "cell_type": "code",
   "execution_count": null,
   "metadata": {
    "colab": {
     "base_uri": "https://localhost:8080/",
     "height": 34
    },
    "id": "cjoaE1I6RQxP",
    "outputId": "9f4285d2-3eed-428c-bb4f-11f07753fbcd"
   },
   "outputs": [
    {
     "data": {
      "text/plain": [
       "0.8275"
      ]
     },
     "execution_count": 39,
     "metadata": {
      "tags": []
     },
     "output_type": "execute_result"
    }
   ],
   "source": [
    "y_pred=search.predict(X_test)\n",
    "accuracy_score(y_test,y_pred)"
   ]
  },
  {
   "cell_type": "markdown",
   "metadata": {
    "id": "cBc2GevJiHnp"
   },
   "source": [
    "### G. Training the Random Forest model\n",
    "1. Load the loans dataset and use one-hot encoding for the column 'purpose'\n",
    "2. Split the data into test and train sets with ratio 70:30 with random seed = 101\n",
    "3. Create an instance of the RandomForestClassifier class and fit it to our training data from the previous step.\n",
    "4. Predict the class of not.fully.paid for the X_test data\n",
    "5. Now create a classification report from the results. Do you get anything strange or some sort of warning?"
   ]
  },
  {
   "cell_type": "code",
   "execution_count": null,
   "metadata": {
    "id": "NNiPyPIXiHnr"
   },
   "outputs": [],
   "source": [
    "loan_data=pd.read_csv('loan_data.csv')\n",
    "from sklearn.preprocessing import OneHotEncoder\n",
    "from sklearn.ensemble import RandomForestClassifier\n",
    "from sklearn.metrics import classification_report\n",
    "\n",
    "rfc=RandomForestClassifier()\n",
    "\n",
    "dummy=pd.get_dummies(loan_data.purpose)\n",
    "loan_data= pd.concat([loan_data, dummy], axis=1)\n",
    "loan_data=loan_data.drop('purpose',axis=1)\n",
    "\n",
    "X_train,X_test,y_train,y_test=train_test_split(loan_data.drop('not.fully.paid',axis=1),loan_data['not.fully.paid'],test_size=0.3,random_state=101)\n",
    "rfc.fit(X_train,y_train)\n",
    "y_pred=rfc.predict(X_test)"
   ]
  },
  {
   "cell_type": "code",
   "execution_count": null,
   "metadata": {
    "colab": {
     "base_uri": "https://localhost:8080/",
     "height": 170
    },
    "id": "L-4MokcFS7MD",
    "outputId": "506098ee-8a9d-4bfb-bb3d-269899fd01dd"
   },
   "outputs": [
    {
     "name": "stdout",
     "output_type": "stream",
     "text": [
      "              precision    recall  f1-score   support\n",
      "\n",
      "           0       0.85      0.99      0.91      2431\n",
      "           1       0.32      0.01      0.03       443\n",
      "\n",
      "    accuracy                           0.84      2874\n",
      "   macro avg       0.58      0.50      0.47      2874\n",
      "weighted avg       0.77      0.84      0.78      2874\n",
      "\n"
     ]
    }
   ],
   "source": [
    "print(classification_report(y_test,y_pred))\n"
   ]
  },
  {
   "cell_type": "markdown",
   "metadata": {
    "id": "lCmjLr26xpxp"
   },
   "source": [
    "**Observation:**\n",
    "\n",
    "1) Here we can observe that the number of data points with label 0 is much higher than label 1 (2431>443). Also the f1-score for label 1 is 0.03, recall is 0.01, which implies that among the predicted 1, only a few are correct. Which in turn affects the model. "
   ]
  }
 ],
 "metadata": {
  "colab": {
   "collapsed_sections": [],
   "name": "week8_MM17B105.ipynb",
   "provenance": []
  },
  "kernelspec": {
   "display_name": "Python 3",
   "language": "python",
   "name": "python3"
  },
  "language_info": {
   "codemirror_mode": {
    "name": "ipython",
    "version": 3
   },
   "file_extension": ".py",
   "mimetype": "text/x-python",
   "name": "python",
   "nbconvert_exporter": "python",
   "pygments_lexer": "ipython3",
   "version": "3.7.4"
  }
 },
 "nbformat": 4,
 "nbformat_minor": 1
}
