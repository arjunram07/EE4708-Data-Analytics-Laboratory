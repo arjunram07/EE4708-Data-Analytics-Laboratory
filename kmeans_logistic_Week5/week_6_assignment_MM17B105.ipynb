{
  "nbformat": 4,
  "nbformat_minor": 0,
  "metadata": {
    "kernelspec": {
      "display_name": "Python 3",
      "language": "python",
      "name": "python3"
    },
    "language_info": {
      "codemirror_mode": {
        "name": "ipython",
        "version": 3
      },
      "file_extension": ".py",
      "mimetype": "text/x-python",
      "name": "python",
      "nbconvert_exporter": "python",
      "pygments_lexer": "ipython3",
      "version": "3.8.5"
    },
    "colab": {
      "name": "week-6-assignment.ipynb",
      "provenance": [],
      "collapsed_sections": [],
      "toc_visible": true
    }
  },
  "cells": [
    {
      "cell_type": "markdown",
      "metadata": {
        "id": "AZsuD4AIhkNo",
        "colab_type": "text"
      },
      "source": [
        "## Week 6: Assignment"
      ]
    },
    {
      "cell_type": "markdown",
      "metadata": {
        "id": "EBZvo3HmhkNp",
        "colab_type": "text"
      },
      "source": [
        "## K-means Clustering"
      ]
    },
    {
      "cell_type": "code",
      "metadata": {
        "id": "LrZKFyJ6hkNr",
        "colab_type": "code",
        "colab": {}
      },
      "source": [
        "import pandas as pd\n",
        "import numpy as np\n",
        "import matplotlib.pyplot as plt"
      ],
      "execution_count": 1,
      "outputs": []
    },
    {
      "cell_type": "markdown",
      "metadata": {
        "id": "lb4Au2RghkN2",
        "colab_type": "text"
      },
      "source": [
        "**(1a) Load the data file 'kmc-data1.csv' and visualize the data.**"
      ]
    },
    {
      "cell_type": "code",
      "metadata": {
        "id": "xKPP_PUDhkN4",
        "colab_type": "code",
        "colab": {
          "base_uri": "https://localhost:8080/",
          "height": 282
        },
        "outputId": "21f5f811-0c67-4773-e5b6-e0a97bba34fe"
      },
      "source": [
        "kmcdata1=pd.read_csv('kmc-data1.csv',header=None)\n",
        "plt.scatter(kmcdata1[0],kmcdata1[1])"
      ],
      "execution_count": null,
      "outputs": [
        {
          "output_type": "execute_result",
          "data": {
            "text/plain": [
              "<matplotlib.collections.PathCollection at 0x7f987394e470>"
            ]
          },
          "metadata": {
            "tags": []
          },
          "execution_count": 2
        },
        {
          "output_type": "display_data",
          "data": {
            "image/png": "[encoded data removed]",
            "text/plain": [
              "<Figure size 432x288 with 1 Axes>"
            ]
          },
          "metadata": {
            "tags": [],
            "needs_background": "light"
          }
        }
      ]
    },
    {
      "cell_type": "markdown",
      "metadata": {
        "id": "a1R6UBeohkOE",
        "colab_type": "text"
      },
      "source": [
        "**(1b) Consider the case where K=1. Take centre as $[6.67,8.33]$ and calculate Within Cluster Sum of Squares (WCSS)**"
      ]
    },
    {
      "cell_type": "markdown",
      "metadata": {
        "id": "n1y_kwLJhkOH",
        "colab_type": "text"
      },
      "source": [
        "![Clustering_kmeans_c.png](attachment:Clustering_kmeans_c.png)"
      ]
    },
    {
      "cell_type": "code",
      "metadata": {
        "id": "Ltjh6_C4hkOJ",
        "colab_type": "code",
        "colab": {
          "base_uri": "https://localhost:8080/",
          "height": 34
        },
        "outputId": "865881d4-36a6-4373-d42a-c08e12696e43"
      },
      "source": [
        "dist=0\n",
        "data=kmcdata1.to_numpy()\n",
        "for i in range(len(kmcdata1)):\n",
        "  dist=dist+((data[i][0]-6.67)**2+(data[i][1]-8.33)**2)\n",
        "print('Within Cluster Sum of Squares for k=1 and centroid [6.67,8.33] is',dist)"
      ],
      "execution_count": null,
      "outputs": [
        {
          "output_type": "stream",
          "text": [
            "Within Cluster Sum of Squares for k=1 and centroid [6.67,8.33] is 73409.43272669794\n"
          ],
          "name": "stdout"
        }
      ]
    },
    {
      "cell_type": "markdown",
      "metadata": {
        "id": "nMVDke73hkOS",
        "colab_type": "text"
      },
      "source": [
        "**(1c) Write a function to find which class each point belongs to given the centroids and value of K**\n",
        "\n",
        "Hint: data has dimensions (m x n), centroids has dimensions (K x n)"
      ]
    },
    {
      "cell_type": "code",
      "metadata": {
        "id": "jGZu6KVXhkOq",
        "colab_type": "code",
        "colab": {}
      },
      "source": [
        "import numpy as np\n",
        "def get_class(data,centroids,K):\n",
        "    size = data.shape[0]\n",
        "    data_class = np.zeros([size])\n",
        "    dist=[]\n",
        "    for i in range(size):\n",
        "      for j in range(K):\n",
        "        dist.append((j+1,((data[i]-centroids[j])**2).sum()))\n",
        "      dist.sort(key=lambda x:x[1])\n",
        "      data_class[i]=dist[0][0]\n",
        "      dist=[]\n",
        "    return(data_class)"
      ],
      "execution_count": null,
      "outputs": []
    },
    {
      "cell_type": "markdown",
      "metadata": {
        "id": "qdkgMWrphkPN",
        "colab_type": "text"
      },
      "source": [
        "**(1d) Write a function to find the centroids given the data points and the corresponding class**"
      ]
    },
    {
      "cell_type": "code",
      "metadata": {
        "id": "jAUR2ZUghkPP",
        "colab_type": "code",
        "colab": {}
      },
      "source": [
        "def get_centroids(data,data_class,K):\n",
        "    dim = data.shape[1]\n",
        "    centroids=[]\n",
        "    for i in range(1,K+1):\n",
        "      sum=[[0,0]]\n",
        "      for j in np.where(data_class==i)[0]:\n",
        "        sum=sum+data[j]\n",
        "      centroids.append(sum*(1/len(np.where(data_class==i)[0])))\n",
        "    return(centroids)"
      ],
      "execution_count": null,
      "outputs": []
    },
    {
      "cell_type": "markdown",
      "metadata": {
        "id": "r1NC12Y7hkPZ",
        "colab_type": "text"
      },
      "source": [
        "**(1e) Write a function to calculate WCSS given the data points, the centroids and K** "
      ]
    },
    {
      "cell_type": "code",
      "metadata": {
        "id": "t_5CRxkKhkPa",
        "colab_type": "code",
        "colab": {}
      },
      "source": [
        "def wcss(data,centroids,K):\n",
        "    wcss_clusterwise = [] \n",
        "    data_class=get_class(data,centroids,K)\n",
        "    for i in range(1,K+1):\n",
        "      sum=0\n",
        "      for j in np.where(data_class==i)[0]:\n",
        "        sum=sum+(((centroids[i-1][0]-data[j])**2).sum())\n",
        "      wcss_clusterwise.append(sum)\n",
        "    wcss = np.sum(wcss_clusterwise) \n",
        "    return(wcss)"
      ],
      "execution_count": null,
      "outputs": []
    },
    {
      "cell_type": "markdown",
      "metadata": {
        "id": "ZRA1BVjGhkPl",
        "colab_type": "text"
      },
      "source": [
        "**K Means Algorithm:<br>**\n",
        "    1) Allocate a class to each data point given the initial centroids<br>\n",
        "    2) Calculate the new centroids,i.e, the mean of the data points in each class<br>\n",
        "    3) Iterate till the stopping criteria. In our case the algorithm stops when the shift in each centroid is less than tolerance<br>\n",
        "    "
      ]
    },
    {
      "cell_type": "markdown",
      "metadata": {
        "id": "FSL1gWXjhkPn",
        "colab_type": "text"
      },
      "source": [
        "**(1f) Let $K = 3$ and the initial cluster centroids be $[10,30], [25,-5]$ and $[-5,10]$ and write a function to implement K-means clustering using functions defined above. Plot the final clusters with K-means clustering.<br> Take tolerance as $0.001$**"
      ]
    },
    {
      "cell_type": "code",
      "metadata": {
        "id": "AST1J6vMhkPo",
        "colab_type": "code",
        "colab": {}
      },
      "source": [
        "def kmeans(data,K,centroids):\n",
        "    data_class=get_class(data,centroids,K)\n",
        "    old_centroids=centroids\n",
        "    new_centroids=get_centroids(data,data_class,K)\n",
        "    while True:\n",
        "      if abs((new_centroids[0]-old_centroids).sum())>0.003:\n",
        "        data_class=get_class(data,new_centroids,K)\n",
        "        old_centroids=new_centroids[0]\n",
        "        new_centroids=get_centroids(data,data_class,K)\n",
        "      else:\n",
        "        break\n",
        "    return(new_centroids)"
      ],
      "execution_count": null,
      "outputs": []
    },
    {
      "cell_type": "code",
      "metadata": {
        "id": "BL5t4tW0DNFg",
        "colab_type": "code",
        "colab": {
          "base_uri": "https://localhost:8080/",
          "height": 68
        },
        "outputId": "88d31638-6f22-4243-d8fd-b52f0a6f81cf"
      },
      "source": [
        "centroid=kmeans(data,3,[[10,30],[25,-5],[-5,10]])\n",
        "centroid"
      ],
      "execution_count": null,
      "outputs": [
        {
          "output_type": "execute_result",
          "data": {
            "text/plain": [
              "[array([[ 5.57364328, 26.74003828]]),\n",
              " array([[20.17029606,  2.62716538]]),\n",
              " array([[-4.44269723, -4.99310089]])]"
            ]
          },
          "metadata": {
            "tags": []
          },
          "execution_count": 237
        }
      ]
    },
    {
      "cell_type": "markdown",
      "metadata": {
        "id": "Mn3uyTp3hkPy",
        "colab_type": "text"
      },
      "source": [
        "**(1g) Compute the sum of square distance of each point from the cluster centroid.**"
      ]
    },
    {
      "cell_type": "code",
      "metadata": {
        "id": "PUE8hXGkhkP0",
        "colab_type": "code",
        "colab": {
          "base_uri": "https://localhost:8080/",
          "height": 34
        },
        "outputId": "6eabce18-9d9f-4949-92cb-98e2a44719c1"
      },
      "source": [
        "wcss(data,centroid,3)"
      ],
      "execution_count": null,
      "outputs": [
        {
          "output_type": "execute_result",
          "data": {
            "text/plain": [
              "4936.722230493093"
            ]
          },
          "metadata": {
            "tags": []
          },
          "execution_count": 238
        }
      ]
    },
    {
      "cell_type": "markdown",
      "metadata": {
        "id": "pXNk67v8MoyN",
        "colab_type": "text"
      },
      "source": [
        "### Plot"
      ]
    },
    {
      "cell_type": "code",
      "metadata": {
        "id": "DMEx0IvzIS9V",
        "colab_type": "code",
        "colab": {
          "base_uri": "https://localhost:8080/",
          "height": 265
        },
        "outputId": "d089ebdd-d73f-41f8-d788-d8ad30b0597a"
      },
      "source": [
        "data_class=get_class(data,centroid,3)\n",
        "for i in range(1,4):\n",
        "  sum=[]\n",
        "  for j in np.where(data_class==i)[0]:\n",
        "    sum.append(data[j])\n",
        "  plt.scatter(np.array(sum)[:,0],np.array(sum)[:,1])\n",
        "  plt.plot(centroid[i-1][0][0],centroid[i-1][0][1],'ko')    "
      ],
      "execution_count": null,
      "outputs": [
        {
          "output_type": "display_data",
          "data": {
            "image/png": "[encoded data removed]",
            "text/plain": [
              "<Figure size 432x288 with 1 Axes>"
            ]
          },
          "metadata": {
            "tags": [],
            "needs_background": "light"
          }
        }
      ]
    },
    {
      "cell_type": "markdown",
      "metadata": {
        "id": "Rc26wD5bhkP8",
        "colab_type": "text"
      },
      "source": [
        "**(1h) Repeat the above exercise for $K = 1,2,3,4$. You can use appropriate initial centroids based on the visualization**\n",
        "\n",
        "**Plot the final clusters (for $K = 1,2,3,4$) and report the sum of square distance of each point from the cluster mean. Give your observations.**"
      ]
    },
    {
      "cell_type": "code",
      "metadata": {
        "id": "H3MYMdu0hkP-",
        "colab_type": "code",
        "colab": {}
      },
      "source": [
        "k_1=wcss(data,kmeans(data,1,[[10,10]])[0],1)\n",
        "k_2=wcss(data,kmeans(data,2,[[0,10],[20,10]]),2)\n",
        "k_3=wcss(data,kmeans(data,3,[[-10,-10],[20,0],[10,30]]),3)\n",
        "k_4=wcss(data,kmeans(data,4,[[-10,-10],[20,0],[25,20],[-5,20]]),4)"
      ],
      "execution_count": null,
      "outputs": []
    },
    {
      "cell_type": "code",
      "metadata": {
        "id": "yOGzoNVYQV8g",
        "colab_type": "code",
        "colab": {
          "base_uri": "https://localhost:8080/",
          "height": 279
        },
        "outputId": "4a64db26-909f-468e-943d-02ebcde52d39"
      },
      "source": [
        "plt.plot([1,2,3,4],[k_1,k_2,k_3,k_4])\n",
        "plt.xticks([1,2,3,4]);\n",
        "plt.xlabel('K-value');\n",
        "plt.ylabel('WCSS');"
      ],
      "execution_count": null,
      "outputs": [
        {
          "output_type": "display_data",
          "data": {
            "image/png": "[encoded data removed]",
            "text/plain": [
              "<Figure size 432x288 with 1 Axes>"
            ]
          },
          "metadata": {
            "tags": [],
            "needs_background": "light"
          }
        }
      ]
    },
    {
      "cell_type": "markdown",
      "metadata": {
        "id": "elyuuTu1SZ3K",
        "colab_type": "text"
      },
      "source": [
        "## Observations:\n",
        "\n",
        "### 1) The WCSS score decreases with k value. It reaches an almost constant value after 3. Hence, appropriate value of k is 3. "
      ]
    },
    {
      "cell_type": "markdown",
      "metadata": {
        "id": "3hI6RUBthkQl",
        "colab_type": "text"
      },
      "source": [
        "**(2a) Load the data from the file 'kmc-data2.csv' and visualize the data on a scatter plot.**"
      ]
    },
    {
      "cell_type": "code",
      "metadata": {
        "id": "3pMe5YO5hkQn",
        "colab_type": "code",
        "colab": {
          "base_uri": "https://localhost:8080/",
          "height": 265
        },
        "outputId": "47cfc1eb-0411-481c-da16-2230c4d868cc"
      },
      "source": [
        "kmcdata2=pd.read_csv('kmc-data2.csv',header=None)\n",
        "plt.scatter(kmcdata2[0],kmcdata2[1]);"
      ],
      "execution_count": 43,
      "outputs": [
        {
          "output_type": "display_data",
          "data": {
            "image/png": "[encoded data removed]",
            "text/plain": [
              "<Figure size 432x288 with 1 Axes>"
            ]
          },
          "metadata": {
            "tags": [],
            "needs_background": "light"
          }
        }
      ]
    },
    {
      "cell_type": "markdown",
      "metadata": {
        "id": "p8VyDUQUhkQv",
        "colab_type": "text"
      },
      "source": [
        "**(2b) Cluster the data with K-means clustering. Consider $K = 2$. (You can use scikit-learn library for to perform clustering)**"
      ]
    },
    {
      "cell_type": "code",
      "metadata": {
        "id": "J1WhB7LwhkQz",
        "colab_type": "code",
        "colab": {
          "base_uri": "https://localhost:8080/",
          "height": 265
        },
        "outputId": "9d14b102-f4d7-43b5-aac2-16ef021128cb"
      },
      "source": [
        "from sklearn.cluster import KMeans\n",
        "X=kmcdata2.to_numpy()\n",
        "kmeans = KMeans(n_clusters=2).fit(X)\n",
        "kmeans.cluster_centers_\n",
        "plt.scatter(X[kmeans.labels_== 0, 0], X[kmeans.labels_ == 0, 1],\n",
        "            c='green');\n",
        "plt.scatter(X[kmeans.labels_== 1, 0], X[kmeans.labels_== 1, 1],\n",
        "            c='orange');"
      ],
      "execution_count": 44,
      "outputs": [
        {
          "output_type": "display_data",
          "data": {
            "image/png": "[encoded data removed]",
            "text/plain": [
              "<Figure size 432x288 with 1 Axes>"
            ]
          },
          "metadata": {
            "tags": [],
            "needs_background": "light"
          }
        }
      ]
    },
    {
      "cell_type": "markdown",
      "metadata": {
        "id": "4BGQf4rjhkRT",
        "colab_type": "text"
      },
      "source": [
        "**(2c) Suppose you want to identify two ring clusters as visualised in the scatter plot. Now, transform the data such that K-means clustering identifies the two ring clusters.**\n"
      ]
    },
    {
      "cell_type": "markdown",
      "metadata": {
        "id": "L7s6FKBIKsB2",
        "colab_type": "text"
      },
      "source": [
        "### Here as the points are in a circle it is better to convert the cartesian coordinates into Polar coordinates. So that points in a circle have same radius 'r' and can be clustered into a same group."
      ]
    },
    {
      "cell_type": "markdown",
      "metadata": {
        "id": "bylnB-k9LTaY",
        "colab_type": "text"
      },
      "source": [
        "### X_new is the new data which is the transformed data from cartesian to polar."
      ]
    },
    {
      "cell_type": "code",
      "metadata": {
        "id": "4rOeD6_NhkRX",
        "colab_type": "code",
        "colab": {}
      },
      "source": [
        "X_new=[]\n",
        "for i in range(len(X)):\n",
        "  r = np.sqrt(X[i][0]**2+X[i][1]**2)\n",
        "  t = np.arctan2(X[i][1],X[i][0])\n",
        "  X_new.append((t,r))"
      ],
      "execution_count": 67,
      "outputs": []
    },
    {
      "cell_type": "markdown",
      "metadata": {
        "id": "mFb7CeyNLgdD",
        "colab_type": "text"
      },
      "source": [
        "###Plot of the new data. From this we can see that the data is clearly separated in accordance to their radius.\n"
      ]
    },
    {
      "cell_type": "code",
      "metadata": {
        "id": "_JlSMgjaNSUO",
        "colab_type": "code",
        "colab": {
          "base_uri": "https://localhost:8080/",
          "height": 283
        },
        "outputId": "d65da92c-afb1-47b8-fc55-97ebe4356aea"
      },
      "source": [
        "X_new=np.array(X_new)\n",
        "plt.scatter(X_new[:,0],X_new[:,1])"
      ],
      "execution_count": 81,
      "outputs": [
        {
          "output_type": "execute_result",
          "data": {
            "text/plain": [
              "<matplotlib.collections.PathCollection at 0x7f21fca1fba8>"
            ]
          },
          "metadata": {
            "tags": []
          },
          "execution_count": 81
        },
        {
          "output_type": "display_data",
          "data": {
            "image/png": "[encoded data removed]",
            "text/plain": [
              "<Figure size 432x288 with 1 Axes>"
            ]
          },
          "metadata": {
            "tags": [],
            "needs_background": "light"
          }
        }
      ]
    },
    {
      "cell_type": "markdown",
      "metadata": {
        "id": "rqHpv3TzLvgo",
        "colab_type": "text"
      },
      "source": [
        "## Using K-Means to cluster the data into two concentric circles."
      ]
    },
    {
      "cell_type": "code",
      "metadata": {
        "id": "A4Ie2E5pyXpX",
        "colab_type": "code",
        "colab": {
          "base_uri": "https://localhost:8080/",
          "height": 265
        },
        "outputId": "03539918-51b5-4032-b000-5813ca8953cd"
      },
      "source": [
        "startpts=np.array([[0, 5],[0,3]])\n",
        "kmeans = KMeans(n_clusters=2,init=startpts,n_init=1).fit(X_new)\n",
        "plt.scatter(X[kmeans.labels_== 0, 0], X[kmeans.labels_ == 0, 1],\n",
        "            c='green');\n",
        "plt.scatter(X[kmeans.labels_== 1, 0], X[kmeans.labels_== 1, 1],\n",
        "            c='orange');"
      ],
      "execution_count": 80,
      "outputs": [
        {
          "output_type": "display_data",
          "data": {
            "image/png": "[encoded data removed]",
            "text/plain": [
              "<Figure size 432x288 with 1 Axes>"
            ]
          },
          "metadata": {
            "tags": [],
            "needs_background": "light"
          }
        }
      ]
    },
    {
      "cell_type": "markdown",
      "metadata": {
        "id": "Xu8Xj80LhkSD",
        "colab_type": "text"
      },
      "source": [
        "**(3) Perform K-means clustering on Bank note dataset (attached) which is a classification dataset. Split the data into test and train (80:20 ratio with random seed=0). Perform clustering on the training data and predict labels for test data based on the clusters obtained. Compare the predictions with actual labels and report accuracy. (You can use scikit-learn library for K-means and train-test split and accuracy)**"
      ]
    },
    {
      "cell_type": "code",
      "metadata": {
        "id": "tvFBIsoGhkSF",
        "colab_type": "code",
        "colab": {}
      },
      "source": [
        "from sklearn.model_selection import train_test_split\n",
        "from sklearn.metrics import accuracy_score\n",
        "data=pd.read_csv('data_banknote_authentication.csv',header=None)\n",
        "X=data[[0,1,2,3]].to_numpy()\n",
        "y=data[4].to_numpy()\n",
        "X_train,X_test,y_train,y_test=train_test_split(X,y,test_size=0.2,random_state=0)"
      ],
      "execution_count": 3,
      "outputs": []
    },
    {
      "cell_type": "code",
      "metadata": {
        "id": "q5XPnAt-SyEU",
        "colab_type": "code",
        "colab": {
          "base_uri": "https://localhost:8080/",
          "height": 35
        },
        "outputId": "763453c0-72d7-4d55-9e09-e72e86dea1c7"
      },
      "source": [
        "kmeans = KMeans(n_clusters=2, random_state=0).fit(X_train)\n",
        "y_pred=[]\n",
        "for i in range(len(X_test)):\n",
        "  y_pred.append(kmeans.predict(X_test[i].reshape(-1,4)))\n",
        "accuracy_score(y_test,y_pred)"
      ],
      "execution_count": 6,
      "outputs": [
        {
          "output_type": "execute_result",
          "data": {
            "text/plain": [
              "0.6690909090909091"
            ]
          },
          "metadata": {
            "tags": []
          },
          "execution_count": 6
        }
      ]
    },
    {
      "cell_type": "markdown",
      "metadata": {
        "id": "tKbaAydIhkSN",
        "colab_type": "text"
      },
      "source": [
        "## Logistic Regression"
      ]
    },
    {
      "cell_type": "markdown",
      "metadata": {
        "id": "TR0qwTEwhkSP",
        "colab_type": "text"
      },
      "source": [
        "Logistic Regression uses the sigmoid function for binary classification. \n",
        "\n",
        "**(4a) Plot the sigmoid function $\\frac{1}{1+e^{-x}}$ for x in the range [-20,20] at 100 equally spaced values. This exercise will help you understand the shape of the sigmoid function and show its relevance in binary classification problems**"
      ]
    },
    {
      "cell_type": "code",
      "metadata": {
        "id": "zEe00JHchkSU",
        "colab_type": "code",
        "colab": {
          "base_uri": "https://localhost:8080/",
          "height": 282
        },
        "outputId": "8dbc3b14-e946-46aa-dae8-52078b4ae805"
      },
      "source": [
        "x=np.linspace(-20,20,100)\n",
        "y=1/(1+np.exp(-x))\n",
        "plt.plot(x,y)"
      ],
      "execution_count": null,
      "outputs": [
        {
          "output_type": "execute_result",
          "data": {
            "text/plain": [
              "[<matplotlib.lines.Line2D at 0x7f695ca33630>]"
            ]
          },
          "metadata": {
            "tags": []
          },
          "execution_count": 89
        },
        {
          "output_type": "display_data",
          "data": {
            "image/png": "[encoded data removed]",
            "text/plain": [
              "<Figure size 432x288 with 1 Axes>"
            ]
          },
          "metadata": {
            "tags": [],
            "needs_background": "light"
          }
        }
      ]
    },
    {
      "cell_type": "markdown",
      "metadata": {
        "id": "vUpIqnRQhkSo",
        "colab_type": "text"
      },
      "source": [
        "**(4b) Comment on the nature of the sigmoid function graph (specifically : domain,range,behaviour in extreme inputs).**\n",
        "\n",
        "**Domain:** The domain of the sigmoid function is -inf to +inf\n",
        "\n",
        "**Range:** The range of the sigmoid function is [0,1]\n",
        "\n",
        "And at extreme points the value of the function approaches 1 and 0 for +inf and -inf respectively.\n"
      ]
    },
    {
      "cell_type": "markdown",
      "metadata": {
        "id": "bYoACg0ahkTM",
        "colab_type": "text"
      },
      "source": [
        "**(4c) Using the derivative formula of sigmoid function, plot the gradients of the sigmoid function for the 100 values in the range [-20,20].**"
      ]
    },
    {
      "cell_type": "code",
      "metadata": {
        "id": "RwKHWBs6hkTN",
        "colab_type": "code",
        "colab": {
          "base_uri": "https://localhost:8080/",
          "height": 265
        },
        "outputId": "5380a1f6-69d4-44bf-e7b4-702a01edc10e"
      },
      "source": [
        "from scipy.misc import derivative\n",
        "import numpy as np\n",
        "f=lambda x: 1/(1+np.exp(-x))\n",
        "x=np.linspace(-20,20,100)\n",
        "y=derivative(f,x)\n",
        "plt.plot(x,y);"
      ],
      "execution_count": 14,
      "outputs": [
        {
          "output_type": "display_data",
          "data": {
            "image/png": "[encoded data removed]",
            "text/plain": [
              "<Figure size 432x288 with 1 Axes>"
            ]
          },
          "metadata": {
            "tags": [],
            "needs_background": "light"
          }
        }
      ]
    },
    {
      "cell_type": "markdown",
      "metadata": {
        "id": "9UqAHFw8hkTV",
        "colab_type": "text"
      },
      "source": [
        "**Consider the given data X_logistic.txt and y_logistic.txt. Perform random shuffle and then split the data as train-validation-test sets in the ratio of 80:10:10. Note that the y value gives the class label (0 or 1).** \n",
        "\n",
        "**(5a) Implement logistic regression (using only numpy) to predict whether the test datapoints belong to class 0 or 1. Gradient descent also has to be implemented using numpy. Choose the best learning rate parameter between 0.001, 0.01, 0.1 and the number of iterations between 50, 100 and 1000 by using validation dataset. Using the chosen model (best learning rate and number of iterations), report the prediction accuracy on test data. Use a random initialization of weights.**\n",
        "\n"
      ]
    },
    {
      "cell_type": "code",
      "metadata": {
        "id": "rs2p8rNIhkTX",
        "colab_type": "code",
        "colab": {}
      },
      "source": [
        "X=pd.read_csv('X_logistic.txt',sep=' ',header=None)\n",
        "y=pd.read_csv('y_logistic.txt',sep=' ',header=None)\n",
        "X.insert(0,'bias',1);        ## Added a bias term\n",
        "X=X.to_numpy()\n",
        "y=y.to_numpy()\n",
        "X_train,X_val,y_train,y_val=train_test_split(X,y,test_size=0.2,random_state=10)\n",
        "X_test,X_val,y_test,y_val=train_test_split(X_val,y_val,test_size=0.5,random_state=10)"
      ],
      "execution_count": 7,
      "outputs": []
    },
    {
      "cell_type": "code",
      "metadata": {
        "id": "jNJjQeSyhkUh",
        "colab_type": "code",
        "colab": {}
      },
      "source": [
        "def sigmoid(x,theta): \n",
        "    z=x*theta\n",
        "    return 1/(1+np.exp(-z))\n",
        "def gradient(x_train,y_train,theta):\n",
        "    grad=np.transpose([np.zeros(len(theta))]);\n",
        "    for i in range(len(x_train)):\n",
        "        c=float(sigmoid(x_train[i],theta)-y_train[i])\n",
        "        x1=np.transpose([[x_train[i,0],x_train[i,1],x_train[i,2]]])\n",
        "        grad=grad+np.dot(c,x1)\n",
        "    return grad\n",
        "\n",
        "def gradient_descent(X_train,y_train,alpha,iterations,initial_theta):\n",
        "  b1=b;\n",
        "  iter=0\n",
        "  while True: #looping over to find the minima\n",
        "    iter+=1\n",
        "    b2=b1;\n",
        "    b1=b1-(np.dot(alpha/len(X_train),(gradient(X_train,y_train,b1))));\n",
        "    if iter==iterations:\n",
        "      break\n",
        "  return b1\n"
      ],
      "execution_count": 8,
      "outputs": []
    },
    {
      "cell_type": "markdown",
      "metadata": {
        "id": "xa1nfAHCo6H3",
        "colab_type": "text"
      },
      "source": [
        "## Choosing parameters "
      ]
    },
    {
      "cell_type": "markdown",
      "metadata": {
        "id": "hwdR7zaqq_uK",
        "colab_type": "text"
      },
      "source": [
        "## For 50 iterations\n"
      ]
    },
    {
      "cell_type": "code",
      "metadata": {
        "id": "ylpryjgchnKc",
        "colab_type": "code",
        "colab": {
          "base_uri": "https://localhost:8080/",
          "height": 35
        },
        "outputId": "df206646-0c8d-4c23-a154-d60d16d2d8e1"
      },
      "source": [
        "b=np.transpose(np.matrix([0,0,0]))   #initialization\n",
        "theta=[]  \n",
        "for i in [0.1,0.01,0.001]:\n",
        "  theta.append(gradient_descent(X_train,y_train,i,50,b))\n",
        "accuracy=[]\n",
        "for i in theta:\n",
        "  predicted=list([1/(1+np.exp(-x)) for x in X_val*i])\n",
        "  correct_prediction=0\n",
        "  for i in range(len(X_val)):\n",
        "    if abs(float(predicted[i])-y_val[i])<0.5:\n",
        "      correct_prediction+=1;\n",
        "  accuracy.append(correct_prediction/len(X_val))\n",
        "accuracy"
      ],
      "execution_count": 9,
      "outputs": [
        {
          "output_type": "execute_result",
          "data": {
            "text/plain": [
              "[0.9, 0.4, 0.4]"
            ]
          },
          "metadata": {
            "tags": []
          },
          "execution_count": 9
        }
      ]
    },
    {
      "cell_type": "markdown",
      "metadata": {
        "id": "uWRuzuPXq6bU",
        "colab_type": "text"
      },
      "source": [
        "###For 100 iterations\n"
      ]
    },
    {
      "cell_type": "code",
      "metadata": {
        "id": "N_ss6qSHnPCf",
        "colab_type": "code",
        "colab": {
          "base_uri": "https://localhost:8080/",
          "height": 35
        },
        "outputId": "b5e319b4-689c-40b1-c433-61c44fadc485"
      },
      "source": [
        "b=np.transpose(np.matrix([0,0,0]))   #initialization\n",
        "theta=[]  \n",
        "for i in [0.1,0.01,0.001]:\n",
        "  theta.append(gradient_descent(X_train,y_train,i,100,b))\n",
        "accuracy=[]\n",
        "for i in theta:\n",
        "  predicted=list([1/(1+np.exp(-x)) for x in X_val*i])\n",
        "  correct_prediction=0\n",
        "  for i in range(len(X_val)):\n",
        "    if abs(float(predicted[i])-y_val[i])<0.5:\n",
        "      correct_prediction+=1;\n",
        "  accuracy.append(correct_prediction/len(X_val))\n",
        "accuracy"
      ],
      "execution_count": 10,
      "outputs": [
        {
          "output_type": "execute_result",
          "data": {
            "text/plain": [
              "[0.9, 0.9, 0.4]"
            ]
          },
          "metadata": {
            "tags": []
          },
          "execution_count": 10
        }
      ]
    },
    {
      "cell_type": "markdown",
      "metadata": {
        "id": "AHw-TIAhrOTs",
        "colab_type": "text"
      },
      "source": [
        "### For 1000 iterations"
      ]
    },
    {
      "cell_type": "code",
      "metadata": {
        "id": "apdUYfKFrM8x",
        "colab_type": "code",
        "colab": {
          "base_uri": "https://localhost:8080/",
          "height": 35
        },
        "outputId": "0f33b49c-0432-4d0b-8228-0392b4321568"
      },
      "source": [
        "b=np.transpose(np.matrix([0,0,0]))   #initialization\n",
        "theta=[]  \n",
        "for i in [0.1,0.01,0.001]:\n",
        "  theta.append(gradient_descent(X_train,y_train,i,1000,b))\n",
        "accuracy=[]\n",
        "for i in theta:\n",
        "  predicted=list([1/(1+np.exp(-x)) for x in X_val*i])\n",
        "  correct_prediction=0\n",
        "  for i in range(len(X_val)):\n",
        "    if abs(float(predicted[i])-y_val[i])<0.5:\n",
        "      correct_prediction+=1;\n",
        "  accuracy.append(correct_prediction/len(X_val))\n",
        "accuracy"
      ],
      "execution_count": 11,
      "outputs": [
        {
          "output_type": "execute_result",
          "data": {
            "text/plain": [
              "[0.9, 0.9, 0.9]"
            ]
          },
          "metadata": {
            "tags": []
          },
          "execution_count": 11
        }
      ]
    },
    {
      "cell_type": "markdown",
      "metadata": {
        "id": "gbN7E-cRqVT-",
        "colab_type": "text"
      },
      "source": [
        "#### Alpha = 0.1 gives best validation accuracy for 50 iterations\n",
        "#### Alpha = 0.01 gives the same 0.9 accuracy for 100 iterations \n",
        "#### Alpha = 0.001 gives the same 0.9 accuracy for 1000 iterations\n",
        "\n",
        "So the best alpha is 0.1 for 50 iterations, also computational time will be less."
      ]
    },
    {
      "cell_type": "markdown",
      "metadata": {
        "id": "rIf9uiEUrbSg",
        "colab_type": "text"
      },
      "source": [
        "## TEST ACCURACY"
      ]
    },
    {
      "cell_type": "code",
      "metadata": {
        "id": "i9RdTkDenkrk",
        "colab_type": "code",
        "colab": {
          "base_uri": "https://localhost:8080/",
          "height": 35
        },
        "outputId": "c80a0554-0ace-46ad-bbab-707415f09e47"
      },
      "source": [
        "b=np.transpose(np.matrix([0,0,0])) \n",
        "theta=gradient_descent(X_train,y_train,0.1,50,b)\n",
        "predicted=list([1/(1+np.exp(-x)) for x in X_test*theta])\n",
        "correct_prediction=0\n",
        "for i in range(len(X_test)):\n",
        "  if abs(float(predicted[i])-y_test[i])<0.5:\n",
        "    correct_prediction+=1;\n",
        "accuracy=(correct_prediction/len(X_test))\n",
        "print('Test accuracy is ',accuracy)"
      ],
      "execution_count": 12,
      "outputs": [
        {
          "output_type": "stream",
          "text": [
            "Test accuracy is  1.0\n"
          ],
          "name": "stdout"
        }
      ]
    },
    {
      "cell_type": "markdown",
      "metadata": {
        "id": "OplKDJg_hkUm",
        "colab_type": "text"
      },
      "source": [
        "**(5b) Plot the logistic regression classifier (decision boundary) on a 2d plot and include the train and test datapoints on the plot in different colours.\n",
        "(Say dark green for class 0 test datapoints and dark red for class 1 test datapoints. Similarly, light green and light red for train datapoints).**"
      ]
    },
    {
      "cell_type": "code",
      "metadata": {
        "id": "KNB9lwd7hkUn",
        "colab_type": "code",
        "colab": {
          "base_uri": "https://localhost:8080/",
          "height": 268
        },
        "outputId": "ef64785a-e7a2-4768-d0bd-cc516540f3de"
      },
      "source": [
        "plt.scatter(X_train[:,1],X_train[:,2])\n",
        "x=[4.5,7]\n",
        "y=-(theta[1][0][0]*x/theta[2][0][0])\n",
        "plt.plot([4.5,7],y.tolist()[0])   \n",
        "set1=[]\n",
        "set2=[]\n",
        "j=0\n",
        "for i in y_train:\n",
        "  if i==0:\n",
        "    plt.plot(X_train[j][1],X_train[j][2],marker='o',color='limegreen')\n",
        "    j=j+1\n",
        "  else:\n",
        "    plt.plot(X_train[j][1],X_train[j][2],marker='o',color='salmon')\n",
        "    j=j+1\n",
        "j=0\n",
        "for i in y_test:\n",
        "  if i==0:\n",
        "    plt.plot(X_test[j][1],X_test[j][2],color='darkgreen',marker='o')\n",
        "    j=j+1\n",
        "  else:\n",
        "    plt.plot(X_test[j][1],X_test[j][2],marker='o',color='darkred')\n",
        "    j=j+1"
      ],
      "execution_count": 17,
      "outputs": [
        {
          "output_type": "display_data",
          "data": {
            "image/png": "[encoded data removed]",
            "text/plain": [
              "<Figure size 432x288 with 1 Axes>"
            ]
          },
          "metadata": {
            "tags": [],
            "needs_background": "light"
          }
        }
      ]
    },
    {
      "cell_type": "markdown",
      "metadata": {
        "id": "mlfregC_hkUu",
        "colab_type": "text"
      },
      "source": [
        "**(6) Consider the bank note dataset provided. Perform random shuffle and train-test split(80:20). Using sklearn, implement logistic regression to predict whether the test datapoints belong to class 0 or 1. Report the prediction accuracy on test data.**"
      ]
    },
    {
      "cell_type": "code",
      "metadata": {
        "id": "BIl88o65hkUv",
        "colab_type": "code",
        "colab": {}
      },
      "source": [
        "from sklearn.linear_model import LogisticRegression\n",
        "data=pd.read_csv('data_banknote_authentication.csv',header=None)\n",
        "X=data.drop([4],axis=1).to_numpy()\n",
        "y=data[4]\n",
        "X_train,X_test,y_train,y_test=train_test_split(X,y,test_size=0.2,random_state=10)"
      ],
      "execution_count": 34,
      "outputs": []
    },
    {
      "cell_type": "markdown",
      "metadata": {
        "id": "sFDKqHrTrshc",
        "colab_type": "text"
      },
      "source": [
        "## Prediction accuracy on test data is 0.992727"
      ]
    },
    {
      "cell_type": "code",
      "metadata": {
        "id": "p-n5UiwQhkU3",
        "colab_type": "code",
        "colab": {
          "base_uri": "https://localhost:8080/",
          "height": 35
        },
        "outputId": "b4374ba1-32ba-4465-a8fe-387263cd383a"
      },
      "source": [
        "lr=LogisticRegression()\n",
        "lr.fit(X_train,y_train)\n",
        "y_pred=lr.predict(X_test)\n",
        "accuracy_score(y_test,y_pred)"
      ],
      "execution_count": 36,
      "outputs": [
        {
          "output_type": "execute_result",
          "data": {
            "text/plain": [
              "0.9927272727272727"
            ]
          },
          "metadata": {
            "tags": []
          },
          "execution_count": 36
        }
      ]
    }
  ]
}