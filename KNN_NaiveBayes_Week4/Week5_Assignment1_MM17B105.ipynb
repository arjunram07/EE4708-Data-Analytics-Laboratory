{
  "nbformat": 4,
  "nbformat_minor": 0,
  "metadata": {
    "kernelspec": {
      "display_name": "Python 3",
      "language": "python",
      "name": "python3"
    },
    "language_info": {
      "codemirror_mode": {
        "name": "ipython",
        "version": 3
      },
      "file_extension": ".py",
      "mimetype": "text/x-python",
      "name": "python",
      "nbconvert_exporter": "python",
      "pygments_lexer": "ipython3",
      "version": "3.6.3"
    },
    "toc": {
      "nav_menu": {},
      "number_sections": true,
      "sideBar": true,
      "skip_h1_title": false,
      "title_cell": "Table of Contents",
      "title_sidebar": "Contents",
      "toc_cell": false,
      "toc_position": {},
      "toc_section_display": true,
      "toc_window_display": false
    },
    "colab": {
      "name": "Week5_Assignment1_MM17B105.ipynb",
      "provenance": [],
      "collapsed_sections": [],
      "toc_visible": true
    }
  },
  "cells": [
    {
      "cell_type": "markdown",
      "metadata": {
        "id": "gUiOL9VPbi-O",
        "colab_type": "text"
      },
      "source": [
        "#  Classification : Nearest Neighbors and Naive Bayes "
      ]
    },
    {
      "cell_type": "markdown",
      "metadata": {
        "id": "FOJu9jZVbi-Q",
        "colab_type": "text"
      },
      "source": [
        "## Classification using Nearest Neighbors"
      ]
    },
    {
      "cell_type": "markdown",
      "metadata": {
        "id": "hBKR7M_Abi-R",
        "colab_type": "text"
      },
      "source": [
        "(a) Perform k-Nearest neighbours on the given dataset($X_{knn}$ and $y_{knn}$: where $X_{knn}$ stores feature vectors representing the movies and  $y_{knn}$ stores the 0-1 labelling for each movie) for binary classification of movies, for classifiying whether a given movie is a comedy(label 1) or not a comedy(label 0) . Split the dataset into train(80%), validation(10%) and test sets(10%).Run k-Nearest neighbours for different k values (1,3,7,15,31,63). Select the k, using validation set, which returns the best accuracy score. \n",
        "\n",
        "(i)  Report all the validation accuracies for all the values of k. \n",
        "<br>(ii) Report accuracy score by performing k-NN on the test dataset using the best chosen k value. "
      ]
    },
    {
      "cell_type": "code",
      "metadata": {
        "id": "uzL7tItzbi-T",
        "colab_type": "code",
        "colab": {}
      },
      "source": [
        "import pandas as pd\n",
        "import numpy as np\n",
        "import warnings\n",
        "warnings.filterwarnings(\"ignore\")\n",
        "X=pd.read_csv('/content/drive/My Drive/X/X_knn.csv')\n",
        "y=pd.read_csv('/content/drive/My Drive/X/y_knn.csv')\n",
        "X_array=X.to_numpy()"
      ],
      "execution_count": 201,
      "outputs": []
    },
    {
      "cell_type": "code",
      "metadata": {
        "id": "2_TQLPoUjU_4",
        "colab_type": "code",
        "colab": {
          "base_uri": "https://localhost:8080/",
          "height": 54
        },
        "outputId": "2a1a2a13-8f58-48bf-f3ba-19ceeb1e7774"
      },
      "source": [
        "from google.colab import drive\n",
        "drive.mount('/content/drive')"
      ],
      "execution_count": 2,
      "outputs": [
        {
          "output_type": "stream",
          "text": [
            "Drive already mounted at /content/drive; to attempt to forcibly remount, call drive.mount(\"/content/drive\", force_remount=True).\n"
          ],
          "name": "stdout"
        }
      ]
    },
    {
      "cell_type": "markdown",
      "metadata": {
        "id": "U5lc00einS3N",
        "colab_type": "text"
      },
      "source": [
        "## KNN from scratch"
      ]
    },
    {
      "cell_type": "code",
      "metadata": {
        "id": "S0fMwpocPaek",
        "colab_type": "code",
        "colab": {}
      },
      "source": [
        "import statistics\n",
        "def euclidean_distance(list1, list2):\n",
        "  list1=list1\n",
        "  list2=list2\n",
        "  distance = 0\n",
        "  for i in range(len(list1)):\n",
        "    distance += (list1[i] - list2[i])**2\n",
        "  return np.sqrt(distance)\n",
        "def prediction(list1,X,y,k):\n",
        "  distances=[]\n",
        "  for i in range(len(X)):\n",
        "    distances.append((i,euclidean_distance(list1,X[i])))\n",
        "  distances.sort(key=lambda x: x[1],reverse=True)\n",
        "  predict=[]\n",
        "  for i in range(k):\n",
        "    predict.append(y[distances[i][0]][0])\n",
        "  return statistics.mode(predict)"
      ],
      "execution_count": 184,
      "outputs": []
    },
    {
      "cell_type": "markdown",
      "metadata": {
        "id": "QW8QVsO7EYMG",
        "colab_type": "text"
      },
      "source": [
        "### The above scratch code takes huge computational time because of which I used inbuilt Knn Algorithm. A sample code is run below to demonstrate the working of above code"
      ]
    },
    {
      "cell_type": "code",
      "metadata": {
        "id": "hxofCaXJes9r",
        "colab_type": "code",
        "colab": {}
      },
      "source": [
        "a=pd.read_csv('/content/drive/My Drive/X/X_knn.csv',sep=' ',header=None)\n",
        "a=a.to_numpy()\n",
        "y=pd.read_csv('/content/drive/My Drive/X/y_knn.csv',sep=' ',header=None)\n",
        "y=y.to_numpy()"
      ],
      "execution_count": 189,
      "outputs": []
    },
    {
      "cell_type": "markdown",
      "metadata": {
        "id": "qFZGf_scRw11",
        "colab_type": "text"
      },
      "source": [
        "Train = 80%, Test=10% Validation = 10%"
      ]
    },
    {
      "cell_type": "code",
      "metadata": {
        "id": "rgyHJTiNnweH",
        "colab_type": "code",
        "colab": {}
      },
      "source": [
        "from sklearn.model_selection import train_test_split\n",
        "X_train, X_test, y_train, y_test = train_test_split(a, y, test_size=0.2, random_state=10)\n",
        "X_test, X_val, y_test, y_val = train_test_split(X_test, y_test, test_size=0.5, random_state=10)"
      ],
      "execution_count": 190,
      "outputs": []
    },
    {
      "cell_type": "markdown",
      "metadata": {
        "id": "GbEoi3F2Fv40",
        "colab_type": "text"
      },
      "source": [
        "### Predcition of X_val[2] by training using X_train and y_train with k value 3"
      ]
    },
    {
      "cell_type": "code",
      "metadata": {
        "id": "6Ssooc9cErPK",
        "colab_type": "code",
        "colab": {
          "base_uri": "https://localhost:8080/",
          "height": 34
        },
        "outputId": "96913479-e218-48cc-ecc2-721c1542fb83"
      },
      "source": [
        "prediction(X_val[2],X_train,y_train,3)"
      ],
      "execution_count": 191,
      "outputs": [
        {
          "output_type": "execute_result",
          "data": {
            "text/plain": [
              "0.0"
            ]
          },
          "metadata": {
            "tags": []
          },
          "execution_count": 191
        }
      ]
    },
    {
      "cell_type": "code",
      "metadata": {
        "id": "s3anfK3JerVm",
        "colab_type": "code",
        "colab": {
          "base_uri": "https://localhost:8080/",
          "height": 34
        },
        "outputId": "6718afa5-db88-457b-e651-b9703b95822b"
      },
      "source": [
        "from sklearn.neighbors import KNeighborsClassifier \n",
        "from sklearn.metrics import accuracy_score\n",
        "accuracy=[]\n",
        "for i in [1,3,7,15,31,63]:\n",
        "  knn = KNeighborsClassifier(n_neighbors=i)\n",
        "  knn.fit(X_train, y_train) \n",
        "  y_pred= knn.predict(X_val)\n",
        "  accuracy.append((i,accuracy_score(y_pred,y_val)))\n",
        "accuracy"
      ],
      "execution_count": 202,
      "outputs": [
        {
          "output_type": "execute_result",
          "data": {
            "text/plain": [
              "[(1, 0.836), (3, 0.85), (7, 0.852), (15, 0.847), (31, 0.853), (63, 0.855)]"
            ]
          },
          "metadata": {
            "tags": []
          },
          "execution_count": 202
        }
      ]
    },
    {
      "cell_type": "markdown",
      "metadata": {
        "id": "KVwoqkduMMDb",
        "colab_type": "text"
      },
      "source": [
        "## Accuracy for k=63 is 0.855 which is maximum\n",
        "\n",
        "## Hence can be used for predicting the testset."
      ]
    },
    {
      "cell_type": "code",
      "metadata": {
        "id": "rv0Q7sPQ46Dd",
        "colab_type": "code",
        "colab": {
          "base_uri": "https://localhost:8080/",
          "height": 119
        },
        "outputId": "6ffdb447-8e44-4677-91c5-5925c8f1ab38"
      },
      "source": [
        "j=0\n",
        "for i in [1,3,7,15,31,63]:\n",
        "  print('Accuracy for k= '+str(i)+' is',accuracy[j][1])\n",
        "  j=j+1"
      ],
      "execution_count": 207,
      "outputs": [
        {
          "output_type": "stream",
          "text": [
            "Accuracy for k= 1 is 0.836\n",
            "Accuracy for k= 3 is 0.85\n",
            "Accuracy for k= 7 is 0.852\n",
            "Accuracy for k= 15 is 0.847\n",
            "Accuracy for k= 31 is 0.853\n",
            "Accuracy for k= 63 is 0.855\n"
          ],
          "name": "stdout"
        }
      ]
    },
    {
      "cell_type": "markdown",
      "metadata": {
        "id": "eGqWbzBwMnSu",
        "colab_type": "text"
      },
      "source": [
        "## Test Dataset"
      ]
    },
    {
      "cell_type": "code",
      "metadata": {
        "id": "N4gzwlZGMyFQ",
        "colab_type": "code",
        "colab": {
          "base_uri": "https://localhost:8080/",
          "height": 34
        },
        "outputId": "13d5d9f1-16c0-4100-8c96-03d8afe40530"
      },
      "source": [
        "knn = KNeighborsClassifier(n_neighbors=63)\n",
        "knn.fit(X_train, y_train) \n",
        "y_pred= knn.predict(X_test)\n",
        "accuracy=accuracy_score(y_pred,y_test)\n",
        "print('Accuracy for test set is ',accuracy)"
      ],
      "execution_count": 208,
      "outputs": [
        {
          "output_type": "stream",
          "text": [
            "Accuracy for test set is  0.823\n"
          ],
          "name": "stdout"
        }
      ]
    },
    {
      "cell_type": "markdown",
      "metadata": {
        "id": "hW-tQm_bbi-b",
        "colab_type": "text"
      },
      "source": [
        "(b) State why using an even value of k in k-NN should not be chosen"
      ]
    },
    {
      "cell_type": "markdown",
      "metadata": {
        "id": "M35ugWQDbi-c",
        "colab_type": "text"
      },
      "source": [
        "### **Answer:** Even k value is not chosen because there is a chance of tie between neighbour classes, then the maximum nearest neighbour class couln't be found. If there are odd number of predicting classes then even k could be used, because tie is not possible in this case. \n",
        "\n"
      ]
    },
    {
      "cell_type": "markdown",
      "metadata": {
        "id": "YqIBvnWnbi-d",
        "colab_type": "text"
      },
      "source": [
        "## Learning Naive Bayes' classifier  "
      ]
    },
    {
      "cell_type": "markdown",
      "metadata": {
        "id": "XyV4T-m9bi-e",
        "colab_type": "text"
      },
      "source": [
        "### From Continuous Distribution of data"
      ]
    },
    {
      "cell_type": "markdown",
      "metadata": {
        "id": "XbKxNfpSbi-f",
        "colab_type": "text"
      },
      "source": [
        "Here, the distribution of the data( $X$ represents the datapoints and $Y$ represents the 0-1 binary-class label; where 0 being the negative class and 1 being the positive class) is already known.\n",
        "<br>Consider the following one-dimensional(1-D) Gaussian distributions where means and variances are unknown. You need to estimate means($\\mu_-$: for negative class and  $\\mu_+$: for positive class) and variances ($\\sigma^{2}_{-}$: for negative class and $\\sigma^{2}_+$: for positive class) from the given data : \n",
        "<br> (1) Assume $X|Y_{Y=0} \\sim \\mathcal{N}(\\mu_- , \\sigma^{2}_-)$ \n",
        "<br>(2) Assume $X|Y_{Y=1} \\sim \\mathcal{N}(\\mu_+ , \\sigma^{2}_+)$\n"
      ]
    },
    {
      "cell_type": "markdown",
      "metadata": {
        "id": "bRxIVoBNbi-f",
        "colab_type": "text"
      },
      "source": [
        "*Generating artificial datasets in the next cell *"
      ]
    },
    {
      "cell_type": "code",
      "metadata": {
        "id": "Y_4suKN8bi-g",
        "colab_type": "code",
        "colab": {}
      },
      "source": [
        "## This cell is for generating datasets. Students should not change anything in this cell. \n",
        "## You can compare your mean and variance estimates by the actual ones used to generate these datasets\n",
        "\n",
        "import numpy as np\n",
        "X_pos = np.random.randn(1000,1)+np.array([[2.]])\n",
        "X_neg = np.random.randn(1000,1)+np.array([[4.]])\n",
        "X_train_pos = X_pos[:900]\n",
        "X_train_neg = X_neg[:900]\n",
        "X_test_pos = X_pos[900:]\n",
        "X_test_neg = X_neg[900:]\n",
        "X_train = np.concatenate((X_train_pos, X_train_neg), axis=0)\n",
        "X_test = np.concatenate((X_test_pos, X_test_neg), axis=0)\n",
        "Y_train = np.concatenate(( np.ones(900),np.zeros(900) ))\n",
        "Y_test = np.concatenate(( np.ones(100), np.zeros(100) ))\n",
        "\n",
        "## X_train, X_test, Y_train, Y_test are your datasets to work with ####6"
      ],
      "execution_count": 258,
      "outputs": []
    },
    {
      "cell_type": "markdown",
      "metadata": {
        "id": "m40WC5H-bi-k",
        "colab_type": "text"
      },
      "source": [
        "\n",
        "\n",
        "<br>**Instructions to follow for learning a Baeysian classifier:** *(Code the formulae for estimating the different parameters yourself)*\n",
        "<br> a)Utilize the training dataset to estimate the means($\\hat{\\mu_+}$,$\\hat{\\mu_-}$) and variances($\\hat{\\sigma^{2}_+}$, $\\hat{\\sigma^{2}_-}$) for both positive and negative classes  \n",
        "b)Estimate the prior probability: $P(Y=1)$  ⟶ which could be referred to as: $\\hat{a}$ \n",
        "<br>c)Estimate the classifier funtion/posterior probability:  $P(Y=1|X = x)$  ⟶ which could be referred to as $\\hat{\\eta(x)}$\n",
        "<br>d)Find out the threshold value($x^*$) for classification by equating the estimated classifier function($\\hat{\\eta(x)}$)  with threshold probability of 0.5\n",
        "<br>e)Classify the test dataset into the two classes using this threshold value($x^*$) and find out the **accuracy** of the prediction \n",
        "\n",
        "Return back:  $\\hat{\\mu_+}$, $\\hat{\\mu_-}$, $\\hat{\\sigma^{2}_+}$, $\\hat{\\sigma^{2}_-}$, $\\hat{a}$, $x^*$ and accuracy from the code written \n",
        "\n",
        "*Hint: $X|Y_{Y=0} \\sim \\mathcal{N}(\\mu_- , \\sigma^{2}_-)$ implies $P_{X|Y=0} = \\mathcal{N}(\\mu_- , \\sigma^{2}_-) $*\n"
      ]
    },
    {
      "cell_type": "markdown",
      "metadata": {
        "id": "p2W50tnAcILl",
        "colab_type": "text"
      },
      "source": [
        "### $\\hat{\\mu_+}$, $\\hat{\\mu_-}$, $\\hat{\\sigma^{2}_+}$, $\\hat{\\sigma^{2}_-}$ Calculation"
      ]
    },
    {
      "cell_type": "code",
      "metadata": {
        "id": "SJVxHIn3bi-l",
        "colab_type": "code",
        "colab": {
          "base_uri": "https://localhost:8080/",
          "height": 34
        },
        "outputId": "6c3568b7-68f7-4121-a157-bea27bbea439"
      },
      "source": [
        "def mean(b):\n",
        "  sum=0\n",
        "  length=0\n",
        "  for i in range(int(len(b))):\n",
        "    sum=sum+b[i]\n",
        "    length=length+1\n",
        "  mean=float(sum/length)\n",
        "  return mean  \n",
        "def variance(b):\n",
        "  var = sum((i - mean(b)) ** 2 for i in b) / len(b)\n",
        "  return var\n",
        "mean_pos=mean(X_train_pos)\n",
        "mean_neg=mean(X_train_neg)\n",
        "var_pos=variance(X_train_pos)\n",
        "var_neg=variance(X_train_neg)\n",
        "print('μ+:' +str(mean_pos)+ ' μ−:' +str(mean_neg) + ' σ^2+:' + str(var_pos)+ ' σ^2−:'+str(var_neg))"
      ],
      "execution_count": 263,
      "outputs": [
        {
          "output_type": "stream",
          "text": [
            "μ+:2.050457042898035 μ−:4.016271974469526 σ^2+:[0.93375884] σ^2−:[0.96273269]\n"
          ],
          "name": "stdout"
        }
      ]
    },
    {
      "cell_type": "markdown",
      "metadata": {
        "id": "7PfRBCiVArFv",
        "colab_type": "text"
      },
      "source": [
        "PRIOR PROBABILITY: $\\hat{a}$"
      ]
    },
    {
      "cell_type": "code",
      "metadata": {
        "id": "SN5aYw7XAqln",
        "colab_type": "code",
        "colab": {
          "base_uri": "https://localhost:8080/",
          "height": 34
        },
        "outputId": "1747beff-4aea-4d0c-f1a1-006904dc126a"
      },
      "source": [
        "a=0\n",
        "for i in range(len(Y_train)):\n",
        "  if Y_train[i]==1:\n",
        "    a=a+1\n",
        "  else:\n",
        "    continue \n",
        "P_1=a/len(Y_train)  ##Probability of P(Y=1)\n",
        "P_0=1-P_1           ##Probability of P(Y=0)\n",
        "print('Prior probability of y=1 is ', P_1)"
      ],
      "execution_count": 265,
      "outputs": [
        {
          "output_type": "stream",
          "text": [
            "Prior probability of y=1 is  0.5\n"
          ],
          "name": "stdout"
        }
      ]
    },
    {
      "cell_type": "markdown",
      "metadata": {
        "id": "yfvzsO56CFxN",
        "colab_type": "text"
      },
      "source": [
        "POSTERIOR PROBABILITY\n",
        "\n",
        "P(Y=1|X=x) = P(X=x,Y=1)*P(Y=1)/P(X)\n",
        "\n",
        "P(X) = P(X=x,Y=1)+P(X=x,Y=0)"
      ]
    },
    {
      "cell_type": "code",
      "metadata": {
        "id": "x1s2D0HzCFWH",
        "colab_type": "code",
        "colab": {}
      },
      "source": [
        "mu=mean_pos\n",
        "std=np.sqrt(var_pos)\n",
        "mu_0=mean_neg\n",
        "std_0=np.sqrt(var_neg)\n",
        "y_1=lambda x: ((np.exp(-np.power(x - mu, 2.) / (2 * np.power(std, 2.))))/(std*np.power(2*np.pi,0.5))) ##P(X=x,Y=1)\n",
        "y_0=lambda x: ((np.exp(-np.power(x - mu_0, 2.) / (2 * np.power(std_0, 2.))))/(std_0*np.power(2*np.pi,0.5))) ##P(X=x,Y=0)\n",
        "f=lambda x: (y_1(x)*0.5)/((y_1(x)+y_0(x))*0.5) ##posterior probability for Y=1; P(Y=1|X=x)"
      ],
      "execution_count": 266,
      "outputs": []
    },
    {
      "cell_type": "markdown",
      "metadata": {
        "id": "Vix-Tw7JXi4P",
        "colab_type": "text"
      },
      "source": [
        "## The threshold value of $x^*$ for the probability to be 0.5. \n",
        "## The value is found to be **2.986**\n",
        "---\n",
        "\n"
      ]
    },
    {
      "cell_type": "code",
      "metadata": {
        "id": "KEU89YaRU1-T",
        "colab_type": "code",
        "colab": {
          "base_uri": "https://localhost:8080/",
          "height": 51
        },
        "outputId": "0a5dbc1b-72d7-4ed7-8f3f-0cd874335165"
      },
      "source": [
        "from scipy.optimize import minimize_scalar\n",
        "import math\n",
        "def func(x):\n",
        "  return (f(x)-0.5)**2\n",
        "res = minimize_scalar(func)\n",
        "print(res.x)"
      ],
      "execution_count": null,
      "outputs": [
        {
          "output_type": "stream",
          "text": [
            "[2.98690673]\n"
          ],
          "name": "stdout"
        },
        {
          "output_type": "execute_result",
          "data": {
            "text/plain": [
              "array([0.49342184])"
            ]
          },
          "metadata": {
            "tags": []
          },
          "execution_count": 133
        }
      ]
    },
    {
      "cell_type": "markdown",
      "metadata": {
        "id": "ueyffUIcbi-p",
        "colab_type": "text"
      },
      "source": [
        "## Predictions:\n",
        "\n",
        "Anything above x=2.986 will have posterior probability for y=1 less than 0.5, which means y=0. Hence any x greater than x=2.986 will be predicted as y=0 and any x less than 2.986 will be predicted as y=1."
      ]
    },
    {
      "cell_type": "code",
      "metadata": {
        "id": "mTwOpPWJ71e9",
        "colab_type": "code",
        "colab": {}
      },
      "source": [
        "y_pred=[]\n",
        "for i in range(len(X_test)):\n",
        "  if X_test[i]>=2.986:\n",
        "    y_pred.append(0)\n",
        "  else:\n",
        "    y_pred.append(1)"
      ],
      "execution_count": null,
      "outputs": []
    },
    {
      "cell_type": "markdown",
      "metadata": {
        "id": "jaI288nwZn5i",
        "colab_type": "text"
      },
      "source": [
        "ACCURACY"
      ]
    },
    {
      "cell_type": "code",
      "metadata": {
        "id": "MNml6-c_ZneU",
        "colab_type": "code",
        "colab": {
          "base_uri": "https://localhost:8080/",
          "height": 34
        },
        "outputId": "e933d897-4b43-42ef-b117-b249b5ab8427"
      },
      "source": [
        "count=0\n",
        "for i in range(len(y_pred)):\n",
        "  if y_pred[i]==Y_test[i]:\n",
        "    count=count+1\n",
        "  else:\n",
        "    continue\n",
        "print('The accuracy of the prediction is ',count/len(Y_test))"
      ],
      "execution_count": null,
      "outputs": [
        {
          "output_type": "stream",
          "text": [
            "The accuracy of the prediction is  0.9\n"
          ],
          "name": "stdout"
        }
      ]
    },
    {
      "cell_type": "markdown",
      "metadata": {
        "id": "4nKqFh9Ybi-r",
        "colab_type": "text"
      },
      "source": [
        "### From Discrete distribution of data"
      ]
    },
    {
      "cell_type": "markdown",
      "metadata": {
        "id": "aBo_inyvbi-s",
        "colab_type": "text"
      },
      "source": [
        "Unlike the first exercise for learning the Naive Bayes' classifier where we dealt with continuous distribution of data, here you need to work with discrete data, which means finding Probability Mass Distribution(PMF). \n",
        "\n",
        "Age  | Income | Status  | Buy\n",
        "-----|--------|-------- |----\n",
        "<=20 |  low   | students| yes\n",
        "<=20 |  high  | students| yes\n",
        "<=20 | medium | students| no\n",
        "<=20 | medium | married | no\n",
        "<=20 |  high  | married | yes\n",
        "21-30|  low   | married | yes\n",
        "21-30|  low   | married | no \n",
        "21-30| medium | students| no\n",
        "21-30|  high  | students| yes\n",
        " >30 |  high  | married | no\n",
        " >30 |  high  | married | yes\n",
        " >30 | medium | married | yes\n",
        " >30 | medium | married | no\n",
        " >30 | medium | students| no\n",
        " \n",
        "Consider the train dataset above. Take any random datapoint ($X_{i}$) where $X_{i} = (X_{i,1} = Age,X_{i,2} = Income,X_{i,3} = Status)$ and its corresponding label \n",
        "\n",
        "($Y_{i} = Buy$). A \"yes\" in Buy corresponds to label-1 and a \"no\" in Buy corresponds to label-0.\n",
        "\n",
        "<br>**Instructions to follow for learning a Baeysian classifier:** *(Code the formulae for estimating the different parameters yourself)*\n",
        "<br> a)Estimate the prior probability: $P(Y=1)$  ⟶ which could be referred to as: $\\hat{a}$   \n",
        "b)Estimate the likelihood for each feature:  $P(X_{i,j} = x |Y = y_{i})$, where $ i$=datapoint counter, $j \\in \\{1,2,3\\}$ and $y_{i} \\in \\{0,1\\}$ \n",
        "<br>c)Estimate the total likelihood: $P(X_{i} = x |Y = y_{i})$  \n",
        "d)Calculate the posterior probability: $P(Y = 1|X_{i} = x_{test} )$ = $p_{test}$ where $x_{test} = (Age = 21-30, Income= medium, Status = married)$\n",
        "\n",
        "\n",
        "Return back: $\\hat{a}$, total likelihood and $p_{test}$ \n"
      ]
    },
    {
      "cell_type": "code",
      "metadata": {
        "id": "Wv6E2_Inbi-t",
        "colab_type": "code",
        "colab": {
          "base_uri": "https://localhost:8080/",
          "height": 483
        },
        "outputId": "ddd21588-bfb7-4697-ec42-6b8c4b6c65d8"
      },
      "source": [
        "d={'Age':['<=20','<=20','<=20','<=20','<=20','21-30','21-30','21-30','21-30','>30','>30','>30','>30','>30'],'Income':['low','high','medium','medium','high','low','low','medium','high','high','high','medium','medium','medium'],'Status':['students','students','students','married','married','married','married','students','students','married','married','married','married','students'],'Buy':['yes','yes','no','no','yes','yes','no','no','yes','no','yes','yes','no','no']}\n",
        "data=pd.DataFrame(d)\n",
        "data"
      ],
      "execution_count": 243,
      "outputs": [
        {
          "output_type": "execute_result",
          "data": {
            "text/html": [
              "<div>\n",
              "<style scoped>\n",
              "    .dataframe tbody tr th:only-of-type {\n",
              "        vertical-align: middle;\n",
              "    }\n",
              "\n",
              "    .dataframe tbody tr th {\n",
              "        vertical-align: top;\n",
              "    }\n",
              "\n",
              "    .dataframe thead th {\n",
              "        text-align: right;\n",
              "    }\n",
              "</style>\n",
              "<table border=\"1\" class=\"dataframe\">\n",
              "  <thead>\n",
              "    <tr style=\"text-align: right;\">\n",
              "      <th></th>\n",
              "      <th>Age</th>\n",
              "      <th>Income</th>\n",
              "      <th>Status</th>\n",
              "      <th>Buy</th>\n",
              "    </tr>\n",
              "  </thead>\n",
              "  <tbody>\n",
              "    <tr>\n",
              "      <th>0</th>\n",
              "      <td>&lt;=20</td>\n",
              "      <td>low</td>\n",
              "      <td>students</td>\n",
              "      <td>yes</td>\n",
              "    </tr>\n",
              "    <tr>\n",
              "      <th>1</th>\n",
              "      <td>&lt;=20</td>\n",
              "      <td>high</td>\n",
              "      <td>students</td>\n",
              "      <td>yes</td>\n",
              "    </tr>\n",
              "    <tr>\n",
              "      <th>2</th>\n",
              "      <td>&lt;=20</td>\n",
              "      <td>medium</td>\n",
              "      <td>students</td>\n",
              "      <td>no</td>\n",
              "    </tr>\n",
              "    <tr>\n",
              "      <th>3</th>\n",
              "      <td>&lt;=20</td>\n",
              "      <td>medium</td>\n",
              "      <td>married</td>\n",
              "      <td>no</td>\n",
              "    </tr>\n",
              "    <tr>\n",
              "      <th>4</th>\n",
              "      <td>&lt;=20</td>\n",
              "      <td>high</td>\n",
              "      <td>married</td>\n",
              "      <td>yes</td>\n",
              "    </tr>\n",
              "    <tr>\n",
              "      <th>5</th>\n",
              "      <td>21-30</td>\n",
              "      <td>low</td>\n",
              "      <td>married</td>\n",
              "      <td>yes</td>\n",
              "    </tr>\n",
              "    <tr>\n",
              "      <th>6</th>\n",
              "      <td>21-30</td>\n",
              "      <td>low</td>\n",
              "      <td>married</td>\n",
              "      <td>no</td>\n",
              "    </tr>\n",
              "    <tr>\n",
              "      <th>7</th>\n",
              "      <td>21-30</td>\n",
              "      <td>medium</td>\n",
              "      <td>students</td>\n",
              "      <td>no</td>\n",
              "    </tr>\n",
              "    <tr>\n",
              "      <th>8</th>\n",
              "      <td>21-30</td>\n",
              "      <td>high</td>\n",
              "      <td>students</td>\n",
              "      <td>yes</td>\n",
              "    </tr>\n",
              "    <tr>\n",
              "      <th>9</th>\n",
              "      <td>&gt;30</td>\n",
              "      <td>high</td>\n",
              "      <td>married</td>\n",
              "      <td>no</td>\n",
              "    </tr>\n",
              "    <tr>\n",
              "      <th>10</th>\n",
              "      <td>&gt;30</td>\n",
              "      <td>high</td>\n",
              "      <td>married</td>\n",
              "      <td>yes</td>\n",
              "    </tr>\n",
              "    <tr>\n",
              "      <th>11</th>\n",
              "      <td>&gt;30</td>\n",
              "      <td>medium</td>\n",
              "      <td>married</td>\n",
              "      <td>yes</td>\n",
              "    </tr>\n",
              "    <tr>\n",
              "      <th>12</th>\n",
              "      <td>&gt;30</td>\n",
              "      <td>medium</td>\n",
              "      <td>married</td>\n",
              "      <td>no</td>\n",
              "    </tr>\n",
              "    <tr>\n",
              "      <th>13</th>\n",
              "      <td>&gt;30</td>\n",
              "      <td>medium</td>\n",
              "      <td>students</td>\n",
              "      <td>no</td>\n",
              "    </tr>\n",
              "  </tbody>\n",
              "</table>\n",
              "</div>"
            ],
            "text/plain": [
              "      Age  Income    Status  Buy\n",
              "0    <=20     low  students  yes\n",
              "1    <=20    high  students  yes\n",
              "2    <=20  medium  students   no\n",
              "3    <=20  medium   married   no\n",
              "4    <=20    high   married  yes\n",
              "5   21-30     low   married  yes\n",
              "6   21-30     low   married   no\n",
              "7   21-30  medium  students   no\n",
              "8   21-30    high  students  yes\n",
              "9     >30    high   married   no\n",
              "10    >30    high   married  yes\n",
              "11    >30  medium   married  yes\n",
              "12    >30  medium   married   no\n",
              "13    >30  medium  students   no"
            ]
          },
          "metadata": {
            "tags": []
          },
          "execution_count": 243
        }
      ]
    },
    {
      "cell_type": "markdown",
      "metadata": {
        "id": "4-RZJAypcbV-",
        "colab_type": "text"
      },
      "source": [
        "## prior probability: $P(Y=1)$: $\\hat{a}$ = 0.5\n"
      ]
    },
    {
      "cell_type": "code",
      "metadata": {
        "id": "Z8MCaYxihRgn",
        "colab_type": "code",
        "colab": {
          "base_uri": "https://localhost:8080/",
          "height": 266
        },
        "outputId": "284dc7cf-874a-402b-9367-9ba96088eb84"
      },
      "source": [
        "data[data['Buy']=='yes']"
      ],
      "execution_count": 210,
      "outputs": [
        {
          "output_type": "execute_result",
          "data": {
            "text/html": [
              "<div>\n",
              "<style scoped>\n",
              "    .dataframe tbody tr th:only-of-type {\n",
              "        vertical-align: middle;\n",
              "    }\n",
              "\n",
              "    .dataframe tbody tr th {\n",
              "        vertical-align: top;\n",
              "    }\n",
              "\n",
              "    .dataframe thead th {\n",
              "        text-align: right;\n",
              "    }\n",
              "</style>\n",
              "<table border=\"1\" class=\"dataframe\">\n",
              "  <thead>\n",
              "    <tr style=\"text-align: right;\">\n",
              "      <th></th>\n",
              "      <th>Age</th>\n",
              "      <th>Income</th>\n",
              "      <th>Status</th>\n",
              "      <th>Buy</th>\n",
              "    </tr>\n",
              "  </thead>\n",
              "  <tbody>\n",
              "    <tr>\n",
              "      <th>0</th>\n",
              "      <td>&lt;=20</td>\n",
              "      <td>low</td>\n",
              "      <td>students</td>\n",
              "      <td>yes</td>\n",
              "    </tr>\n",
              "    <tr>\n",
              "      <th>1</th>\n",
              "      <td>&lt;=20</td>\n",
              "      <td>high</td>\n",
              "      <td>students</td>\n",
              "      <td>yes</td>\n",
              "    </tr>\n",
              "    <tr>\n",
              "      <th>4</th>\n",
              "      <td>&lt;=20</td>\n",
              "      <td>high</td>\n",
              "      <td>married</td>\n",
              "      <td>yes</td>\n",
              "    </tr>\n",
              "    <tr>\n",
              "      <th>5</th>\n",
              "      <td>21-30</td>\n",
              "      <td>low</td>\n",
              "      <td>married</td>\n",
              "      <td>yes</td>\n",
              "    </tr>\n",
              "    <tr>\n",
              "      <th>8</th>\n",
              "      <td>21-30</td>\n",
              "      <td>high</td>\n",
              "      <td>students</td>\n",
              "      <td>yes</td>\n",
              "    </tr>\n",
              "    <tr>\n",
              "      <th>10</th>\n",
              "      <td>&gt;30</td>\n",
              "      <td>high</td>\n",
              "      <td>married</td>\n",
              "      <td>yes</td>\n",
              "    </tr>\n",
              "    <tr>\n",
              "      <th>11</th>\n",
              "      <td>&gt;30</td>\n",
              "      <td>medium</td>\n",
              "      <td>married</td>\n",
              "      <td>yes</td>\n",
              "    </tr>\n",
              "  </tbody>\n",
              "</table>\n",
              "</div>"
            ],
            "text/plain": [
              "      Age  Income    Status  Buy\n",
              "0    <=20     low  students  yes\n",
              "1    <=20    high  students  yes\n",
              "4    <=20    high   married  yes\n",
              "5   21-30     low   married  yes\n",
              "8   21-30    high  students  yes\n",
              "10    >30    high   married  yes\n",
              "11    >30  medium   married  yes"
            ]
          },
          "metadata": {
            "tags": []
          },
          "execution_count": 210
        }
      ]
    },
    {
      "cell_type": "code",
      "metadata": {
        "id": "-gB7GoZjizwF",
        "colab_type": "code",
        "colab": {}
      },
      "source": [
        "P_y_1=len(data[data['Buy']=='yes'])/len(data)"
      ],
      "execution_count": 211,
      "outputs": []
    },
    {
      "cell_type": "markdown",
      "metadata": {
        "id": "DgYQlDn3jW6D",
        "colab_type": "text"
      },
      "source": [
        "##likelihood for each feature:  $P(X_{i,j} = x |Y = y_{i})$\n",
        "\n",
        "### AGE: ['<=20' '21-30' '>30'] for Y=Yes"
      ]
    },
    {
      "cell_type": "code",
      "metadata": {
        "id": "DMgZibUJjAxJ",
        "colab_type": "code",
        "colab": {
          "base_uri": "https://localhost:8080/",
          "height": 68
        },
        "outputId": "e166331e-d528-4c8b-852e-234f753d884f"
      },
      "source": [
        "\n",
        "a=data[['Age','Buy']]\n",
        "a=data[data['Buy']=='yes']\n",
        "likelihood_age_yes={}\n",
        "for i in a['Age'].unique():\n",
        "  likelihood_age_yes[i]=len(a[a['Age']==i])/len(a)\n",
        "likelihood_age_yes"
      ],
      "execution_count": 212,
      "outputs": [
        {
          "output_type": "execute_result",
          "data": {
            "text/plain": [
              "{'21-30': 0.2857142857142857,\n",
              " '<=20': 0.42857142857142855,\n",
              " '>30': 0.2857142857142857}"
            ]
          },
          "metadata": {
            "tags": []
          },
          "execution_count": 212
        }
      ]
    },
    {
      "cell_type": "markdown",
      "metadata": {
        "id": "wbnX14GQvnfM",
        "colab_type": "text"
      },
      "source": [
        "### AGE: ['<=20' '21-30' '>30'] for Y=No"
      ]
    },
    {
      "cell_type": "code",
      "metadata": {
        "id": "DTRFekIEvoyE",
        "colab_type": "code",
        "colab": {
          "base_uri": "https://localhost:8080/",
          "height": 68
        },
        "outputId": "c13a2afa-026d-485d-8319-32ad131dc363"
      },
      "source": [
        "a=data[['Age','Buy']]\n",
        "a=data[data['Buy']=='no']\n",
        "likelihood_age_no={}\n",
        "for i in a['Age'].unique():\n",
        "  likelihood_age_no[i]=(len(a[a['Age']==i])/len(a))\n",
        "likelihood_age_no"
      ],
      "execution_count": 213,
      "outputs": [
        {
          "output_type": "execute_result",
          "data": {
            "text/plain": [
              "{'21-30': 0.2857142857142857,\n",
              " '<=20': 0.2857142857142857,\n",
              " '>30': 0.42857142857142855}"
            ]
          },
          "metadata": {
            "tags": []
          },
          "execution_count": 213
        }
      ]
    },
    {
      "cell_type": "markdown",
      "metadata": {
        "id": "epJMaF4tvQnm",
        "colab_type": "text"
      },
      "source": [
        "## INCOME ['low' 'high' 'medium'] for Y=yes"
      ]
    },
    {
      "cell_type": "code",
      "metadata": {
        "id": "C_wmMz4Rt91K",
        "colab_type": "code",
        "colab": {
          "base_uri": "https://localhost:8080/",
          "height": 68
        },
        "outputId": "56676573-cf9d-40e6-b4f0-fe05ba6f63d9"
      },
      "source": [
        "a=data[['Income','Buy']]\n",
        "a=data[data['Buy']=='yes']\n",
        "likelihood_income_yes={}\n",
        "b=a['Income'].unique()\n",
        "for i in b:\n",
        "  likelihood_income_yes[i]=(len(a[a['Income']==i])/len(a))\n",
        "likelihood_income_yes"
      ],
      "execution_count": 214,
      "outputs": [
        {
          "output_type": "execute_result",
          "data": {
            "text/plain": [
              "{'high': 0.5714285714285714,\n",
              " 'low': 0.2857142857142857,\n",
              " 'medium': 0.14285714285714285}"
            ]
          },
          "metadata": {
            "tags": []
          },
          "execution_count": 214
        }
      ]
    },
    {
      "cell_type": "markdown",
      "metadata": {
        "id": "30PYPAi0vQdL",
        "colab_type": "text"
      },
      "source": [
        "## INCOME ['low' 'high' 'medium'] for Y=no"
      ]
    },
    {
      "cell_type": "code",
      "metadata": {
        "id": "xmTLg1I0uoXJ",
        "colab_type": "code",
        "colab": {
          "base_uri": "https://localhost:8080/",
          "height": 68
        },
        "outputId": "c7f76484-38bd-4eac-b6a4-8ff9763ae7d5"
      },
      "source": [
        "a=data[['Income','Buy']]\n",
        "a=data[data['Buy']=='no']\n",
        "likelihood_income_no={}\n",
        "for i in b:\n",
        "  likelihood_income_no[i]=(len(a[a['Income']==i])/len(a))\n",
        "likelihood_income_no\n"
      ],
      "execution_count": 215,
      "outputs": [
        {
          "output_type": "execute_result",
          "data": {
            "text/plain": [
              "{'high': 0.14285714285714285,\n",
              " 'low': 0.14285714285714285,\n",
              " 'medium': 0.7142857142857143}"
            ]
          },
          "metadata": {
            "tags": []
          },
          "execution_count": 215
        }
      ]
    },
    {
      "cell_type": "markdown",
      "metadata": {
        "id": "jpdF8pUOxJnI",
        "colab_type": "text"
      },
      "source": [
        "## STATUS ['students' 'married'] for Y=yes"
      ]
    },
    {
      "cell_type": "code",
      "metadata": {
        "id": "4zlTCgJWurHG",
        "colab_type": "code",
        "colab": {
          "base_uri": "https://localhost:8080/",
          "height": 34
        },
        "outputId": "7b9084ad-9d64-48f6-fcc3-c1fb88769420"
      },
      "source": [
        "a=data[['Status','Buy']]\n",
        "a=data[data['Buy']=='yes']\n",
        "likelihood_status_yes={}\n",
        "b=a['Status'].unique()\n",
        "for i in b:\n",
        "  likelihood_status_yes[i]=(len(a[a['Status']==i])/len(a))\n",
        "likelihood_status_yes"
      ],
      "execution_count": 216,
      "outputs": [
        {
          "output_type": "execute_result",
          "data": {
            "text/plain": [
              "{'married': 0.5714285714285714, 'students': 0.42857142857142855}"
            ]
          },
          "metadata": {
            "tags": []
          },
          "execution_count": 216
        }
      ]
    },
    {
      "cell_type": "markdown",
      "metadata": {
        "id": "lp2RwgUTxsKb",
        "colab_type": "text"
      },
      "source": [
        "## STATUS ['students' 'married'] for Y=no"
      ]
    },
    {
      "cell_type": "code",
      "metadata": {
        "id": "UfInCXr0wm5K",
        "colab_type": "code",
        "colab": {
          "base_uri": "https://localhost:8080/",
          "height": 34
        },
        "outputId": "6e85747d-09d5-4b3d-8f20-634d4f0723d0"
      },
      "source": [
        "a=data[['Status','Buy']]\n",
        "a=data[data['Buy']=='no']\n",
        "likelihood_status_no={}\n",
        "b=a['Status'].unique()\n",
        "for i in b:\n",
        "  likelihood_status_no[i]=(len(a[a['Status']==i])/len(a))\n",
        "likelihood_status_no"
      ],
      "execution_count": 217,
      "outputs": [
        {
          "output_type": "execute_result",
          "data": {
            "text/plain": [
              "{'married': 0.5714285714285714, 'students': 0.42857142857142855}"
            ]
          },
          "metadata": {
            "tags": []
          },
          "execution_count": 217
        }
      ]
    },
    {
      "cell_type": "markdown",
      "metadata": {
        "id": "WS8gpRq_yFpG",
        "colab_type": "text"
      },
      "source": [
        "## TOTAL LIKELIHOOD:\n",
        "\n",
        "\n",
        "Ex:$ P([<=20,low,married],Y=yes) =$ $P(<=20,Y=yes)*P(low,Y=yes)*P(married,Y=yes)$\n",
        "\n",
        "Similarly we can calculate for all possibilities:\n",
        "A few are listed below"
      ]
    },
    {
      "cell_type": "code",
      "metadata": {
        "id": "HnI43qaoyFLP",
        "colab_type": "code",
        "colab": {
          "base_uri": "https://localhost:8080/",
          "height": 34
        },
        "outputId": "37143c63-423c-4fce-a098-5ee7df71c973"
      },
      "source": [
        "likelihood_age_yes['<=20']*likelihood_income_yes['low']*likelihood_status_yes['married']"
      ],
      "execution_count": 218,
      "outputs": [
        {
          "output_type": "execute_result",
          "data": {
            "text/plain": [
              "0.06997084548104955"
            ]
          },
          "metadata": {
            "tags": []
          },
          "execution_count": 218
        }
      ]
    },
    {
      "cell_type": "markdown",
      "metadata": {
        "id": "ZpSkoohN222k",
        "colab_type": "text"
      },
      "source": [
        "1) P(<=20,low,students,Y=yes)"
      ]
    },
    {
      "cell_type": "code",
      "metadata": {
        "id": "8wivJhNCx1k2",
        "colab_type": "code",
        "colab": {
          "base_uri": "https://localhost:8080/",
          "height": 34
        },
        "outputId": "7045f8f8-4169-4ca0-e6e7-b5d46f109751"
      },
      "source": [
        "likelihood_age_yes['<=20']*likelihood_income_yes['low']*likelihood_status_yes['students']"
      ],
      "execution_count": 219,
      "outputs": [
        {
          "output_type": "execute_result",
          "data": {
            "text/plain": [
              "0.05247813411078716"
            ]
          },
          "metadata": {
            "tags": []
          },
          "execution_count": 219
        }
      ]
    },
    {
      "cell_type": "markdown",
      "metadata": {
        "id": "1HYniykr3Ah1",
        "colab_type": "text"
      },
      "source": [
        "1) P(<=20,medium,married,Y=yes)"
      ]
    },
    {
      "cell_type": "code",
      "metadata": {
        "id": "4X0jaSz_29HX",
        "colab_type": "code",
        "colab": {
          "base_uri": "https://localhost:8080/",
          "height": 34
        },
        "outputId": "16baff4b-109e-411c-fc41-317613ec1460"
      },
      "source": [
        "likelihood_age_yes['<=20']*likelihood_income_yes['medium']*likelihood_status_yes['married']"
      ],
      "execution_count": 220,
      "outputs": [
        {
          "output_type": "execute_result",
          "data": {
            "text/plain": [
              "0.034985422740524776"
            ]
          },
          "metadata": {
            "tags": []
          },
          "execution_count": 220
        }
      ]
    },
    {
      "cell_type": "markdown",
      "metadata": {
        "id": "7GDiWomu3E2x",
        "colab_type": "text"
      },
      "source": [
        "1) P(<=20,medium,students,Y=yes)"
      ]
    },
    {
      "cell_type": "code",
      "metadata": {
        "id": "41ekW2ky3rUP",
        "colab_type": "code",
        "colab": {
          "base_uri": "https://localhost:8080/",
          "height": 34
        },
        "outputId": "8faa3531-0d52-4ec0-ad57-6aefcfa16590"
      },
      "source": [
        "likelihood_age_yes['<=20']*likelihood_income_yes['medium']*likelihood_status_yes['students']"
      ],
      "execution_count": 221,
      "outputs": [
        {
          "output_type": "execute_result",
          "data": {
            "text/plain": [
              "0.02623906705539358"
            ]
          },
          "metadata": {
            "tags": []
          },
          "execution_count": 221
        }
      ]
    },
    {
      "cell_type": "markdown",
      "metadata": {
        "id": "rOeg5zZ23F1_",
        "colab_type": "text"
      },
      "source": [
        "1) P(<=20,high,married,Y=yes)"
      ]
    },
    {
      "cell_type": "code",
      "metadata": {
        "id": "utQzKB1m36gM",
        "colab_type": "code",
        "colab": {
          "base_uri": "https://localhost:8080/",
          "height": 34
        },
        "outputId": "8fd9f589-16c8-49d8-9c10-7f72c3a27c47"
      },
      "source": [
        "likelihood_age_yes['<=20']*likelihood_income_yes['high']*likelihood_status_yes['married']"
      ],
      "execution_count": 222,
      "outputs": [
        {
          "output_type": "execute_result",
          "data": {
            "text/plain": [
              "0.1399416909620991"
            ]
          },
          "metadata": {
            "tags": []
          },
          "execution_count": 222
        }
      ]
    },
    {
      "cell_type": "markdown",
      "metadata": {
        "id": "1pgxguxd3GnX",
        "colab_type": "text"
      },
      "source": [
        "1) P(<=20,high,students,Y=yes)"
      ]
    },
    {
      "cell_type": "code",
      "metadata": {
        "id": "5rOBlHr23_Wv",
        "colab_type": "code",
        "colab": {
          "base_uri": "https://localhost:8080/",
          "height": 34
        },
        "outputId": "3708ea19-665b-4cea-d7e4-c1ba6c2753c6"
      },
      "source": [
        "likelihood_age_yes['<=20']*likelihood_income_yes['high']*likelihood_status_yes['students']"
      ],
      "execution_count": 223,
      "outputs": [
        {
          "output_type": "execute_result",
          "data": {
            "text/plain": [
              "0.10495626822157432"
            ]
          },
          "metadata": {
            "tags": []
          },
          "execution_count": 223
        }
      ]
    },
    {
      "cell_type": "markdown",
      "metadata": {
        "id": "gebfN0hHrsrE",
        "colab_type": "text"
      },
      "source": [
        "## Total Likelihood for xtest is \n",
        "\n",
        "## P(21-30,medium,married,Y=yes)"
      ]
    },
    {
      "cell_type": "code",
      "metadata": {
        "id": "xKXGfN2Or1XP",
        "colab_type": "code",
        "colab": {}
      },
      "source": [
        "total_likelihood=likelihood_age_yes['21-30']*likelihood_income_yes['medium']*likelihood_status_yes['married']"
      ],
      "execution_count": 269,
      "outputs": []
    },
    {
      "cell_type": "markdown",
      "metadata": {
        "id": "nHuyng7mhNwv",
        "colab_type": "text"
      },
      "source": [
        "#Prediction-Posterior Probability\n",
        "$P(Y = 1|X_{i} = x_{test} )$ = $p_{test}$ where $x_{test} = (Age = 21-30, Income= medium, Status = married)$\n",
        "\n",
        "$P(Y = 1|X_{i} = x_{test} )$ = $P(X_{i} = x_{test} | Y=1 ) * P(Y=1) / P(X_{i} = X_{test})$\n",
        "\n",
        "$P(X_{i} = X_{test})$ =  $P(X_{i} = x_{test} | Y=1 )*P(Y=1) + P(X_{i} = x_{test} | Y=0 )*P(Y=0)$ \n",
        "\n"
      ]
    },
    {
      "cell_type": "code",
      "metadata": {
        "id": "x4ejYV8NhU_n",
        "colab_type": "code",
        "colab": {}
      },
      "source": [
        "ptest=(total_likelihood*P_y_1)/(likelihood_age_yes['21-30']*likelihood_income_yes['medium']*likelihood_status_yes['married']*P_y_1+likelihood_age_no['21-30']*likelihood_income_no['medium']*likelihood_status_no['married']*(1-P_y_1))"
      ],
      "execution_count": 272,
      "outputs": []
    },
    {
      "cell_type": "code",
      "metadata": {
        "id": "wbn3-zJCjfni",
        "colab_type": "code",
        "colab": {
          "base_uri": "https://localhost:8080/",
          "height": 34
        },
        "outputId": "f51101df-986e-44fb-98a9-167c75252290"
      },
      "source": [
        "ptest"
      ],
      "execution_count": 273,
      "outputs": [
        {
          "output_type": "execute_result",
          "data": {
            "text/plain": [
              "0.16666666666666663"
            ]
          },
          "metadata": {
            "tags": []
          },
          "execution_count": 273
        }
      ]
    },
    {
      "cell_type": "markdown",
      "metadata": {
        "id": "d7oSqWeRqh3C",
        "colab_type": "text"
      },
      "source": [
        "#### The probability for Y=1 is 0.166666 which is less than 0.5, hence the output is predicted as Y=0\n",
        " "
      ]
    },
    {
      "cell_type": "code",
      "metadata": {
        "id": "K5yrf5sbnEKI",
        "colab_type": "code",
        "colab": {}
      },
      "source": [
        ""
      ],
      "execution_count": null,
      "outputs": []
    }
  ]
}