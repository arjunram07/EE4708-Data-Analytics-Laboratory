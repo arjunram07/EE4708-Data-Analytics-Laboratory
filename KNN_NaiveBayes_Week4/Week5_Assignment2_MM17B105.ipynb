{
  "nbformat": 4,
  "nbformat_minor": 0,
  "metadata": {
    "colab": {
      "name": "Week5_Assignment2_MM17B105.ipynb",
      "provenance": [],
      "collapsed_sections": [],
      "toc_visible": true
    },
    "kernelspec": {
      "display_name": "Python 3",
      "language": "python",
      "name": "python3"
    },
    "language_info": {
      "codemirror_mode": {
        "name": "ipython",
        "version": 3
      },
      "file_extension": ".py",
      "mimetype": "text/x-python",
      "name": "python",
      "nbconvert_exporter": "python",
      "pygments_lexer": "ipython3",
      "version": "3.6.3"
    },
    "toc": {
      "nav_menu": {},
      "number_sections": true,
      "sideBar": true,
      "skip_h1_title": false,
      "title_cell": "Table of Contents",
      "title_sidebar": "Contents",
      "toc_cell": false,
      "toc_position": {},
      "toc_section_display": true,
      "toc_window_display": false
    }
  },
  "cells": [
    {
      "cell_type": "markdown",
      "metadata": {
        "colab_type": "text",
        "id": "MMWp3bQP-bhU"
      },
      "source": [
        "# Lab 5 - Classification :  k-NN and Naive Bayes (using sklearn libraries)"
      ]
    },
    {
      "cell_type": "markdown",
      "metadata": {
        "id": "XmXrKs6H7UkH",
        "colab_type": "text"
      },
      "source": [
        "## k-NN"
      ]
    },
    {
      "cell_type": "markdown",
      "metadata": {
        "id": "JlIbNohL7UkK",
        "colab_type": "text"
      },
      "source": [
        "Use **\"Pima Indians Diabetes Dataset from UCI Machine Learning Repository\"** for this question.It is a binary class dataset. Split the dataset into train(80%), validation(10%) and test sets(10%).\n",
        "\n",
        "Run k-Nearest neighbours for different k values. Choose your own subset of k (atleast 10) and choose the best value of k from this subset. In solving real-world problems, the values of k are chosen based on experience and hence it is a tunable hyperparameter. Select the k, using validation set, which returns the best accuracy score. Report accuracy score by performing k-NN on the test dataset using the chosen k value. "
      ]
    },
    {
      "cell_type": "code",
      "metadata": {
        "id": "JZyyCTI17UkL",
        "colab_type": "code",
        "colab": {}
      },
      "source": [
        "import pandas as pd\n",
        "import numpy as np\n",
        "import warnings\n",
        "import matplotlib.pyplot as plt\n",
        "import sklearn\n",
        "from sklearn.neighbors import KNeighborsClassifier \n",
        "from sklearn.metrics import accuracy_score,f1_score,confusion_matrix\n",
        "from sklearn.model_selection import train_test_split\n",
        "warnings.filterwarnings(\"ignore\")"
      ],
      "execution_count": 1,
      "outputs": []
    },
    {
      "cell_type": "code",
      "metadata": {
        "id": "nNhN5xVX9Kzr",
        "colab_type": "code",
        "colab": {}
      },
      "source": [
        "data=pd.read_csv('diabetes.csv')\n",
        "X=data.drop('Outcome',axis=1)\n",
        "y=data['Outcome']"
      ],
      "execution_count": 2,
      "outputs": []
    },
    {
      "cell_type": "markdown",
      "metadata": {
        "id": "a8OMAkwIBjGE",
        "colab_type": "text"
      },
      "source": [
        "### Train, Validation, Test data split"
      ]
    },
    {
      "cell_type": "code",
      "metadata": {
        "id": "dCqeDT-P-A8-",
        "colab_type": "code",
        "colab": {}
      },
      "source": [
        "X_train, X_test, y_train, y_test = train_test_split(X, y, test_size=0.2, random_state=10)\n",
        "X_test, X_val, y_test, y_val = train_test_split(X_test, y_test, test_size=0.5, random_state=10)"
      ],
      "execution_count": 3,
      "outputs": []
    },
    {
      "cell_type": "markdown",
      "metadata": {
        "id": "ak7KFU94BczU",
        "colab_type": "text"
      },
      "source": [
        "### Maximum validation accuracy is obtained at k=5:"
      ]
    },
    {
      "cell_type": "code",
      "metadata": {
        "id": "sS9xu1rL_KEN",
        "colab_type": "code",
        "colab": {
          "base_uri": "https://localhost:8080/",
          "height": 34
        },
        "outputId": "4d56d01a-6c87-47e9-c124-0039ae1851b2"
      },
      "source": [
        "accuracy=[]\n",
        "for i in np.arange(1,100,2):\n",
        "  knn = KNeighborsClassifier(n_neighbors=i)\n",
        "  knn.fit(X_train, y_train) \n",
        "  y_pred= knn.predict(X_val)\n",
        "  accuracy.append((i,accuracy_score(y_pred,y_val)))\n",
        "accuracy.sort(key=lambda x: x[1],reverse=True)\n",
        "print('maximum validation accuracy is obtained at k = '+str(accuracy[0][0]))"
      ],
      "execution_count": 4,
      "outputs": [
        {
          "output_type": "stream",
          "text": [
            "maximum validation accuracy is obtained at k = 5\n"
          ],
          "name": "stdout"
        }
      ]
    },
    {
      "cell_type": "markdown",
      "metadata": {
        "id": "W4FBEQL_1RYM",
        "colab_type": "text"
      },
      "source": [
        "## TEST SET "
      ]
    },
    {
      "cell_type": "code",
      "metadata": {
        "id": "1mloQm8K07rk",
        "colab_type": "code",
        "colab": {
          "base_uri": "https://localhost:8080/",
          "height": 34
        },
        "outputId": "10f971f1-141d-45c5-e950-fc4e770059be"
      },
      "source": [
        "knn = KNeighborsClassifier(n_neighbors=5)\n",
        "knn.fit(X_train, y_train) \n",
        "y_pred= knn.predict(X_test)\n",
        "accuracy=accuracy_score(y_pred,y_test)\n",
        "print('The test set accuracy is ',accuracy)"
      ],
      "execution_count": 5,
      "outputs": [
        {
          "output_type": "stream",
          "text": [
            "The test set accuracy is  0.7142857142857143\n"
          ],
          "name": "stdout"
        }
      ]
    },
    {
      "cell_type": "markdown",
      "metadata": {
        "id": "qK4puWp87UkQ",
        "colab_type": "text"
      },
      "source": [
        "# RESULTS\n",
        "\n",
        "**1) The best k value is 5.**\n",
        "\n",
        "**2) The test set accuracy is 0.71428 for k=5**"
      ]
    },
    {
      "cell_type": "markdown",
      "metadata": {
        "id": "Bz9M2LOQ7UkR",
        "colab_type": "text"
      },
      "source": [
        "## Naive Bayes"
      ]
    },
    {
      "cell_type": "markdown",
      "metadata": {
        "id": "JZmaWNsr7UkS",
        "colab_type": "text"
      },
      "source": [
        "Use **\"Optical recognition of handwritten digits dataset\"** for this question. ** Download dataset from sklearn**. The dataset has 10 classes and 64 attributes (8x8 images). Visualise images from the dataset. Perform a train test split in the ratio 4:1. \n",
        "\n",
        "Naive Bayes - perform multiclass classification to classify the dataset into one of the ten classes. Experiment with the priors (Gaussian and Bernoulli) and report the best prior. Report the accuracies in terms of F1 scores and the confusion matrix (use sklearn functions for this too).\n",
        "\n"
      ]
    },
    {
      "cell_type": "code",
      "metadata": {
        "id": "q_Qt1V2A7UkT",
        "colab_type": "code",
        "colab": {
          "base_uri": "https://localhost:8080/",
          "height": 309
        },
        "outputId": "284fd8b3-2373-4bb1-f1f0-b6b03d5364e2"
      },
      "source": [
        "from sklearn.datasets import load_digits\n",
        "digits = load_digits()\n",
        "print(digits.data.shape)\n",
        "plt.figure(figsize=[10,5])\n",
        "for i in range(10):\n",
        "  plt.subplot(2,5,i+1)\n",
        "  plt.gray()\n",
        "  plt.imshow(digits.images[i]) "
      ],
      "execution_count": 7,
      "outputs": [
        {
          "output_type": "stream",
          "text": [
            "(1797, 64)\n"
          ],
          "name": "stdout"
        },
        {
          "output_type": "display_data",
          "data": {
            "image/png": "[encoded data removed]",
            "text/plain": [
              "<Figure size 720x360 with 10 Axes>"
            ]
          },
          "metadata": {
            "tags": [],
            "needs_background": "light"
          }
        }
      ]
    },
    {
      "cell_type": "markdown",
      "metadata": {
        "id": "27ieAHJlAild",
        "colab_type": "text"
      },
      "source": [
        "## Data splitting"
      ]
    },
    {
      "cell_type": "code",
      "metadata": {
        "id": "njYttZMA2Xdh",
        "colab_type": "code",
        "colab": {}
      },
      "source": [
        "X=digits.images.reshape(len(digits.images),-1)\n",
        "y=digits.target\n",
        "X_train,X_test,y_train,y_test=train_test_split(X,y,test_size=0.2,random_state=5)"
      ],
      "execution_count": 8,
      "outputs": []
    },
    {
      "cell_type": "markdown",
      "metadata": {
        "id": "cna11gIcCh-F",
        "colab_type": "text"
      },
      "source": [
        "## Prediction using Gaussian Naive Bayes"
      ]
    },
    {
      "cell_type": "code",
      "metadata": {
        "id": "sxNwlVk6_xKV",
        "colab_type": "code",
        "colab": {
          "base_uri": "https://localhost:8080/",
          "height": 221
        },
        "outputId": "19ee2497-4ab7-4466-9022-3ef0fe019759"
      },
      "source": [
        "from sklearn.naive_bayes import GaussianNB\n",
        "clf = GaussianNB()\n",
        "clf.fit(X_train,y_train)\n",
        "y_pred=clf.predict(X_test)\n",
        "accuracy=accuracy_score(y_pred,y_test)\n",
        "print('The accuracy is ',accuracy)\n",
        "print('F1 score is ',f1_score(y_test,y_pred,average='weighted'))\n",
        "confusion_matrix(y_test,y_pred)"
      ],
      "execution_count": 9,
      "outputs": [
        {
          "output_type": "stream",
          "text": [
            "The accuracy is  0.8472222222222222\n",
            "F1 score is  0.8499421506506554\n"
          ],
          "name": "stdout"
        },
        {
          "output_type": "execute_result",
          "data": {
            "text/plain": [
              "array([[34,  0,  0,  0,  0,  0,  0,  1,  0,  0],\n",
              "       [ 0, 28,  1,  0,  0,  0,  0,  0,  5,  1],\n",
              "       [ 0,  3, 18,  0,  0,  0,  0,  0, 15,  0],\n",
              "       [ 0,  0,  2, 25,  0,  3,  0,  1,  6,  0],\n",
              "       [ 0,  1,  0,  0, 30,  0,  0,  1,  0,  0],\n",
              "       [ 0,  0,  0,  1,  0, 41,  0,  1,  3,  0],\n",
              "       [ 0,  0,  0,  0,  0,  0, 29,  0,  1,  0],\n",
              "       [ 0,  0,  0,  0,  0,  0,  0, 42,  0,  0],\n",
              "       [ 0,  0,  1,  0,  0,  0,  0,  1, 36,  0],\n",
              "       [ 0,  0,  0,  1,  0,  1,  0,  1,  4, 22]])"
            ]
          },
          "metadata": {
            "tags": []
          },
          "execution_count": 9
        }
      ]
    },
    {
      "cell_type": "markdown",
      "metadata": {
        "id": "lTx3OrjBRqko",
        "colab_type": "text"
      },
      "source": [
        "## Prediction using Bernoulli Naive Bayes"
      ]
    },
    {
      "cell_type": "code",
      "metadata": {
        "id": "AQdtSBBGAzq_",
        "colab_type": "code",
        "colab": {
          "base_uri": "https://localhost:8080/",
          "height": 221
        },
        "outputId": "7e9ccd39-cba5-499f-a9eb-44a96a402e60"
      },
      "source": [
        "from sklearn.naive_bayes import BernoulliNB\n",
        "clf = BernoulliNB()\n",
        "clf.fit(X_train,y_train)\n",
        "y_pred=clf.predict(X_test)\n",
        "accuracy=accuracy_score(y_pred,y_test)\n",
        "print('The accuracy is ',accuracy)\n",
        "print('F1 score is ',f1_score(y_test,y_pred,average='weighted'))\n",
        "confusion_matrix(y_test,y_pred)"
      ],
      "execution_count": 10,
      "outputs": [
        {
          "output_type": "stream",
          "text": [
            "The accuracy is  0.875\n",
            "F1 score is  0.8752561647066984\n"
          ],
          "name": "stdout"
        },
        {
          "output_type": "execute_result",
          "data": {
            "text/plain": [
              "array([[32,  0,  0,  0,  3,  0,  0,  0,  0,  0],\n",
              "       [ 0, 22,  4,  0,  1,  0,  0,  1,  6,  1],\n",
              "       [ 0,  1, 32,  0,  0,  0,  0,  1,  2,  0],\n",
              "       [ 0,  0,  0, 31,  0,  0,  0,  0,  2,  4],\n",
              "       [ 0,  1,  0,  0, 30,  0,  0,  1,  0,  0],\n",
              "       [ 1,  1,  0,  0,  0, 39,  0,  0,  2,  3],\n",
              "       [ 0,  0,  0,  0,  0,  0, 29,  0,  1,  0],\n",
              "       [ 0,  0,  0,  0,  0,  0,  0, 42,  0,  0],\n",
              "       [ 0,  1,  1,  0,  0,  1,  0,  0, 33,  2],\n",
              "       [ 0,  0,  0,  0,  0,  2,  0,  1,  1, 25]])"
            ]
          },
          "metadata": {
            "tags": []
          },
          "execution_count": 10
        }
      ]
    },
    {
      "cell_type": "markdown",
      "metadata": {
        "id": "JigH034MREVu",
        "colab_type": "text"
      },
      "source": [
        "## Results:\n",
        "\n",
        "### From the above results Bernoulli Naive Bayes has the best F1-score which is 0.875"
      ]
    },
    {
      "cell_type": "code",
      "metadata": {
        "id": "W7bwOd97RUX1",
        "colab_type": "code",
        "colab": {}
      },
      "source": [
        ""
      ],
      "execution_count": null,
      "outputs": []
    }
  ]
}