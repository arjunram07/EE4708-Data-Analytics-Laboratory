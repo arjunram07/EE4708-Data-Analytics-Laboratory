{
  "nbformat": 4,
  "nbformat_minor": 0,
  "metadata": {
    "language_info": {
      "codemirror_mode": {
        "name": "ipython",
        "version": 3
      },
      "file_extension": ".py",
      "mimetype": "text/x-python",
      "name": "python",
      "nbconvert_exporter": "python",
      "pygments_lexer": "ipython3",
      "version": "3.7.6-final"
    },
    "orig_nbformat": 2,
    "kernelspec": {
      "name": "python37664bitmlpy37condab3772312a84b471288a9da4ed4b9b3c9",
      "display_name": "Python 3.7.6 64-bit ('mlpy37': conda)"
    },
    "colab": {
      "name": "week4notebook1_ques.ipynb",
      "provenance": [],
      "collapsed_sections": []
    }
  },
  "cells": [
    {
      "cell_type": "markdown",
      "metadata": {
        "id": "w3uUpvdfI3x-",
        "colab_type": "text"
      },
      "source": [
        "# Encoding (Label encoding and One-hot encoding)\n"
      ]
    },
    {
      "cell_type": "code",
      "metadata": {
        "id": "tTEcr6qdI3yF",
        "colab_type": "code",
        "colab": {}
      },
      "source": [
        "import pandas as pd\n",
        "import matplotlib.pyplot as plt\n",
        "import warnings\n",
        "warnings.filterwarnings(\"ignore\")"
      ],
      "execution_count": 8,
      "outputs": []
    },
    {
      "cell_type": "markdown",
      "metadata": {
        "id": "43OBiunbI3yK",
        "colab_type": "text"
      },
      "source": [
        "Open 'grades.csv' and use appropriate encoding technique to convert to numerical data. \n",
        "\n",
        "### Here I used alphabetical order for label encoding. That is A-1, B-2 .... "
      ]
    },
    {
      "cell_type": "code",
      "metadata": {
        "id": "n96NID4oC1Qz",
        "colab_type": "code",
        "colab": {}
      },
      "source": [
        "def label_encoding(column):\n",
        "  j=0\n",
        "  a=column.unique()\n",
        "  a.sort()\n",
        "  for i in a:\n",
        "    column=column.replace(i,j+1)\n",
        "    j=j+1\n",
        "  Labeled_data=column\n",
        "  return Labeled_data"
      ],
      "execution_count": 110,
      "outputs": []
    },
    {
      "cell_type": "code",
      "metadata": {
        "id": "dLcQcUe2C3ge",
        "colab_type": "code",
        "colab": {
          "base_uri": "https://localhost:8080/",
          "height": 390
        },
        "outputId": "b1d22f5e-81a2-4223-fc3e-d3c0a176385a"
      },
      "source": [
        "df = pd.read_csv(\"grades.csv\")\n",
        "df['Grades']=label_encoding(df['Grades'])\n",
        "df"
      ],
      "execution_count": 112,
      "outputs": [
        {
          "output_type": "execute_result",
          "data": {
            "text/html": [
              "<div>\n",
              "<style scoped>\n",
              "    .dataframe tbody tr th:only-of-type {\n",
              "        vertical-align: middle;\n",
              "    }\n",
              "\n",
              "    .dataframe tbody tr th {\n",
              "        vertical-align: top;\n",
              "    }\n",
              "\n",
              "    .dataframe thead th {\n",
              "        text-align: right;\n",
              "    }\n",
              "</style>\n",
              "<table border=\"1\" class=\"dataframe\">\n",
              "  <thead>\n",
              "    <tr style=\"text-align: right;\">\n",
              "      <th></th>\n",
              "      <th>Name</th>\n",
              "      <th>Grades</th>\n",
              "    </tr>\n",
              "  </thead>\n",
              "  <tbody>\n",
              "    <tr>\n",
              "      <th>0</th>\n",
              "      <td>Nilesh</td>\n",
              "      <td>1</td>\n",
              "    </tr>\n",
              "    <tr>\n",
              "      <th>1</th>\n",
              "      <td>Jhon</td>\n",
              "      <td>6</td>\n",
              "    </tr>\n",
              "    <tr>\n",
              "      <th>2</th>\n",
              "      <td>James</td>\n",
              "      <td>3</td>\n",
              "    </tr>\n",
              "    <tr>\n",
              "      <th>3</th>\n",
              "      <td>Ravi</td>\n",
              "      <td>5</td>\n",
              "    </tr>\n",
              "    <tr>\n",
              "      <th>4</th>\n",
              "      <td>Sita</td>\n",
              "      <td>6</td>\n",
              "    </tr>\n",
              "    <tr>\n",
              "      <th>5</th>\n",
              "      <td>Raju</td>\n",
              "      <td>4</td>\n",
              "    </tr>\n",
              "    <tr>\n",
              "      <th>6</th>\n",
              "      <td>Praful</td>\n",
              "      <td>5</td>\n",
              "    </tr>\n",
              "    <tr>\n",
              "      <th>7</th>\n",
              "      <td>Ganga</td>\n",
              "      <td>2</td>\n",
              "    </tr>\n",
              "    <tr>\n",
              "      <th>8</th>\n",
              "      <td>Ram</td>\n",
              "      <td>1</td>\n",
              "    </tr>\n",
              "    <tr>\n",
              "      <th>9</th>\n",
              "      <td>Rahim</td>\n",
              "      <td>6</td>\n",
              "    </tr>\n",
              "    <tr>\n",
              "      <th>10</th>\n",
              "      <td>Julia</td>\n",
              "      <td>2</td>\n",
              "    </tr>\n",
              "  </tbody>\n",
              "</table>\n",
              "</div>"
            ],
            "text/plain": [
              "      Name  Grades\n",
              "0   Nilesh       1\n",
              "1     Jhon       6\n",
              "2    James       3\n",
              "3     Ravi       5\n",
              "4     Sita       6\n",
              "5     Raju       4\n",
              "6   Praful       5\n",
              "7    Ganga       2\n",
              "8      Ram       1\n",
              "9    Rahim       6\n",
              "10   Julia       2"
            ]
          },
          "metadata": {
            "tags": []
          },
          "execution_count": 112
        }
      ]
    },
    {
      "cell_type": "markdown",
      "metadata": {
        "id": "iYAk4PKGZrxu",
        "colab_type": "text"
      },
      "source": [
        "### According to IITM grades."
      ]
    },
    {
      "cell_type": "code",
      "metadata": {
        "id": "cs76dQh9I3yL",
        "colab_type": "code",
        "colab": {
          "base_uri": "https://localhost:8080/",
          "height": 390
        },
        "outputId": "4170017d-8719-45d4-871a-33e007dc05b8"
      },
      "source": [
        "df = pd.read_csv(\"grades.csv\")\n",
        "df['Grades']=df['Grades'].map({'S':10,'A':9,'B':8,'C':7,'D':6,'E':4,'F':0})\n",
        "df"
      ],
      "execution_count": 113,
      "outputs": [
        {
          "output_type": "execute_result",
          "data": {
            "text/html": [
              "<div>\n",
              "<style scoped>\n",
              "    .dataframe tbody tr th:only-of-type {\n",
              "        vertical-align: middle;\n",
              "    }\n",
              "\n",
              "    .dataframe tbody tr th {\n",
              "        vertical-align: top;\n",
              "    }\n",
              "\n",
              "    .dataframe thead th {\n",
              "        text-align: right;\n",
              "    }\n",
              "</style>\n",
              "<table border=\"1\" class=\"dataframe\">\n",
              "  <thead>\n",
              "    <tr style=\"text-align: right;\">\n",
              "      <th></th>\n",
              "      <th>Name</th>\n",
              "      <th>Grades</th>\n",
              "    </tr>\n",
              "  </thead>\n",
              "  <tbody>\n",
              "    <tr>\n",
              "      <th>0</th>\n",
              "      <td>Nilesh</td>\n",
              "      <td>9</td>\n",
              "    </tr>\n",
              "    <tr>\n",
              "      <th>1</th>\n",
              "      <td>Jhon</td>\n",
              "      <td>10</td>\n",
              "    </tr>\n",
              "    <tr>\n",
              "      <th>2</th>\n",
              "      <td>James</td>\n",
              "      <td>7</td>\n",
              "    </tr>\n",
              "    <tr>\n",
              "      <th>3</th>\n",
              "      <td>Ravi</td>\n",
              "      <td>0</td>\n",
              "    </tr>\n",
              "    <tr>\n",
              "      <th>4</th>\n",
              "      <td>Sita</td>\n",
              "      <td>10</td>\n",
              "    </tr>\n",
              "    <tr>\n",
              "      <th>5</th>\n",
              "      <td>Raju</td>\n",
              "      <td>4</td>\n",
              "    </tr>\n",
              "    <tr>\n",
              "      <th>6</th>\n",
              "      <td>Praful</td>\n",
              "      <td>0</td>\n",
              "    </tr>\n",
              "    <tr>\n",
              "      <th>7</th>\n",
              "      <td>Ganga</td>\n",
              "      <td>8</td>\n",
              "    </tr>\n",
              "    <tr>\n",
              "      <th>8</th>\n",
              "      <td>Ram</td>\n",
              "      <td>9</td>\n",
              "    </tr>\n",
              "    <tr>\n",
              "      <th>9</th>\n",
              "      <td>Rahim</td>\n",
              "      <td>10</td>\n",
              "    </tr>\n",
              "    <tr>\n",
              "      <th>10</th>\n",
              "      <td>Julia</td>\n",
              "      <td>8</td>\n",
              "    </tr>\n",
              "  </tbody>\n",
              "</table>\n",
              "</div>"
            ],
            "text/plain": [
              "      Name  Grades\n",
              "0   Nilesh       9\n",
              "1     Jhon      10\n",
              "2    James       7\n",
              "3     Ravi       0\n",
              "4     Sita      10\n",
              "5     Raju       4\n",
              "6   Praful       0\n",
              "7    Ganga       8\n",
              "8      Ram       9\n",
              "9    Rahim      10\n",
              "10   Julia       8"
            ]
          },
          "metadata": {
            "tags": []
          },
          "execution_count": 113
        }
      ]
    },
    {
      "cell_type": "markdown",
      "metadata": {
        "id": "JtO_MBQTj61F",
        "colab_type": "text"
      },
      "source": [
        "Answer the following for both the data \n",
        "\n",
        "- **What are the categories in the data?**\n",
        "\n",
        "Ans: The Categories in this data are the grades of different students. [S,A,B,C,D,E,F]\n",
        "- **what is the relationship between different categories in the grades column?**\n",
        "\n",
        "Ans: The Grades have a specific order, because S is greater than A and so on. S>A>B>C>D>E>F \n",
        "- **Which encoding to be used Label encoding or one-hot encoding?**\n",
        "\n",
        "Ans: Label Encoding is used here. Because of its order. One-hot can also be used. \n",
        "\n"
      ]
    },
    {
      "cell_type": "markdown",
      "metadata": {
        "id": "5wfWp_89I3yV",
        "colab_type": "text"
      },
      "source": [
        "Open 'colors.csv' and use appropriate encoding technique to convert to numerical data\n",
        "\n",
        "### Here One-Hot Encoding is used"
      ]
    },
    {
      "cell_type": "code",
      "metadata": {
        "id": "PiHvDjRhbRSY",
        "colab_type": "code",
        "colab": {}
      },
      "source": [
        "def onehot(column):\n",
        "  a=column.unique()\n",
        "  a.sort()\n",
        "  b=[]\n",
        "  for i in column:\n",
        "    b.append(np.where(a==i)[0][0])\n",
        "  data=np.array(b)  \n",
        "  shape = (data.size, data.max()+1)\n",
        "  one_hot = np.zeros(shape)\n",
        "  rows = np.arange(data.size)\n",
        "  one_hot[rows,data] = 1\n",
        "  c=pd.DataFrame(one_hot,columns=a)\n",
        "  return c "
      ],
      "execution_count": 175,
      "outputs": []
    },
    {
      "cell_type": "code",
      "metadata": {
        "id": "dpKQIcxTI3yW",
        "colab_type": "code",
        "colab": {
          "base_uri": "https://localhost:8080/",
          "height": 297
        },
        "outputId": "62fded72-0e49-4c31-fc42-76e7dfd7387f"
      },
      "source": [
        "df = pd.read_csv(\"color.csv\")\n",
        "onehot(df['Color'])"
      ],
      "execution_count": 179,
      "outputs": [
        {
          "output_type": "execute_result",
          "data": {
            "text/html": [
              "<div>\n",
              "<style scoped>\n",
              "    .dataframe tbody tr th:only-of-type {\n",
              "        vertical-align: middle;\n",
              "    }\n",
              "\n",
              "    .dataframe tbody tr th {\n",
              "        vertical-align: top;\n",
              "    }\n",
              "\n",
              "    .dataframe thead th {\n",
              "        text-align: right;\n",
              "    }\n",
              "</style>\n",
              "<table border=\"1\" class=\"dataframe\">\n",
              "  <thead>\n",
              "    <tr style=\"text-align: right;\">\n",
              "      <th></th>\n",
              "      <th>Blue</th>\n",
              "      <th>Green</th>\n",
              "      <th>Red</th>\n",
              "      <th>Yellow</th>\n",
              "    </tr>\n",
              "  </thead>\n",
              "  <tbody>\n",
              "    <tr>\n",
              "      <th>0</th>\n",
              "      <td>0.0</td>\n",
              "      <td>1.0</td>\n",
              "      <td>0.0</td>\n",
              "      <td>0.0</td>\n",
              "    </tr>\n",
              "    <tr>\n",
              "      <th>1</th>\n",
              "      <td>0.0</td>\n",
              "      <td>0.0</td>\n",
              "      <td>1.0</td>\n",
              "      <td>0.0</td>\n",
              "    </tr>\n",
              "    <tr>\n",
              "      <th>2</th>\n",
              "      <td>1.0</td>\n",
              "      <td>0.0</td>\n",
              "      <td>0.0</td>\n",
              "      <td>0.0</td>\n",
              "    </tr>\n",
              "    <tr>\n",
              "      <th>3</th>\n",
              "      <td>0.0</td>\n",
              "      <td>0.0</td>\n",
              "      <td>1.0</td>\n",
              "      <td>0.0</td>\n",
              "    </tr>\n",
              "    <tr>\n",
              "      <th>4</th>\n",
              "      <td>0.0</td>\n",
              "      <td>0.0</td>\n",
              "      <td>0.0</td>\n",
              "      <td>1.0</td>\n",
              "    </tr>\n",
              "    <tr>\n",
              "      <th>5</th>\n",
              "      <td>0.0</td>\n",
              "      <td>0.0</td>\n",
              "      <td>1.0</td>\n",
              "      <td>0.0</td>\n",
              "    </tr>\n",
              "    <tr>\n",
              "      <th>6</th>\n",
              "      <td>0.0</td>\n",
              "      <td>0.0</td>\n",
              "      <td>0.0</td>\n",
              "      <td>1.0</td>\n",
              "    </tr>\n",
              "    <tr>\n",
              "      <th>7</th>\n",
              "      <td>0.0</td>\n",
              "      <td>0.0</td>\n",
              "      <td>0.0</td>\n",
              "      <td>1.0</td>\n",
              "    </tr>\n",
              "  </tbody>\n",
              "</table>\n",
              "</div>"
            ],
            "text/plain": [
              "   Blue  Green  Red  Yellow\n",
              "0   0.0    1.0  0.0     0.0\n",
              "1   0.0    0.0  1.0     0.0\n",
              "2   1.0    0.0  0.0     0.0\n",
              "3   0.0    0.0  1.0     0.0\n",
              "4   0.0    0.0  0.0     1.0\n",
              "5   0.0    0.0  1.0     0.0\n",
              "6   0.0    0.0  0.0     1.0\n",
              "7   0.0    0.0  0.0     1.0"
            ]
          },
          "metadata": {
            "tags": []
          },
          "execution_count": 179
        }
      ]
    },
    {
      "cell_type": "markdown",
      "metadata": {
        "id": "w-fYz9XoI3ya",
        "colab_type": "text"
      },
      "source": [
        "## Complete dataframe\n"
      ]
    },
    {
      "cell_type": "code",
      "metadata": {
        "id": "XzjbM0qVI3yb",
        "colab_type": "code",
        "colab": {
          "base_uri": "https://localhost:8080/",
          "height": 297
        },
        "outputId": "b4a618a3-1d52-47bb-b55b-1715f2026a98"
      },
      "source": [
        "a=df.drop(['Color'],axis=1)\n",
        "pd.concat([a, onehot(df['Color'])], axis=1)"
      ],
      "execution_count": 182,
      "outputs": [
        {
          "output_type": "execute_result",
          "data": {
            "text/html": [
              "<div>\n",
              "<style scoped>\n",
              "    .dataframe tbody tr th:only-of-type {\n",
              "        vertical-align: middle;\n",
              "    }\n",
              "\n",
              "    .dataframe tbody tr th {\n",
              "        vertical-align: top;\n",
              "    }\n",
              "\n",
              "    .dataframe thead th {\n",
              "        text-align: right;\n",
              "    }\n",
              "</style>\n",
              "<table border=\"1\" class=\"dataframe\">\n",
              "  <thead>\n",
              "    <tr style=\"text-align: right;\">\n",
              "      <th></th>\n",
              "      <th>Objects</th>\n",
              "      <th>Blue</th>\n",
              "      <th>Green</th>\n",
              "      <th>Red</th>\n",
              "      <th>Yellow</th>\n",
              "    </tr>\n",
              "  </thead>\n",
              "  <tbody>\n",
              "    <tr>\n",
              "      <th>0</th>\n",
              "      <td>Leaves</td>\n",
              "      <td>0.0</td>\n",
              "      <td>1.0</td>\n",
              "      <td>0.0</td>\n",
              "      <td>0.0</td>\n",
              "    </tr>\n",
              "    <tr>\n",
              "      <th>1</th>\n",
              "      <td>Blood</td>\n",
              "      <td>0.0</td>\n",
              "      <td>0.0</td>\n",
              "      <td>1.0</td>\n",
              "      <td>0.0</td>\n",
              "    </tr>\n",
              "    <tr>\n",
              "      <th>2</th>\n",
              "      <td>Sea</td>\n",
              "      <td>1.0</td>\n",
              "      <td>0.0</td>\n",
              "      <td>0.0</td>\n",
              "      <td>0.0</td>\n",
              "    </tr>\n",
              "    <tr>\n",
              "      <th>3</th>\n",
              "      <td>Rose</td>\n",
              "      <td>0.0</td>\n",
              "      <td>0.0</td>\n",
              "      <td>1.0</td>\n",
              "      <td>0.0</td>\n",
              "    </tr>\n",
              "    <tr>\n",
              "      <th>4</th>\n",
              "      <td>Sun flower</td>\n",
              "      <td>0.0</td>\n",
              "      <td>0.0</td>\n",
              "      <td>0.0</td>\n",
              "      <td>1.0</td>\n",
              "    </tr>\n",
              "    <tr>\n",
              "      <th>5</th>\n",
              "      <td>Apple</td>\n",
              "      <td>0.0</td>\n",
              "      <td>0.0</td>\n",
              "      <td>1.0</td>\n",
              "      <td>0.0</td>\n",
              "    </tr>\n",
              "    <tr>\n",
              "      <th>6</th>\n",
              "      <td>Mango</td>\n",
              "      <td>0.0</td>\n",
              "      <td>0.0</td>\n",
              "      <td>0.0</td>\n",
              "      <td>1.0</td>\n",
              "    </tr>\n",
              "    <tr>\n",
              "      <th>7</th>\n",
              "      <td>Banana</td>\n",
              "      <td>0.0</td>\n",
              "      <td>0.0</td>\n",
              "      <td>0.0</td>\n",
              "      <td>1.0</td>\n",
              "    </tr>\n",
              "  </tbody>\n",
              "</table>\n",
              "</div>"
            ],
            "text/plain": [
              "      Objects  Blue  Green  Red  Yellow\n",
              "0      Leaves   0.0    1.0  0.0     0.0\n",
              "1       Blood   0.0    0.0  1.0     0.0\n",
              "2         Sea   1.0    0.0  0.0     0.0\n",
              "3        Rose   0.0    0.0  1.0     0.0\n",
              "4  Sun flower   0.0    0.0  0.0     1.0\n",
              "5       Apple   0.0    0.0  1.0     0.0\n",
              "6       Mango   0.0    0.0  0.0     1.0\n",
              "7      Banana   0.0    0.0  0.0     1.0"
            ]
          },
          "metadata": {
            "tags": []
          },
          "execution_count": 182
        }
      ]
    },
    {
      "cell_type": "markdown",
      "metadata": {
        "id": "3dsEFq5wI3yf",
        "colab_type": "text"
      },
      "source": [
        "\n",
        "- **What are the categories in the data?**\n",
        "\n",
        "Ans: The categories are the colors of different objects.['Blue','Green','Red','Yellow']\n",
        "\n",
        "- **what is the relationship between different categories in the column?**\n",
        "\n",
        "Ans: There is no specific relationship, each color is different and are not comparable. Hence, each must be given equal numbering. (Usually 1)\n",
        "\n",
        "- **Which encoding to be used Label encoding or one-hot encoding?**\n",
        "\n",
        "Ans: One-hot encoding is used in this case. Because the colors are not comparable and hence each must have equal numbering. \n",
        "\n",
        "\n"
      ]
    },
    {
      "cell_type": "markdown",
      "metadata": {
        "id": "wwJK4cofI3yg",
        "colab_type": "text"
      },
      "source": [
        "\n",
        "\n",
        "\n",
        "\n",
        "\n",
        "\n",
        "# Regularized Least Squares"
      ]
    },
    {
      "cell_type": "markdown",
      "metadata": {
        "id": "dBxEb9SXI3yh",
        "colab_type": "text"
      },
      "source": [
        "## Ridge Regression \n",
        "\n",
        "$$\\hat{\\theta} = argmin_{\\theta}((y - X\\theta)^\\top(y - X\\theta) + \\lambda \\theta^\\top \\theta)$$\n",
        "\n",
        "\n",
        "\n"
      ]
    },
    {
      "cell_type": "markdown",
      "metadata": {
        "id": "pP-n7NDRI3yl",
        "colab_type": "text"
      },
      "source": [
        "Complete the following functions for ridge rigression using gradient descent (without sklearn)  \n",
        "\n",
        "- You can reuse the functions you have written in last week\n",
        "- Also you need to change gradient and cost accordingly\n",
        "\n",
        "Hint: If you use numpy for gradient calculation for theta, you may have to flatten the numpy array"
      ]
    },
    {
      "cell_type": "code",
      "metadata": {
        "id": "sUBQvSy6I3ym",
        "colab_type": "code",
        "colab": {}
      },
      "source": [
        "\n",
        "def computeCost(X, y, theta,lamda):\n",
        "  J=0\n",
        "  h=np.matmul(X,theta)\n",
        "  for i in range(len(y)):\n",
        "    J=J+(h[i]-y[i])**2\n",
        "  return J+sum(([lamda*j**2 for j in theta]))"
      ],
      "execution_count": 14,
      "outputs": []
    },
    {
      "cell_type": "code",
      "metadata": {
        "id": "5t1dUK4iPOq5",
        "colab_type": "code",
        "colab": {}
      },
      "source": [
        "def gradient(X_appended, y, theta,lamda):\n",
        "  grad=[0,0,0,0]\n",
        "  h=np.matmul(X_appended,np.array(theta))\n",
        "  for i in range(len(X_appended)):\n",
        "    grad=grad+(h[i]-y[i])*X_appended[i]\n",
        "  grad=grad+[2*lamda*j for j in theta]\n",
        "  newgrad = []\n",
        "  for x in grad:\n",
        "    newgrad.append(x/len(y))\n",
        "  return newgrad\n",
        "\n",
        "def gradientDescent(X_appended, y, theta, alpha, lamda, max_iters):\n",
        "  b1=theta\n",
        "  iterations=0\n",
        "  J_history=[]\n",
        "  while True: \n",
        "    iterations+=1\n",
        "    b2=b1;\n",
        "    b1=b1-np.dot(alpha,gradient(X_appended,y,b2,lamda));\n",
        "    J_history.append(computeCost(X_appended,y,b1,lamda))\n",
        "    if iterations==max_iters:\n",
        "      break\n",
        "  theta=b1\n",
        "  cost=computeCost(X_appended,y,theta,lamda)\n",
        "  count=iterations\n",
        "  return theta, J_history, cost, count"
      ],
      "execution_count": 15,
      "outputs": []
    },
    {
      "cell_type": "markdown",
      "metadata": {
        "id": "u3B4fqO7I3yw",
        "colab_type": "text"
      },
      "source": [
        "Load \"dataWeek4Train.npz\" for training the model and \"dataWeek4Test.npz\" for validating ridge rigression\n",
        "\n",
        "Note: use np.load()"
      ]
    },
    {
      "cell_type": "code",
      "metadata": {
        "id": "_lveaxl6I3yw",
        "colab_type": "code",
        "colab": {}
      },
      "source": [
        "import numpy as np\n",
        "from matplotlib import pyplot as plt\n",
        "data = np.load(\"dataWeek4Train.npz\")\n",
        "a=[]\n",
        "for item in data.files:\n",
        "  a.append(data[item])\n",
        "X=a[0]\n",
        "y=a[1]\n",
        "data=pd.DataFrame({'X':X,'y':y})\n",
        "data_test = np.load(\"dataWeek4Test.npz\")\n",
        "a=[]\n",
        "for item in data_test.files:\n",
        "  a.append(data_test[item])\n",
        "X=a[0]\n",
        "y=a[1]\n",
        "data_test=pd.DataFrame({'X':X,'y':y}).to_numpy()\n"
      ],
      "execution_count": 186,
      "outputs": []
    },
    {
      "cell_type": "markdown",
      "metadata": {
        "id": "QjV8bwwRI3y1",
        "colab_type": "text"
      },
      "source": [
        "Using functions written above try to fit the data with polynomial of degree 3 and \n",
        " \n",
        "- plot the fit on train data, for $\\lambda$ = [0,100,10000] \n",
        "\n",
        "- take learning rate (here it is alpha) 0.0001, \n",
        "- max_iters as 1000 (you can change if you wish)\n",
        "\n",
        "- Write comment how the fit changes as lambda and what is the reason?"
      ]
    },
    {
      "cell_type": "markdown",
      "metadata": {
        "id": "uneZErLD0vDh",
        "colab_type": "text"
      },
      "source": [
        "3rd degree data Creation:\n",
        "\n",
        "y=a+bX1+cX2^2+dX3^3"
      ]
    },
    {
      "cell_type": "code",
      "metadata": {
        "tags": [],
        "id": "RUPJYLyzI3y1",
        "colab_type": "code",
        "colab": {}
      },
      "source": [
        "data['bias']=np.ones(8)\n",
        "data['X1']=data['X']\n",
        "data['X2']=data['X']**2\n",
        "data['X3']=data['X']**3\n",
        "data.drop(['X','y'],axis=1)\n",
        "X=data[['bias','X1','X2','X3']].to_numpy()\n",
        "y=data['y'].to_numpy()"
      ],
      "execution_count": 187,
      "outputs": []
    },
    {
      "cell_type": "code",
      "metadata": {
        "id": "pcL6GXUw1I-W",
        "colab_type": "code",
        "colab": {}
      },
      "source": [
        "[theta_1, J_history, cost, count]=gradientDescent(X,y,[0,0,0,0],0.0001,0,10000)\n",
        "[theta_2, J_history, cost, count]=gradientDescent(X,y,[0,0,0,0],0.0001,100,10000)\n",
        "[theta_3, J_history, cost, count]=gradientDescent(X,y,[0,0,0,0],0.0001,10000,10000)"
      ],
      "execution_count": 188,
      "outputs": []
    },
    {
      "cell_type": "code",
      "metadata": {
        "id": "kMB4e-a5QmOs",
        "colab_type": "code",
        "colab": {
          "base_uri": "https://localhost:8080/",
          "height": 296
        },
        "outputId": "c46e4dad-a81b-402a-cd23-22b5edf52995"
      },
      "source": [
        "x=np.linspace(-9,10)\n",
        "y_1=theta_1[0]\n",
        "for i in range(1,4):\n",
        "  y_1=y_1+theta_1[i]*x**(i)\n",
        "y_2=theta_2[0]\n",
        "for i in range(1,4):\n",
        "  y_2=y_2+theta_2[i]*x**(i)\n",
        "y_3=theta_3[0]\n",
        "for i in range(1,4):\n",
        "  y_3=y_3+theta_3[i]*x**(i)\n",
        "plt.plot(x,y_1,'b')\n",
        "plt.plot(x,y_2,'k')\n",
        "plt.plot(x,y_3,'r')\n",
        "plt.scatter(data['X1'],y)\n",
        "plt.legend(['lamda=0','lamda=100','lamda=10000','scatter plot '])\n",
        "plt.xlabel('X')\n",
        "plt.ylabel('y')"
      ],
      "execution_count": 189,
      "outputs": [
        {
          "output_type": "execute_result",
          "data": {
            "text/plain": [
              "Text(0, 0.5, 'y')"
            ]
          },
          "metadata": {
            "tags": []
          },
          "execution_count": 189
        },
        {
          "output_type": "display_data",
          "data": {
            "image/png": "[encoded data removed]",
            "text/plain": [
              "<Figure size 432x288 with 1 Axes>"
            ]
          },
          "metadata": {
            "tags": [],
            "needs_background": "light"
          }
        }
      ]
    },
    {
      "cell_type": "markdown",
      "metadata": {
        "id": "PUhKrkLxI3y5",
        "colab_type": "text"
      },
      "source": [
        "Use same data \"dataWeek4Train.npz\" for training the model and \"dataWeek4Test.npz\" for validating the model for all three models4\n",
        "\n",
        "In the following exercises you can use inbuilt regressionn functions from sklearn"
      ]
    },
    {
      "cell_type": "markdown",
      "metadata": {
        "id": "9K8zrntUYP7w",
        "colab_type": "text"
      },
      "source": [
        "## PREDICTIONS "
      ]
    },
    {
      "cell_type": "code",
      "metadata": {
        "id": "0g21jWkFI3y9",
        "colab_type": "code",
        "colab": {}
      },
      "source": [
        "x=[data_test[0][0],data_test[1][0]]\n",
        "y_pred_1=[theta_1[0],theta_1[0]]\n",
        "for i in range(1,4):\n",
        "  y_pred_1=np.array(y_pred_1)+np.array([theta_1[i]*j**(i) for j in x])\n",
        "y_pred_2=[theta_2[0],theta_2[0]]\n",
        "for i in range(1,4):\n",
        "  y_pred_2=np.array(y_pred_2)+np.array([theta_2[i]*j**(i) for j in x])\n",
        "y_pred_3=[theta_3[0],theta_3[0]]\n",
        "for i in range(1,4):\n",
        "  y_pred_3=np.array(y_pred_3)+np.array([theta_3[i]*j**(i) for j in x])"
      ],
      "execution_count": 190,
      "outputs": []
    },
    {
      "cell_type": "code",
      "metadata": {
        "id": "hcluv3Y8XlS8",
        "colab_type": "code",
        "colab": {
          "base_uri": "https://localhost:8080/",
          "height": 296
        },
        "outputId": "9e4f0b9c-7a00-4ae6-bdd7-d14f458d8e1e"
      },
      "source": [
        "from sklearn.metrics import mean_squared_error\n",
        "mse=[]\n",
        "mse.append(mean_squared_error(y_pred_1,data_test[:,1]))\n",
        "mse.append(mean_squared_error(y_pred_2,data_test[:,1]))\n",
        "mse.append(mean_squared_error(y_pred_3,data_test[:,1]))\n",
        "plt.bar(['0','100','10000'],mse)\n",
        "plt.xlabel('lamda')\n",
        "plt.ylabel('MSE')\n"
      ],
      "execution_count": 191,
      "outputs": [
        {
          "output_type": "execute_result",
          "data": {
            "text/plain": [
              "Text(0, 0.5, 'MSE')"
            ]
          },
          "metadata": {
            "tags": []
          },
          "execution_count": 191
        },
        {
          "output_type": "display_data",
          "data": {
            "image/png": "[encoded data removed]",
            "text/plain": [
              "<Figure size 432x288 with 1 Axes>"
            ]
          },
          "metadata": {
            "tags": [],
            "needs_background": "light"
          }
        }
      ]
    },
    {
      "cell_type": "markdown",
      "metadata": {
        "id": "leyxeJ8wI3zI",
        "colab_type": "text"
      },
      "source": [
        "\n",
        "##  Linear Regression (Recap)\n"
      ]
    },
    {
      "cell_type": "markdown",
      "metadata": {
        "id": "81uWZwG_I3zJ",
        "colab_type": "text"
      },
      "source": [
        "Write a generic function decribed in the following cell which takes in data, regression type - lasso,ridge and usual linear , degree of the polynomial and then the alpha values (which are regularization parameters -lambda $\\lambda$ , in sklearn they are named as alpha so its just a notaitonal difference).\n",
        "\n",
        "\n",
        "\n",
        "Hint: Use PolynomialFeatures from sklearn and set bias to Flase"
      ]
    },
    {
      "cell_type": "markdown",
      "metadata": {
        "id": "lhFt7iy8I3zK",
        "colab_type": "text"
      },
      "source": [
        "Use 9 degree polynomial features to fit the data using Linear Rigression. Comment on the fit of the model (Overfit, underfit, perfect fit) and also plot prediction on training data along with ground truth"
      ]
    },
    {
      "cell_type": "code",
      "metadata": {
        "id": "MjIk13kyI3zK",
        "colab_type": "code",
        "colab": {}
      },
      "source": [
        "X=data['X'].to_numpy().reshape(-1,1)\n",
        "y=data['y'].to_numpy().reshape(-1,1)\n",
        "from sklearn.linear_model import Lasso\n",
        "from sklearn.linear_model import LinearRegression\n",
        "from sklearn.linear_model import Ridge\n",
        "from sklearn.preprocessing import PolynomialFeatures\n",
        "def regression(X,y,reg_type ,degree ,alpha):\n",
        "  polynomial_features= PolynomialFeatures(degree=degree,include_bias=False)\n",
        "  x_poly = polynomial_features.fit_transform(X)\n",
        "  if reg_type=='ridge':\n",
        "    rid=Ridge(alpha=alpha)\n",
        "    rid.fit(x_poly,y)\n",
        "    Y_hat=rid.predict(x_poly)\n",
        "    mse=mean_squared_error(y,Y_hat)\n",
        "    coef=rid.coef_\n",
        "    model=rid\n",
        "  elif reg_type=='lasso':\n",
        "    las=Lasso(alpha=alpha)\n",
        "    las.fit(x_poly,y)\n",
        "    Y_hat=las.predict(x_poly)\n",
        "    mse=mean_squared_error(y,Y_hat)\n",
        "    coef=las.coef_\n",
        "    model=las\n",
        "  elif reg_type=='linear':\n",
        "    reg=LinearRegression().fit(x_poly,y)\n",
        "    Y_hat=reg.predict(x_poly)\n",
        "    mse=mean_squared_error(y,Y_hat)\n",
        "    coef=reg.coef_\n",
        "    model=reg\n",
        "  return Y_hat, mse, coef, model"
      ],
      "execution_count": 192,
      "outputs": []
    },
    {
      "cell_type": "markdown",
      "metadata": {
        "id": "zqLt_pPXI9oG",
        "colab_type": "text"
      },
      "source": [
        "## PLOTS "
      ]
    },
    {
      "cell_type": "code",
      "metadata": {
        "id": "7eBndTmRLLhw",
        "colab_type": "code",
        "colab": {}
      },
      "source": [
        "[Y_hat_Lasso,mse_Lasso,coef_Lasso,model_Lasso]=regression(X,y,\"lasso\",9,0.1)\n",
        "[Y_hat_Ridge,mse_Ridge,coef_Ridge,model_Ridge]=regression(X,y,\"ridge\",9,0.1)\n",
        "[Y_hat_linear,mse_linear,coef_linear,model_linear]=regression(X,y,\"linear\",9,0.1)"
      ],
      "execution_count": 193,
      "outputs": []
    },
    {
      "cell_type": "code",
      "metadata": {
        "id": "wvLlMpWiBKfZ",
        "colab_type": "code",
        "colab": {
          "base_uri": "https://localhost:8080/",
          "height": 623
        },
        "outputId": "1f457f19-b9c6-4099-ab06-68b4647e7f70"
      },
      "source": [
        "x=np.linspace(-6,6)\n",
        "x2=np.linspace(-6,6)\n",
        "x3=np.linspace(-6,6)\n",
        "y_pred_Lasso=0\n",
        "y_pred_Ridge=0\n",
        "y_pred_linear=0\n",
        "for i in range(9):\n",
        "  y_pred_Lasso=y_pred_Lasso+coef_Lasso[i]*x**(i+1)\n",
        "  y_pred_Ridge=y_pred_Ridge+coef_Ridge[0][i]*x2**(i+1)\n",
        "  y_pred_linear=y_pred_linear+coef_linear[0][i]*x2**(i+1)\n",
        "plt.figure(figsize=[10,10])\n",
        "plt.subplot(2,2,1)\n",
        "plt.plot(x,y_pred_Lasso,'r')\n",
        "plt.scatter(X,y)\n",
        "plt.xlabel('X')\n",
        "plt.ylabel('y')\n",
        "plt.legend(['ninth degree fit-LASSO','scatter plot'])\n",
        "plt.subplot(2,2,2)\n",
        "plt.plot(x,y_pred_Ridge,'r')\n",
        "plt.scatter(X,y)\n",
        "plt.xlabel('X')\n",
        "plt.ylabel('y')\n",
        "plt.legend(['ninth degree fit-RIDGE','scatter plot'])\n",
        "plt.subplot(2,2,3)\n",
        "plt.plot(x,y_pred_linear,'r')\n",
        "plt.scatter(X,y)\n",
        "plt.xlabel('X')\n",
        "plt.ylabel('y')\n",
        "plt.legend(['ninth degree fit-LINEAR','scatter plot'])"
      ],
      "execution_count": 194,
      "outputs": [
        {
          "output_type": "execute_result",
          "data": {
            "text/plain": [
              "<matplotlib.legend.Legend at 0x7f9d26543f98>"
            ]
          },
          "metadata": {
            "tags": []
          },
          "execution_count": 194
        },
        {
          "output_type": "display_data",
          "data": {
            "image/png": "[encoded data removed]",
            "text/plain": [
              "<Figure size 720x720 with 3 Axes>"
            ]
          },
          "metadata": {
            "tags": [],
            "needs_background": "light"
          }
        }
      ]
    },
    {
      "cell_type": "markdown",
      "metadata": {
        "id": "S55EZSNfKEDh",
        "colab_type": "text"
      },
      "source": [
        "### THE LINEAR REGRESSION WITH DEGREE 9 IS AN OVERFIT MODEL"
      ]
    },
    {
      "cell_type": "markdown",
      "metadata": {
        "id": "W6WmT5u_I3zP",
        "colab_type": "text"
      },
      "source": [
        "## Ridge Rigression and Lasso for polynomial fitting with degree 9\n",
        "In previous you observed that how the model has fit the training data, now try the same thing using regularization both Ridge and Lasso. Use the generic function that you wrote in previous cell.\n",
        "\n",
        " - Now use polynomial regression of order 9 along with Ridge regression and Lasso regression on \"dataWeek4Train.npz\" for $\\lambda= [0, 1, 10^5, 10^{10}]$ and plot the true vs predicted values for each $\\lambda$ (Note here that in sklearn lambda is alpha)\n",
        "\n",
        "- Plot the prediction on training data along with ground truth for various values of $\\lambda$ for both ridge and lasso. And also print the coefficients of model for each $\\lambda$\n",
        "\n",
        "- Also plot trainning error vs $\\lambda$\n",
        "\n",
        "Note : Here you can use ridge Rigression from sklearn and also set bias to False in polynomial features  \n",
        "- You can use library to generate polynomial features"
      ]
    },
    {
      "cell_type": "markdown",
      "metadata": {
        "id": "_AYSxUdpI3zQ",
        "colab_type": "text"
      },
      "source": [
        "\n",
        "### Lasso Regression\n",
        "\n",
        "$$\\hat{\\theta} = argmin_{\\theta}(\\frac{1}{2} \\sum_{i=1}^{N} (y_i-\\theta_0-\\sum_{j=1}^p x_{ij}\\theta_j)^2 + \\lambda \\sum_{j=1}^{p}|\\theta_j|)$$"
      ]
    },
    {
      "cell_type": "markdown",
      "metadata": {
        "id": "T_xs1eCGgbpz",
        "colab_type": "text"
      },
      "source": [
        "### Plots"
      ]
    },
    {
      "cell_type": "code",
      "metadata": {
        "id": "RfCA-btTe3Oy",
        "colab_type": "code",
        "colab": {
          "base_uri": "https://localhost:8080/",
          "height": 621
        },
        "outputId": "13b624f8-ad58-4423-e165-d5d7d85f7f7e"
      },
      "source": [
        "\n",
        "j=1\n",
        "plt.figure(figsize=[10,10])\n",
        "for i in [0,1,10**5,10**10]:\n",
        "  plt.subplot(2,2,j)\n",
        "  plt.title('Lamda = '+str(i))\n",
        "  plt.scatter(X,y)\n",
        "  plt.scatter(X,regression(X,y,\"lasso\",9,i)[0])\n",
        "  plt.scatter(X,regression(X,y,\"ridge\",9,i)[0])\n",
        "  plt.xlabel('X')\n",
        "  plt.ylabel('y')\n",
        "  plt.legend(['True','Lasso predicted','Ridge Predicted'])\n",
        "  j=j+1"
      ],
      "execution_count": 195,
      "outputs": [
        {
          "output_type": "display_data",
          "data": {
            "image/png": "[encoded data removed]",
            "text/plain": [
              "<Figure size 720x720 with 4 Axes>"
            ]
          },
          "metadata": {
            "tags": [],
            "needs_background": "light"
          }
        }
      ]
    },
    {
      "cell_type": "markdown",
      "metadata": {
        "id": "gBccJ0Jfhz6f",
        "colab_type": "text"
      },
      "source": [
        "### Coefficients for different lamdas"
      ]
    },
    {
      "cell_type": "markdown",
      "metadata": {
        "id": "ZU7e-oiDitCr",
        "colab_type": "text"
      },
      "source": [
        "#LASSO\n"
      ]
    },
    {
      "cell_type": "code",
      "metadata": {
        "tags": [],
        "id": "pzOdHxh5I3zR",
        "colab_type": "code",
        "colab": {
          "base_uri": "https://localhost:8080/",
          "height": 187
        },
        "outputId": "6a4e41d2-74e7-4640-ebf8-cca367a1c18f"
      },
      "source": [
        "for i in [0,1,10**5,10**10]: \n",
        "  print('for lamda = '+str(i)+' coefficient for lasso is ',regression(X,y,\"lasso\",9,i)[2])"
      ],
      "execution_count": 196,
      "outputs": [
        {
          "output_type": "stream",
          "text": [
            "for lamda = 0 coefficient for lasso is  [-1.14550678e+00  1.38499965e+00  1.05999422e-01 -1.81842662e-02\n",
            " -4.77370916e-04  1.79761406e-04 -2.83996252e-05  2.57116824e-06\n",
            " -3.25364936e-07]\n",
            "for lamda = 1 coefficient for lasso is  [-0.00000000e+00  9.45360808e-01 -2.85468333e-02  1.97430837e-02\n",
            "  1.77747810e-03 -3.71187319e-04 -1.30398605e-05 -2.44338732e-06\n",
            " -2.90013643e-07]\n",
            "for lamda = 100000 coefficient for lasso is  [-0.00000000e+00  0.00000000e+00 -0.00000000e+00  0.00000000e+00\n",
            "  0.00000000e+00  0.00000000e+00  0.00000000e+00  1.93067649e-05\n",
            "  1.03278897e-07]\n",
            "for lamda = 10000000000 coefficient for lasso is  [0. 0. 0. 0. 0. 0. 0. 0. 0.]\n"
          ],
          "name": "stdout"
        }
      ]
    },
    {
      "cell_type": "markdown",
      "metadata": {
        "id": "Kf58TcO5iuu9",
        "colab_type": "text"
      },
      "source": [
        "## RIDGE\n"
      ]
    },
    {
      "cell_type": "code",
      "metadata": {
        "id": "4PSNIPKniw7I",
        "colab_type": "code",
        "colab": {
          "base_uri": "https://localhost:8080/",
          "height": 221
        },
        "outputId": "bba2cd62-b638-4dc5-b7bd-87abbd38005b"
      },
      "source": [
        "for i in [0,1,10**5,10**10]:\n",
        "  print('for lamda = '+str(i)+' coefficient for ridge is ',regression(X,y,\"ridge\",9,i)[2])"
      ],
      "execution_count": 197,
      "outputs": [
        {
          "output_type": "stream",
          "text": [
            "for lamda = 0 coefficient for ridge is  [[ 1.55314274e+00  1.60951206e-01  4.42678586e-01  4.86392700e-01\n",
            "  -4.54837004e-01 -4.55959473e-02  4.68977643e-02  9.10977309e-04\n",
            "  -9.62066756e-04]]\n",
            "for lamda = 1 coefficient for ridge is  [[ 7.44119842e-01  1.59227541e-01  1.92022890e-01  4.81193662e-01\n",
            "  -2.78417219e-01 -4.49908475e-02  2.98149989e-02  8.98201193e-04\n",
            "  -6.17817805e-04]]\n",
            "for lamda = 100000 coefficient for ridge is  [[-7.44481536e-05  2.43355499e-04 -3.10644737e-04  1.58106688e-03\n",
            "  -8.54353734e-04  9.95073541e-03  6.17908866e-05 -2.56149945e-04\n",
            "  -9.43202848e-07]]\n",
            "for lamda = 10000000000 coefficient for ridge is  [[-8.41944511e-10  1.37336483e-08 -4.10293246e-09  1.60946222e-07\n",
            "  -1.85729179e-08  1.78835737e-06 -8.15144653e-08  1.94013952e-05\n",
            "   1.09490809e-07]]\n"
          ],
          "name": "stdout"
        }
      ]
    },
    {
      "cell_type": "markdown",
      "metadata": {
        "id": "VRx04neFi4Ug",
        "colab_type": "text"
      },
      "source": [
        "## TRAINING ERROR (MSE) "
      ]
    },
    {
      "cell_type": "markdown",
      "metadata": {
        "id": "u2n2epKRjNEj",
        "colab_type": "text"
      },
      "source": [
        "### RIDGE"
      ]
    },
    {
      "cell_type": "code",
      "metadata": {
        "id": "NGv7Tnpci7nZ",
        "colab_type": "code",
        "colab": {
          "base_uri": "https://localhost:8080/",
          "height": 347
        },
        "outputId": "d7e778b3-6be2-45ac-99f3-2ec5903749b7"
      },
      "source": [
        "mse=[]\n",
        "for i in [0,1,10**5,10**10]:\n",
        "  mse.append(regression(X,y,\"ridge\",9,i)[1])\n",
        "plt.plot([0,1,2,3],mse)\n",
        "plt.xticks(np.arange(4), ('0', '1', '10^5', '10^10'));\n",
        "plt.ylabel('training error(mse)')\n",
        "plt.xlabel('Lamda')\n",
        "mse"
      ],
      "execution_count": 198,
      "outputs": [
        {
          "output_type": "execute_result",
          "data": {
            "text/plain": [
              "[2.130272498316624e-08,\n",
              " 0.08781454005993469,\n",
              " 4.876340595787303,\n",
              " 22.052172303271583]"
            ]
          },
          "metadata": {
            "tags": []
          },
          "execution_count": 198
        },
        {
          "output_type": "display_data",
          "data": {
            "image/png": "[encoded data removed]",
            "text/plain": [
              "<Figure size 432x288 with 1 Axes>"
            ]
          },
          "metadata": {
            "tags": [],
            "needs_background": "light"
          }
        }
      ]
    },
    {
      "cell_type": "markdown",
      "metadata": {
        "id": "Bwn9iB66kga9",
        "colab_type": "text"
      },
      "source": [
        "## LASSO"
      ]
    },
    {
      "cell_type": "code",
      "metadata": {
        "id": "6MNHEtLJkjuq",
        "colab_type": "code",
        "colab": {
          "base_uri": "https://localhost:8080/",
          "height": 296
        },
        "outputId": "6d767c1d-902a-48d5-b1ac-0d3533f432cc"
      },
      "source": [
        "mse=[]\n",
        "for i in [0,1,10**5,10**10]:\n",
        "  mse.append(regression(X,y,\"lasso\",9,i)[1])\n",
        "plt.plot([0,1,2,3],mse)\n",
        "plt.xticks(np.arange(4), ('0', '1', '10^5', '10^10'));\n",
        "plt.ylabel('training error(mse)')\n",
        "plt.xlabel('Lamda')\n",
        "mse"
      ],
      "execution_count": 199,
      "outputs": [
        {
          "output_type": "execute_result",
          "data": {
            "text/plain": [
              "[1.1955261089328686, 2.0460671132532804, 22.07614905729678, 222.2019597550688]"
            ]
          },
          "metadata": {
            "tags": []
          },
          "execution_count": 199
        },
        {
          "output_type": "display_data",
          "data": {
            "image/png": "[encoded data removed]",
            "text/plain": [
              "<Figure size 432x288 with 1 Axes>"
            ]
          },
          "metadata": {
            "tags": [],
            "needs_background": "light"
          }
        }
      ]
    },
    {
      "cell_type": "markdown",
      "metadata": {
        "id": "7leFKHjHI3zW",
        "colab_type": "text"
      },
      "source": [
        "## Ridge Rigression and Lasso for polynomial fitting to predict on validation set\n",
        "\n",
        "Now use \"dataWeek4Test.npz\" to validate the model for same values of $\\lambda$s ($\\lambda= [0, 1, 10^5, 10^{10}]$) used in previous case. And plot $\\lambda$ vs validation error.  \n",
        "- Note : No need to plot the prediction on validation set since the validation points are very few\n",
        "- Print the learned coefficients for Lasso and Ridge rigression and write your observations\n",
        "\n",
        "Hint: Think of the property of Lasso Rigression (for writing observations)"
      ]
    },
    {
      "cell_type": "code",
      "metadata": {
        "id": "Scn8cSLPALzv",
        "colab_type": "code",
        "colab": {}
      },
      "source": [
        "data_test = np.load(\"dataWeek4Test.npz\")\n",
        "a=[]\n",
        "for item in data_test.files:\n",
        "  a.append(data_test[item])\n",
        "x=a[0]\n",
        "y_1=a[1]\n",
        "data_test=pd.DataFrame({'X':x,'y':y_1})\n",
        "x=data_test['X'].to_numpy()\n",
        "x=x.reshape(-1,1)\n",
        "polynomial_features= PolynomialFeatures(degree=9,include_bias=False)\n",
        "x_poly = polynomial_features.fit_transform(x)"
      ],
      "execution_count": 200,
      "outputs": []
    },
    {
      "cell_type": "markdown",
      "metadata": {
        "id": "1uEMZOFVyMmj",
        "colab_type": "text"
      },
      "source": [
        "### LASSO"
      ]
    },
    {
      "cell_type": "code",
      "metadata": {
        "id": "go_bvXv3pCVs",
        "colab_type": "code",
        "colab": {
          "base_uri": "https://localhost:8080/",
          "height": 296
        },
        "outputId": "6f6fb855-e61f-4faf-9376-704075f52e1f"
      },
      "source": [
        "mse=[]\n",
        "for i in [0,1,10**5,10**10]:\n",
        "  polynomial_features= PolynomialFeatures(degree=9,include_bias=False)\n",
        "  x_poly = polynomial_features.fit_transform(x)\n",
        "  y_test_pred=regression(X,y,\"lasso\",9,i)[3].predict(x_poly)\n",
        "  mse.append(mean_squared_error(data_test['y'],y_test_pred))\n",
        "plt.plot([0,1,2,3],mse)\n",
        "plt.xticks(np.arange(4), ('0', '1', '10^5', '10^10'));\n",
        "plt.ylabel('validation error(mse)')\n",
        "plt.xlabel('Lamda')"
      ],
      "execution_count": 201,
      "outputs": [
        {
          "output_type": "execute_result",
          "data": {
            "text/plain": [
              "Text(0.5, 0, 'Lamda')"
            ]
          },
          "metadata": {
            "tags": []
          },
          "execution_count": 201
        },
        {
          "output_type": "display_data",
          "data": {
            "image/png": "[encoded data removed]",
            "text/plain": [
              "<Figure size 432x288 with 1 Axes>"
            ]
          },
          "metadata": {
            "tags": [],
            "needs_background": "light"
          }
        }
      ]
    },
    {
      "cell_type": "markdown",
      "metadata": {
        "id": "L0Zjzt32yOhY",
        "colab_type": "text"
      },
      "source": [
        "### RIDGE"
      ]
    },
    {
      "cell_type": "code",
      "metadata": {
        "id": "wM04GyK9k8_Y",
        "colab_type": "code",
        "colab": {
          "base_uri": "https://localhost:8080/",
          "height": 296
        },
        "outputId": "b73a0a01-b63b-490d-d107-f066fb827db2"
      },
      "source": [
        "mse=[]\n",
        "for i in [0,1,10**5,10**10]:\n",
        "  polynomial_features= PolynomialFeatures(degree=9,include_bias=False)\n",
        "  x_poly = polynomial_features.fit_transform(x)\n",
        "  y_test_pred=regression(X,y,\"ridge\",9,i)[3].predict(x_poly)\n",
        "  mse.append(mean_squared_error(data_test['y'],y_test_pred))\n",
        "plt.plot([0,1,2,3],mse)\n",
        "plt.xticks(np.arange(4), ('0', '1', '10^5', '10^10'));\n",
        "plt.ylabel('validation error(mse)')\n",
        "plt.xlabel('Lamda')"
      ],
      "execution_count": 202,
      "outputs": [
        {
          "output_type": "execute_result",
          "data": {
            "text/plain": [
              "Text(0.5, 0, 'Lamda')"
            ]
          },
          "metadata": {
            "tags": []
          },
          "execution_count": 202
        },
        {
          "output_type": "display_data",
          "data": {
            "image/png": "[encoded data removed]",
            "text/plain": [
              "<Figure size 432x288 with 1 Axes>"
            ]
          },
          "metadata": {
            "tags": [],
            "needs_background": "light"
          }
        }
      ]
    },
    {
      "cell_type": "markdown",
      "metadata": {
        "id": "M3BW_DqaNCmM",
        "colab_type": "text"
      },
      "source": [
        "### Coefficients Observation:"
      ]
    },
    {
      "cell_type": "markdown",
      "metadata": {
        "id": "kcVZfboTNG8x",
        "colab_type": "text"
      },
      "source": [
        "## **Lasso and Ridge Observation**\n",
        "#### All the coefficients value approaches 0, when the lambda value increases. This is because the regularization term is a modulus function which gives a diamond shaped cost function and this minimizes at exactly **zero** because of sharp corners. But ridge coefficients doest take an exact zero value this is because of circle cost function."
      ]
    },
    {
      "cell_type": "code",
      "metadata": {
        "id": "9TzWTNJENCI4",
        "colab_type": "code",
        "colab": {
          "base_uri": "https://localhost:8080/",
          "height": 391
        },
        "outputId": "32124bb4-5004-444f-c0ee-defed16788af"
      },
      "source": [
        "for i in [0,1,10**5,10**10]:\n",
        "  print('for lamda = '+str(i)+' coefficient for lasso is ',regression(X,y,\"lasso\",9,i)[2])\n",
        "for i in [0,1,10**5,10**10]:\n",
        "  print('for lamda = '+str(i)+' coefficient for ridge is ',regression(X,y,\"ridge\",9,i)[2])"
      ],
      "execution_count": 204,
      "outputs": [
        {
          "output_type": "stream",
          "text": [
            "for lamda = 0 coefficient for lasso is  [-1.14550678e+00  1.38499965e+00  1.05999422e-01 -1.81842662e-02\n",
            " -4.77370916e-04  1.79761406e-04 -2.83996252e-05  2.57116824e-06\n",
            " -3.25364936e-07]\n",
            "for lamda = 1 coefficient for lasso is  [-0.00000000e+00  9.45360808e-01 -2.85468333e-02  1.97430837e-02\n",
            "  1.77747810e-03 -3.71187319e-04 -1.30398605e-05 -2.44338732e-06\n",
            " -2.90013643e-07]\n",
            "for lamda = 100000 coefficient for lasso is  [-0.00000000e+00  0.00000000e+00 -0.00000000e+00  0.00000000e+00\n",
            "  0.00000000e+00  0.00000000e+00  0.00000000e+00  1.93067649e-05\n",
            "  1.03278897e-07]\n",
            "for lamda = 10000000000 coefficient for lasso is  [0. 0. 0. 0. 0. 0. 0. 0. 0.]\n",
            "for lamda = 0 coefficient for ridge is  [[ 1.55314274e+00  1.60951206e-01  4.42678586e-01  4.86392700e-01\n",
            "  -4.54837004e-01 -4.55959473e-02  4.68977643e-02  9.10977309e-04\n",
            "  -9.62066756e-04]]\n",
            "for lamda = 1 coefficient for ridge is  [[ 7.44119842e-01  1.59227541e-01  1.92022890e-01  4.81193662e-01\n",
            "  -2.78417219e-01 -4.49908475e-02  2.98149989e-02  8.98201193e-04\n",
            "  -6.17817805e-04]]\n",
            "for lamda = 100000 coefficient for ridge is  [[-7.44481536e-05  2.43355499e-04 -3.10644737e-04  1.58106688e-03\n",
            "  -8.54353734e-04  9.95073541e-03  6.17908866e-05 -2.56149945e-04\n",
            "  -9.43202848e-07]]\n",
            "for lamda = 10000000000 coefficient for ridge is  [[-8.41944511e-10  1.37336483e-08 -4.10293246e-09  1.60946222e-07\n",
            "  -1.85729179e-08  1.78835737e-06 -8.15144653e-08  1.94013952e-05\n",
            "   1.09490809e-07]]\n"
          ],
          "name": "stdout"
        }
      ]
    },
    {
      "cell_type": "markdown",
      "metadata": {
        "id": "DSjzyFMhI3za",
        "colab_type": "text"
      },
      "source": [
        "### Questions and Observations"
      ]
    },
    {
      "cell_type": "markdown",
      "metadata": {
        "id": "5Rz4hOAbI3zb",
        "colab_type": "text"
      },
      "source": [
        "- **What was your observation in simple linear rigression without regulaization when polynomial features of degree of 9 is used and what is the reason?**\n",
        "\n",
        "Ans: Without regularization the linear regression with polynomial features of degree 9 is an overfit model. But with regularization the model is less prone to over fit the reason is now the model gives more weightage to the regularization term and tries to minimise it during gradient descent. So the model doesn't fully concentrate on minimizing the cost function. Hence it doesnt overfit.\n",
        "\n",
        "\n",
        "- **As value of lambda increases what happens to the model complexity?**\n",
        "\n",
        "Ans: As lambda value increases the model gives more weightage to the regularization term for minimizing. Hence, the parameters will approach low values possible and in turn the bias increases and variance decreases. So the model complexity decreases as lambda increases.\n",
        "\n",
        "- **What can be infered from the mean squared error versus lambda?**\n",
        "\n",
        "Ans: The mean squared error first decreases for small lambda, because of the regularization term which decreases the variance. But, with increasing lambda the bias increases even though the variance decreases, which causes the mean squared error to increase. \n",
        "\n",
        "- **Statement: Regularization gives finer control over fitting the data than using just change of degree of the polynomial features (True or False) Justify (not mathematical)**\n",
        "\n",
        "Ans: TRUE. The regularized model is more preferred over changing degree of polynomial features. This is because the regularized model not only helps in reducing the overfit, it also decreases the coefficients of unnecessary features to zero. Which helps to reduce the model complexity and also the model performs well with validation data.\n",
        "\n",
        "But if we reduce the degree of polynomial we can achieve a reduce in variance, but feature selection is not possible in this case. Because each coefficient has a value. \n",
        "\n",
        "- **Comment on the train error vs $\\lambda$ and validation error vs $\\lambda$ what are the observations?**\n",
        "\n",
        "Ans: Train error first decreases for small lambda and then increases for large lambda. But the validation error in the case of ridge decreases with lambda but in the case of lasso the validation error first increases with lambda and then decreased for large lambda. \n"
      ]
    },
    {
      "cell_type": "code",
      "metadata": {
        "id": "ij6MMnt2Flj-",
        "colab_type": "code",
        "colab": {}
      },
      "source": [
        ""
      ],
      "execution_count": null,
      "outputs": []
    }
  ]
}