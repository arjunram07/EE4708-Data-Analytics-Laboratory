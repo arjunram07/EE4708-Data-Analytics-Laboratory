{
  "nbformat": 4,
  "nbformat_minor": 0,
  "metadata": {
    "kernelspec": {
      "display_name": "Python 3",
      "language": "python",
      "name": "python3"
    },
    "language_info": {
      "codemirror_mode": {
        "name": "ipython",
        "version": 3
      },
      "file_extension": ".py",
      "mimetype": "text/x-python",
      "name": "python",
      "nbconvert_exporter": "python",
      "pygments_lexer": "ipython3",
      "version": "3.7.3"
    },
    "colab": {
      "name": "Assignment-3a_MM17B105.ipynb",
      "provenance": [],
      "collapsed_sections": [],
      "toc_visible": true
    }
  },
  "cells": [
    {
      "cell_type": "code",
      "metadata": {
        "id": "m_WuO_oPsmHB",
        "colab_type": "code",
        "colab": {}
      },
      "source": [
        "# Import required packages\n",
        "import numpy as np               # for mathematical operations, for arrays\n",
        "import pandas as pd              # Used for different data manipulation tasks\n",
        "import matplotlib.pyplot as plt  # Used for Plotting \n",
        "import random                    # For random number generator\n",
        "import warnings\n",
        "warnings.filterwarnings('ignore')# To avoid warnings note while running the notebook"
      ],
      "execution_count": null,
      "outputs": []
    },
    {
      "cell_type": "markdown",
      "metadata": {
        "id": "PjnYMau1smHI",
        "colab_type": "text"
      },
      "source": [
        "# Section 1 : Implementing Gradient Descent\n",
        "\n",
        "Gradient Descent is an first order optimization algorithm to find the local minimum differentiable function (usually a loss function or an objective function). We start with a random point on the function and move in the negative direction of the gradient of the function to reach the find minimum.\n",
        "\n",
        "Let $F(x)$ be a differentiable function parameterised by $x$ and $x^*$ be the parameter value which minimises $F(x)$. The initial value is $x_0=a_0$. To determine $x^*$ using gradient descent, at each of the $i^{th}$ the parameter updation rule is:\n",
        "\n",
        "\\begin{align*}\n",
        "x_i = x_{i-1} - \\eta \\nabla F(a_{i-1}), \\hspace{1cm} i\\geq 1\n",
        "\\end{align*}  \n",
        "where $x_i$ is updated value of the parameter in the $i^{th}$ iteration. \n",
        "\n",
        "\\begin{align*}\n",
        "\\eta \\nabla F(a_{i-1}) = \\eta \\frac{dF}{dx}\\bigr \\rvert_{x=a_{i-1}}\n",
        "\\end{align*} \n",
        "\n",
        "**Stopping Criteria**: Following are three ways which are used as stopping criteria in gradient descent algorithm:\n",
        "1. Limiting number of iterations\n",
        "2. Threshold for change in the parameter (i.e difference between the updated parameter and parameter in the previous iteration) --> Change in parameter > Threshold\n",
        "3. Threshold for change in gradient step\n",
        "                  \n",
        "**Question** : Find $x^*$ which minimises $F(x) = (x+5)^2$ using gradient descent \n",
        "\n",
        "**Note : Few variables are set to a given value, read the instructions in the pseudo code**\n",
        "\n",
        "**Pseudo Code**:\n",
        "1. Initialise the parameter ('x') with some random number,set learning rate = 0.01(section 4 has details on \"how to select appropriate learning rate for a given problem\"), set threshold = 0.000001,\n",
        "2. Define a function for calculating differential of F (Hint : Use lambda method for single line of code)\n",
        "3. Compute the updated value of the parameter using the formula: $x_i = x_i-1 - \\eta \\nabla F(a_{i-1})$ \n",
        "4. Iterate over step 3 until the stopping criteria is satisfied (You have to choose stopping criteria appropriately)"
      ]
    },
    {
      "cell_type": "markdown",
      "metadata": {
        "id": "54PdmlCXsmHJ",
        "colab_type": "text"
      },
      "source": [
        "## 1.1 Implementing Code\n",
        "Implement the above pseudo code and print the optimum value of $x$ and $F(x)$. Also print the number of iterations required to reach that optimum.\n",
        "\n",
        "**Note : Carefully choose your stopping criteria for reaching optimum**"
      ]
    },
    {
      "cell_type": "code",
      "metadata": {
        "id": "NGDLSHP5smHK",
        "colab_type": "code",
        "colab": {
          "base_uri": "https://localhost:8080/",
          "height": 68
        },
        "outputId": "70dba03f-8e80-4e90-d072-f9cde1a2e50c"
      },
      "source": [
        "x=0\n",
        "n=0.01\n",
        "threshold=0.000001\n",
        "\n",
        "def derivative(f,a,h):\n",
        "   return (f(a + h) - f(a))/h\n",
        "  \n",
        "f = lambda x: (x+5)**2\n",
        "b1=x\n",
        "iterations=0\n",
        "while True: \n",
        "    iterations+=1\n",
        "    b2=b1;\n",
        "    b1=b1-n*derivative(f,b2,0.00000001);\n",
        "    if abs(b2-b1)<threshold:\n",
        "        break\n",
        "print('The minimum of the function is at',b1)\n",
        "print('The minimum value of function is ',f(b1))\n",
        "print('The number of iterations are',iterations)"
      ],
      "execution_count": null,
      "outputs": [
        {
          "output_type": "stream",
          "text": [
            "The minimum of the function is at -4.999951133096238\n",
            "The minimum value of function is  2.387974283256508e-09\n",
            "The number of iterations are 571\n"
          ],
          "name": "stdout"
        }
      ]
    },
    {
      "cell_type": "markdown",
      "metadata": {
        "id": "I77fQl49smHP",
        "colab_type": "text"
      },
      "source": [
        "# Section 2 : Linear Regression - Finding the Regression parameters using Normal Equation (Analytical Approach)\n",
        "**Dataset** : dataset1.csv (given)\n",
        "\n",
        "Given a dataset (here dataset1.csv), find the coefficients (parameters) using the Normal Equation and predict the outputs for the same dataset (dataset1.csv). Given input features in matrix $X$ and observed output or target vector $y$, the regression parameters are given by the equation:\n",
        "![Normal%20Equation.png](attachment:Normal%20Equation.png)\n",
        "\n",
        "\n",
        "**Pseudo Code:**\n",
        "1. Append ones to X, let say that as \"X_appended\" (This is to be done when there is intercept, if you know before hand that intercept is zero, then this step can be ignored)\n",
        "2. Find the pseudo Inverse of the X_appended\n",
        "3. Find the dot product of transpose of X_appended and target vector (y),\n",
        "4. Find \"theta\" (parameters) using \"Normal Equation\" given above (i.e Matrix multiplication of outputs of Step 2 and Step 3)\n",
        "5. Predict ouputs for X_new by appending it with ones and then using the formula $y=X_{new}\\theta$\n",
        "\n",
        "**Note : When you perform matrix multiplications or dot products on vectors or matrices, always keep track of the matrix or vectors shapes. This helps you in avoiding implementation errors.**\n",
        "\n",
        "<div class=\"alert alert-block alert-warning\">\n",
        "**Implementation Note:** Step 1 is crucial. We store each example as a row in the the $X$ matrix in Python `numpy`. To take into account the intercept term ($\\theta_0$), we add an additional first column to $X$ and set it to all ones. This allows us to treat $\\theta_0$ as simply another 'feature'.\n",
        "</div>"
      ]
    },
    {
      "cell_type": "code",
      "metadata": {
        "id": "6YtY0TIlsmHQ",
        "colab_type": "code",
        "colab": {
          "base_uri": "https://localhost:8080/",
          "height": 561
        },
        "outputId": "ff37b335-5dd0-4186-db5c-a060d0a736b3"
      },
      "source": [
        "data=pd.read_csv('dataset1.csv')\n",
        "data['bias']=np.ones(30)\n",
        "print(data)\n",
        "X_appended=data[['bias','X']].to_numpy()\n",
        "y=data['y'].to_numpy()\n",
        "theta_analytical=np.matmul(np.linalg.inv(np.matmul(np.transpose(X_appended),X_appended)),(np.matmul(np.transpose(X_appended),y)))\n",
        "print('theta value for analytical approach is ',theta_analytical)"
      ],
      "execution_count": null,
      "outputs": [
        {
          "output_type": "stream",
          "text": [
            "     X      y  bias\n",
            "0    0   20.0   1.0\n",
            "1    1   22.0   1.0\n",
            "2    2   29.0   1.0\n",
            "3    3   33.0   1.0\n",
            "4    4   40.0   1.0\n",
            "5    5   40.0   1.0\n",
            "6    6   47.0   1.0\n",
            "7    7   53.0   1.0\n",
            "8    8   55.0   1.0\n",
            "9    9   63.0   1.0\n",
            "10  10   69.0   1.0\n",
            "11  11   68.0   1.0\n",
            "12  12   74.0   1.0\n",
            "13  13   80.0   1.0\n",
            "14  14   86.0   1.0\n",
            "15  15   94.0   1.0\n",
            "16  16   95.0   1.0\n",
            "17  17  101.0   1.0\n",
            "18  18  107.0   1.0\n",
            "19  19  107.0   1.0\n",
            "20  20  115.0   1.0\n",
            "21  21  123.0   1.0\n",
            "22  22  128.0   1.0\n",
            "23  23  129.0   1.0\n",
            "24  24  131.0   1.0\n",
            "25  25  143.0   1.0\n",
            "26  26  147.0   1.0\n",
            "27  27  147.0   1.0\n",
            "28  28  157.0   1.0\n",
            "29  29  163.0   1.0\n",
            "theta value for analytical approach is  [17.78924731  4.90189099]\n"
          ],
          "name": "stdout"
        }
      ]
    },
    {
      "cell_type": "markdown",
      "metadata": {
        "id": "2551keb7smHU",
        "colab_type": "text"
      },
      "source": [
        "### 2.1 Function to predict the outputs\n",
        "Implement the predict function below. Predict the outputs for the given data (dataset1.csv), plot the predicted outputs Vs input features and scatter plot for dataset1.csv (X,y)"
      ]
    },
    {
      "cell_type": "code",
      "metadata": {
        "id": "3Ql4keswsmHY",
        "colab_type": "code",
        "colab": {
          "base_uri": "https://localhost:8080/",
          "height": 351
        },
        "outputId": "3b0d843d-3473-4b61-bb2b-ee3c60a9a866"
      },
      "source": [
        "def predict(X, theta):\n",
        "  prediction=np.matmul(X,theta)\n",
        "  return prediction\n",
        "\n",
        "predicted=predict(X_appended,theta)\n",
        "plt.figure(figsize=[10,5])\n",
        "plt.subplot(121)\n",
        "plt.plot(data['X'],data['y'],'b')\n",
        "plt.plot(data['X'],predicted,'r')\n",
        "plt.xlabel('X')\n",
        "plt.ylabel('y')\n",
        "plt.legend(['training plot','predicted plot'])\n",
        "plt.subplot(122)\n",
        "plt.scatter(data['X'],data['y'])\n",
        "plt.scatter(data['X'],predicted)\n",
        "plt.legend(['training plot','predicted plot'])\n"
      ],
      "execution_count": null,
      "outputs": [
        {
          "output_type": "execute_result",
          "data": {
            "text/plain": [
              "<matplotlib.legend.Legend at 0x7f1a3dece748>"
            ]
          },
          "metadata": {
            "tags": []
          },
          "execution_count": 51
        },
        {
          "output_type": "display_data",
          "data": {
            "image/png": "[encoded data removed]",
            "text/plain": [
              "<Figure size 720x360 with 2 Axes>"
            ]
          },
          "metadata": {
            "tags": [],
            "needs_background": "light"
          }
        }
      ]
    },
    {
      "cell_type": "markdown",
      "metadata": {
        "id": "U6c8LkRdsmHc",
        "colab_type": "text"
      },
      "source": [
        "# Section 3 : Linear Regression - Find the Regression parameters using Gradient Descent\n",
        "This section is about applying gradient descent algorithm to find theta at which a cost function (Mean Squared Error) is minimum. This can be done using the gradient descent algorithm discussed in Section 1, where $x$ is replaced by the regression parameters. \n",
        "\n",
        "Refer to pseudo code in Section 1 for gradient descent algorithm. In simple terms, we initialise the regression parameters with some random number and we compute the gradient step to update the regression parameters."
      ]
    },
    {
      "cell_type": "markdown",
      "metadata": {
        "id": "fFAwzCbVsmHd",
        "colab_type": "text"
      },
      "source": [
        "### 3.1. Import and visualise the dataset"
      ]
    },
    {
      "cell_type": "code",
      "metadata": {
        "id": "Sa7NdUSzsmHe",
        "colab_type": "code",
        "colab": {
          "base_uri": "https://localhost:8080/",
          "height": 312
        },
        "outputId": "275c70f6-cde9-44f9-8c03-b57ea860aa86"
      },
      "source": [
        "data=pd.read_csv('dataset1.csv')\n",
        "plt.scatter(data['X'],data['y'])\n",
        "plt.xlabel('X')\n",
        "plt.ylabel('y')\n",
        "plt.title('Scatter plot')"
      ],
      "execution_count": null,
      "outputs": [
        {
          "output_type": "execute_result",
          "data": {
            "text/plain": [
              "Text(0.5, 1.0, 'Scatter plot')"
            ]
          },
          "metadata": {
            "tags": []
          },
          "execution_count": 55
        },
        {
          "output_type": "display_data",
          "data": {
            "image/png": "[encoded data removed]",
            "text/plain": [
              "<Figure size 432x288 with 1 Axes>"
            ]
          },
          "metadata": {
            "tags": [],
            "needs_background": "light"
          }
        }
      ]
    },
    {
      "cell_type": "markdown",
      "metadata": {
        "id": "1uGzfgGdsmHj",
        "colab_type": "text"
      },
      "source": [
        "### 3.2. Compute Cost Function - Mean Squared Error (MSE) \n",
        "The cost function used is Mean Squared Error (MSE) represented as $J(\\theta)$ and is given by:\n",
        "\n",
        "$$ J(\\theta) = \\frac{1}{2m} \\sum_{i=1}^m \\left( h_{\\theta}(x^{(i)}) - y^{(i)}\\right)^2$$\n",
        "\n",
        "where the hypothesis $h_\\theta(x)$ is a linear model given by: \n",
        "$$ h_\\theta(x) = \\theta^Tx = \\theta_0 + \\theta_1 x_1$$\n",
        "\n",
        "As you perform gradient descent to learn minimize the cost function $J(\\theta)$, it is helpful to monitor the convergence by computing the cost. This way you can know whether you choose high learning rate or low learning rate. Suppose if your learning rate is too high, you can see your cost will go up and down, but will not converge. If you choose good learning rate, then you can see your cost going down smoothly and converges.\n",
        "\n",
        "In this you will implement a function to calculate $J(\\theta)$ so you can check the convergence of your gradient descent implementation. "
      ]
    },
    {
      "cell_type": "code",
      "metadata": {
        "id": "xXkliaQ2smHj",
        "colab_type": "code",
        "colab": {}
      },
      "source": [
        "def computeCost(X, y, theta):\n",
        "  J=0\n",
        "  h=np.matmul(X,theta)\n",
        "  for i in range(len(X)):\n",
        "    J=J+(h[i]-y[i])**2\n",
        "  J=J/(2*len(X))\n",
        "  return J"
      ],
      "execution_count": null,
      "outputs": []
    },
    {
      "cell_type": "code",
      "metadata": {
        "id": "z8a_JLeQGzwt",
        "colab_type": "code",
        "colab": {
          "base_uri": "https://localhost:8080/",
          "height": 34
        },
        "outputId": "b8fd1cfb-224c-4289-9b86-6591fc34a47c"
      },
      "source": [
        "computeCost(X_appended,y,theta)"
      ],
      "execution_count": null,
      "outputs": [
        {
          "output_type": "execute_result",
          "data": {
            "text/plain": [
              "2.422227165986895"
            ]
          },
          "metadata": {
            "tags": []
          },
          "execution_count": 72
        }
      ]
    },
    {
      "cell_type": "markdown",
      "metadata": {
        "id": "5pLYPf3FsmHo",
        "colab_type": "text"
      },
      "source": [
        "## 3.3. Implementation of Gradient Descent \n",
        "\n",
        "Recall that the parameters of your model are the $\\theta_j$ values. These are\n",
        "the values you will adjust to minimize cost $J(\\theta)$. One way to do this is to\n",
        "use the batch gradient descent algorithm. In batch gradient descent, each\n",
        "iteration performs the update\n",
        "\n",
        "$$ \\theta_j = \\theta_j - \\alpha \\frac{1}{m} \\sum_{i=1}^m \\left( h_\\theta(x^{(i)}) - y^{(i)}\\right)x_j^{(i)} \\qquad \\text{simultaneously update } \\theta_j \\text{ for all } j$$\n",
        "\n",
        "With each step of gradient descent, your parameters $\\theta_j$ come closer to the optimal values that will achieve the lowest cost J($\\theta$).\n",
        "\n",
        "\n",
        "**Important implementation notes**\n",
        "\n",
        "The function `gradientDescent` calls `computeCost` on every iteration and saves the cost to a python list. If you have implemented gradient descent and `computeCost` correctly, your value of $J(\\theta)$ should never increase, and should converge to a steady value by the end of the algorithm."
      ]
    },
    {
      "cell_type": "code",
      "metadata": {
        "id": "AyCfnHPPsmHp",
        "colab_type": "code",
        "colab": {}
      },
      "source": [
        "def gradient(X_appended, y, theta):\n",
        "  grad=[0,0]\n",
        "  h=np.matmul(X_appended,np.array(theta))\n",
        "  for i in range(len(X_appended)):\n",
        "    grad=grad+(h[i]-y[i])*X_appended[i]\n",
        "  newgrad = []\n",
        "  for x in grad:\n",
        "    newgrad.append(x/len(y))\n",
        "  return newgrad\n",
        "\n",
        "def gradientDescent(X_appended, y, theta, alpha, precision):\n",
        "  b1=theta\n",
        "  iterations=0\n",
        "  J_history=[]\n",
        "  while True: \n",
        "    iterations+=1\n",
        "    b2=b1;\n",
        "    b1=b1-np.dot(alpha,gradient(X_appended,y,b2));\n",
        "    J_history.append(computeCost(X_appended,y,b1))\n",
        "    if computeCost(X_appended,y,b2)-computeCost(X_appended,y,b1)<=precision:\n",
        "      break\n",
        "  theta=b1\n",
        "  cost=computeCost(X_appended,y,theta)\n",
        "  count=iterations\n",
        "  return theta, J_history, cost, count"
      ],
      "execution_count": null,
      "outputs": []
    },
    {
      "cell_type": "markdown",
      "metadata": {
        "id": "Kx0WYj1YsmHu",
        "colab_type": "text"
      },
      "source": [
        "### Run gradientDescent function to train the model here\n",
        "**Note : Use the learning rate(alpha) and precision given below. Initialise theta with zeros is suggested here (but you can initialise with different numbers)**\n",
        "\n",
        "Print the final theta (learnt parameters), number of iterations to converge, value of cost function at the convergence."
      ]
    },
    {
      "cell_type": "code",
      "metadata": {
        "id": "diTBqtnysmHu",
        "colab_type": "code",
        "colab": {
          "base_uri": "https://localhost:8080/",
          "height": 51
        },
        "outputId": "78341702-b04d-4593-e055-233789dfa2ac"
      },
      "source": [
        "# initialize fitting parameters with zeros\n",
        "theta = [0,0]\n",
        "\n",
        "# Play with these setting to see how these parameters play a huge, for a decent converge use below parameters\n",
        "precision = 0.000001\n",
        "alpha = 0.001\n",
        "\n",
        "[theta_final,J_history,cost,count]=gradientDescent(X_appended,y,theta,alpha,precision)\n",
        "print('final theta is',theta_final)\n",
        "print('no. of iterations',count)"
      ],
      "execution_count": null,
      "outputs": [
        {
          "output_type": "stream",
          "text": [
            "final theta is [17.6687466   4.90802378]\n",
            "no. of iterations 18995\n"
          ],
          "name": "stdout"
        }
      ]
    },
    {
      "cell_type": "markdown",
      "metadata": {
        "id": "zOCOOAhXsmHy",
        "colab_type": "text"
      },
      "source": [
        "## 3.4. Plot the Training Curve\n",
        "**Tip:** Initially the change in the loss(J) are drastic and dominating. So while plotting you may remove the first 10% of the iterations and then plot to see a smooth curve in the training process"
      ]
    },
    {
      "cell_type": "code",
      "metadata": {
        "id": "2zavlQ9HsmHz",
        "colab_type": "code",
        "colab": {
          "base_uri": "https://localhost:8080/",
          "height": 312
        },
        "outputId": "574dd35c-bc07-42e2-802b-0a7dcc965a69"
      },
      "source": [
        "plt.plot(range(count-50),J_history[50:])\n",
        "plt.title('Loss function vs iterations ')\n",
        "plt.xlabel('iterations')\n",
        "plt.ylabel('Loss')"
      ],
      "execution_count": null,
      "outputs": [
        {
          "output_type": "execute_result",
          "data": {
            "text/plain": [
              "Text(0, 0.5, 'Loss')"
            ]
          },
          "metadata": {
            "tags": []
          },
          "execution_count": 177
        },
        {
          "output_type": "display_data",
          "data": {
            "image/png": "[encoded data removed]",
            "text/plain": [
              "<Figure size 432x288 with 1 Axes>"
            ]
          },
          "metadata": {
            "tags": [],
            "needs_background": "light"
          }
        }
      ]
    },
    {
      "cell_type": "markdown",
      "metadata": {
        "id": "ST_vpKUpsmH3",
        "colab_type": "text"
      },
      "source": [
        "## 3.5. Predict Outputs and Plot the results\n",
        "Same as Step 5 in the Section 2. You can use the same function predict(X, theta)"
      ]
    },
    {
      "cell_type": "code",
      "metadata": {
        "id": "D6nkFyAJsmH3",
        "colab_type": "code",
        "colab": {
          "base_uri": "https://localhost:8080/",
          "height": 351
        },
        "outputId": "191ac356-15b6-4a33-f25b-b983fc03d811"
      },
      "source": [
        "predicted=predict(X_appended,theta_final)\n",
        "plt.figure(figsize=[10,5])\n",
        "plt.subplot(121)\n",
        "plt.plot(data['X'],data['y'],'b')\n",
        "plt.plot(data['X'],predicted,'r')\n",
        "plt.xlabel('X')\n",
        "plt.ylabel('y')\n",
        "plt.legend(['training plot','predicted plot'])\n",
        "plt.subplot(122)\n",
        "plt.scatter(data['X'],data['y'])\n",
        "plt.scatter(data['X'],predicted)\n",
        "plt.legend(['training plot','predicted plot'])\n"
      ],
      "execution_count": null,
      "outputs": [
        {
          "output_type": "execute_result",
          "data": {
            "text/plain": [
              "<matplotlib.legend.Legend at 0x7f1a3d812a58>"
            ]
          },
          "metadata": {
            "tags": []
          },
          "execution_count": 178
        },
        {
          "output_type": "display_data",
          "data": {
            "image/png": "[encoded data removed]",
            "text/plain": [
              "<Figure size 720x360 with 2 Axes>"
            ]
          },
          "metadata": {
            "tags": [],
            "needs_background": "light"
          }
        }
      ]
    },
    {
      "cell_type": "markdown",
      "metadata": {
        "id": "gtV6t5BbsmH8",
        "colab_type": "text"
      },
      "source": [
        "# Section 4 : Selecting appropriate learning rate\n",
        "**Implementation Note:** If your learning rate is too large, $J(\\theta)$ can diverge and ‘blow up’, resulting in values which are too large for computer calculations. In these situations, `numpy` will tend to return\n",
        "NaNs. NaN stands for ‘not a number’ and is often caused by undefined operations that involve −∞ and +∞. So dont worry even if you cost as inf or NaN\n",
        "\n",
        "**Repeat the training as in Section 3 with different values of alpha as listed below. Print the alpha, cost and number of iterations it took for every alpha**"
      ]
    },
    {
      "cell_type": "code",
      "metadata": {
        "id": "paZfM-J8smIA",
        "colab_type": "code",
        "colab": {}
      },
      "source": [
        "theta = [0,0]\n",
        "precision = 0.000001\n",
        "\n",
        "# You can change this set of alphas and try out different, but keep your range less than 1\n",
        "alphas = [0.0001, 0.0003, 0.0005, 0.0007, 0.001, 0.003, 0.005, 0.007, 0.01,0.03, 0.05, 0.07, 0.1, 0.3]\n",
        "ans=[]\n",
        "for alpha in alphas:\n",
        "  [theta_final,J_history,cost,count]=gradientDescent(X_appended,y,theta,alpha,precision)\n",
        "  ans.append([cost,count])"
      ],
      "execution_count": null,
      "outputs": []
    },
    {
      "cell_type": "code",
      "metadata": {
        "id": "fZDhBNyauiDK",
        "colab_type": "code",
        "colab": {
          "base_uri": "https://localhost:8080/",
          "height": 255
        },
        "outputId": "a8f938c7-919b-48cc-ce3c-d0d534e68147"
      },
      "source": [
        "for i in range(len(alphas)):\n",
        "  print('for the value of alpha '+str(alphas[i])+' cost is ' + str(ans[i][0])+ ' and the no. of iterations is '+str(ans[i][1]))"
      ],
      "execution_count": null,
      "outputs": [
        {
          "output_type": "stream",
          "text": [
            "for the value of alpha 0.0001 cost is 2.4413078221495086 and the no. of iterations is 146029\n",
            "for the value of alpha 0.0003 cost is 2.4285868952040355 and the no. of iterations is 55663\n",
            "for the value of alpha 0.0005 cost is 2.4260422656254055 and the no. of iterations is 35347\n",
            "for the value of alpha 0.0007 cost is 2.424951548553128 and the no. of iterations is 26165\n",
            "for the value of alpha 0.001 cost is 2.424134514167511 and the no. of iterations is 18995\n",
            "for the value of alpha 0.003 cost is 2.4228624540119243 and the no. of iterations is 7029\n",
            "for the value of alpha 0.005 cost is 2.4226074531485455 and the no. of iterations is 4412\n",
            "for the value of alpha 0.007 cost is 4863.808530001111 and the no. of iterations is 1\n",
            "for the value of alpha 0.01 cost is 16660.876472111107 and the no. of iterations is 1\n",
            "for the value of alpha 0.03 cost is 276113.077049 and the no. of iterations is 1\n",
            "for the value of alpha 0.05 cost is 850008.8966916668 and the no. of iterations is 1\n",
            "for the value of alpha 0.07 cost is 1738348.3354001113 and the no. of iterations is 1\n",
            "for the value of alpha 0.1 cost is 3660439.2792111114 and the no. of iterations is 1\n",
            "for the value of alpha 0.3 cost is 34554887.00089999 and the no. of iterations is 1\n"
          ],
          "name": "stdout"
        }
      ]
    },
    {
      "cell_type": "markdown",
      "metadata": {
        "id": "24TGtiabsmIF",
        "colab_type": "text"
      },
      "source": [
        "## Section 5: Questions on Analytical and Gradient Descent approaches\n",
        "\n",
        "1. Are the results from both the analytical and gradient descent approach are same? If not, why?\n",
        "2. When do u prefer analytical approach and gradient descent approach? Hint: Explain interms of size of the dataset\n",
        "3. Can we use different cost function in place of MSE? If we do, where will be changes in the gradient descent step?(Just mention using words, equations are not required)\n",
        "4. How does the initialisation of the parameters $\\theta$ effects the convergence? In this case we initialised $\\theta$ to zeros. What happens if we choose closer to solution and farther to solution?\n",
        "5. Any drawbacks of Gradient descent that you could think of? Hint : Interms of Convergence rate.\n",
        "6. What if number of features increases and how does it effect the gradient descent approach and analytical approach? Note:This might require some time to look for appropriate concepts. But do note that this difference is very important to understand.\n",
        "7. Comment your observations on selecting appropriate learning rate."
      ]
    },
    {
      "cell_type": "markdown",
      "metadata": {
        "id": "5CrFx8V3Py-H",
        "colab_type": "text"
      },
      "source": [
        "### **Answers**"
      ]
    },
    {
      "cell_type": "markdown",
      "metadata": {
        "id": "ItzgycCzsmIF",
        "colab_type": "text"
      },
      "source": [
        "1) The results are almost the same but are not exactly the same because they both use different approaches to solve the problem. The Analytical uses matrix operations and outputs a single correct answer, whereas the gradient descent approach loops over to find the optimum answer. So, both are different and it completely depends on the data to choose between the two. "
      ]
    },
    {
      "cell_type": "markdown",
      "metadata": {
        "id": "LQHEnl-ssmIG",
        "colab_type": "text"
      },
      "source": [
        "2) When size of dataset is huge the matrix operations like inverse takes a long time, memory and huge computational costs. Then instead of Analytical solution, Gradient descent could be used which is slow but outputs a fairly good answer. \n"
      ]
    },
    {
      "cell_type": "markdown",
      "metadata": {
        "id": "7pyG_o2ksmIH",
        "colab_type": "text"
      },
      "source": [
        "3) If we use different cost function then the gradient of the cost function changes, eventually the gradient descent step changes.\n",
        "\n"
      ]
    },
    {
      "cell_type": "markdown",
      "metadata": {
        "id": "cR02JufrUpEw",
        "colab_type": "text"
      },
      "source": [
        "4) Initialization of parameters is a crucial step to obtain an optimum solution. If we initialize near a local minima, we eventually get a solution which is local minima. So initialization should be such that we get a global minima. \n",
        "\n",
        "If we initialize near the solution it converges fast in a smaller number of iterations. If we initialize far from the solution it converges slowly and takes high number of iterations"
      ]
    },
    {
      "cell_type": "markdown",
      "metadata": {
        "id": "INTuvZIuYk6Q",
        "colab_type": "text"
      },
      "source": [
        "5) Gradient Descent has a low convergence rate. If we want a high accuracy then there should be a high number of iterations. Because of which there will be a low convergence rate. \n",
        "Also, Gradient Descent converges to local minima if our initialization is not handled well. Which is also a drawback. \n"
      ]
    },
    {
      "cell_type": "markdown",
      "metadata": {
        "id": "QhmHVsbFce97",
        "colab_type": "text"
      },
      "source": [
        "6) If the number of features increases the column size of the X matrix increases. Calculation of inverse of XT*X becomes computationally difficult. Actuallly it depends on the number of features. If column size is very high in the order of 1000's, using gradient descent approach is preferable comparable to analytical approach. But if the features are around 10-50, analytical approach can be used.(Again it also depends on the training data size)\n",
        "\n",
        "With the increase in features the gradient descent approach is somewhat changed because of added parameters. Also, we need to find extra parameters."
      ]
    },
    {
      "cell_type": "markdown",
      "metadata": {
        "id": "pMpaeY9iceZd",
        "colab_type": "text"
      },
      "source": [
        "7) Actually learning rate shouldn't be too small, because if it is small it moves in small steps and takes many iterations to converge. The appropriate learning rate could be found out by calculating the cost for different alphas from around 0.3 and decreasing continuously. If we find that there is no decrease in cost even after decreasing the learning rate, then we can say that we have reached an optimum learning rate and fix the value.\n"
      ]
    }
  ]
}