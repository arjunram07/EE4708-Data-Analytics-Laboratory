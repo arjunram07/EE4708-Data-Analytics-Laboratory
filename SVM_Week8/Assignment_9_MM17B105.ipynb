{
  "nbformat": 4,
  "nbformat_minor": 0,
  "metadata": {
    "kernelspec": {
      "display_name": "Python 3",
      "language": "python",
      "name": "python3"
    },
    "language_info": {
      "codemirror_mode": {
        "name": "ipython",
        "version": 3
      },
      "file_extension": ".py",
      "mimetype": "text/x-python",
      "name": "python",
      "nbconvert_exporter": "python",
      "pygments_lexer": "ipython3",
      "version": "3.8.5"
    },
    "colab": {
      "name": "Assignment 9.ipynb",
      "provenance": [],
      "collapsed_sections": [],
      "toc_visible": true
    }
  },
  "cells": [
    {
      "cell_type": "markdown",
      "metadata": {
        "id": "tdhmQw9JP9pb"
      },
      "source": [
        "# Assignment 9"
      ]
    },
    {
      "cell_type": "markdown",
      "metadata": {
        "id": "x_WtgUX6P9pg"
      },
      "source": [
        "## 1. SVM (Linearly Seperable Data)"
      ]
    },
    {
      "cell_type": "markdown",
      "metadata": {
        "id": "xIaCz-V2P9pk"
      },
      "source": [
        "### You are given a two dimensional dataset (SVM_Q1) with 4 classes and you have to use SVM for classification."
      ]
    },
    {
      "cell_type": "markdown",
      "metadata": {
        "id": "gshFkK7MP9pr"
      },
      "source": [
        "### Import the required libraries "
      ]
    },
    {
      "cell_type": "code",
      "metadata": {
        "id": "AHpW-yn_P9pu"
      },
      "source": [
        "import matplotlib.pyplot as plt\n",
        "from sklearn.svm import SVC\n",
        "import matplotlib as m\n",
        "from sklearn.metrics import confusion_matrix\n",
        "from sklearn.metrics import accuracy_score\n",
        "from sklearn.model_selection import train_test_split\n",
        "import numpy as np"
      ],
      "execution_count": 33,
      "outputs": []
    },
    {
      "cell_type": "markdown",
      "metadata": {
        "id": "HhhFsn4RP9qA"
      },
      "source": [
        "### The code for loading data is given below."
      ]
    },
    {
      "cell_type": "code",
      "metadata": {
        "id": "GUZ-KCprP9qF"
      },
      "source": [
        "# load data (do not change it)\n",
        "import numpy as np\n",
        "X_train, X_test, y_train, y_test = np.load('./SVM_Q1.npy', allow_pickle=True)"
      ],
      "execution_count": 34,
      "outputs": []
    },
    {
      "cell_type": "markdown",
      "metadata": {
        "id": "oJ7XoIN_P9qO"
      },
      "source": [
        "### 1.a) Write code to visualize the training data"
      ]
    },
    {
      "cell_type": "code",
      "metadata": {
        "id": "FJdqbsokP9qP",
        "outputId": "fb2523e4-80c3-4c3c-a42d-9572fdcdd44f",
        "colab": {
          "base_uri": "https://localhost:8080/",
          "height": 282
        }
      },
      "source": [
        "plt.scatter(X_train[:,0],X_train[:,1])"
      ],
      "execution_count": 35,
      "outputs": [
        {
          "output_type": "execute_result",
          "data": {
            "text/plain": [
              "<matplotlib.collections.PathCollection at 0x7f83fa1a8b00>"
            ]
          },
          "metadata": {
            "tags": []
          },
          "execution_count": 35
        },
        {
          "output_type": "display_data",
          "data": {
            "image/png": "[encoded data removed]",
            "text/plain": [
              "<Figure size 432x288 with 1 Axes>"
            ]
          },
          "metadata": {
            "tags": [],
            "needs_background": "light"
          }
        }
      ]
    },
    {
      "cell_type": "markdown",
      "metadata": {
        "id": "GM3zzawzP9qT"
      },
      "source": [
        "### 1.b) Write the code for SVM classifier (you can write code from scratch or use sklrean)"
      ]
    },
    {
      "cell_type": "code",
      "metadata": {
        "id": "Vf544rCGP9qU",
        "outputId": "e99190e2-f212-4aec-f8cf-5ef40179a7cf",
        "colab": {
          "base_uri": "https://localhost:8080/"
        }
      },
      "source": [
        "svm = SVC()\n",
        "svm.fit(X_train,y_train)"
      ],
      "execution_count": 36,
      "outputs": [
        {
          "output_type": "execute_result",
          "data": {
            "text/plain": [
              "SVC(C=1.0, break_ties=False, cache_size=200, class_weight=None, coef0=0.0,\n",
              "    decision_function_shape='ovr', degree=3, gamma='scale', kernel='rbf',\n",
              "    max_iter=-1, probability=False, random_state=None, shrinking=True,\n",
              "    tol=0.001, verbose=False)"
            ]
          },
          "metadata": {
            "tags": []
          },
          "execution_count": 36
        }
      ]
    },
    {
      "cell_type": "markdown",
      "metadata": {
        "id": "mXv_NQ8KP9qZ"
      },
      "source": [
        "### 1.c) Generate the confusion matrix for the classifer on the test data"
      ]
    },
    {
      "cell_type": "code",
      "metadata": {
        "id": "rLbkrl8yP9qZ",
        "outputId": "11a5fde4-34f7-4e97-8065-66b5f80a0c80",
        "colab": {
          "base_uri": "https://localhost:8080/"
        }
      },
      "source": [
        "y_pred=svm.predict(X_test)\n",
        "confusion_matrix(y_test,y_pred)"
      ],
      "execution_count": 37,
      "outputs": [
        {
          "output_type": "execute_result",
          "data": {
            "text/plain": [
              "array([[327,   4,   5,   0],\n",
              "       [  3, 324,   0,   1],\n",
              "       [  3,   0, 336,   1],\n",
              "       [  0,   1,   1, 314]])"
            ]
          },
          "metadata": {
            "tags": []
          },
          "execution_count": 37
        }
      ]
    },
    {
      "cell_type": "markdown",
      "metadata": {
        "id": "sEoLQYKuP9qf"
      },
      "source": [
        "### 1.d) Visualize the support vectors and decision boundary"
      ]
    },
    {
      "cell_type": "code",
      "metadata": {
        "id": "WHK0dSL8d6iZ",
        "outputId": "07fc936e-0d58-4e8c-afe0-a8fea80fe4cc",
        "colab": {
          "base_uri": "https://localhost:8080/",
          "height": 295
        }
      },
      "source": [
        "x1 = np.linspace(-3,10,100)\n",
        "x2 = np.linspace(-3,10,100)\n",
        "x1, x2 = np.meshgrid(x1, x2)\n",
        "X_new = np.c_[x1.ravel(), x2.ravel()]\n",
        "y_pred_ = svm.predict(X_new).reshape(x1.shape)\n",
        "plt.contourf(x1, x2, y_pred_, alpha=0.3)\n",
        "plt.scatter(svm.support_vectors_[:,0],svm.support_vectors_[:,1],color='b',label='support_vectors')\n",
        "plt.legend();\n",
        "plt.xlabel('X1')\n",
        "plt.ylabel('X2');\n",
        "plt.title('Support Vectors and Decision Boundary');"
      ],
      "execution_count": 38,
      "outputs": [
        {
          "output_type": "display_data",
          "data": {
            "image/png": "[encoded data removed]",
            "text/plain": [
              "<Figure size 432x288 with 1 Axes>"
            ]
          },
          "metadata": {
            "tags": [],
            "needs_background": "light"
          }
        }
      ]
    },
    {
      "cell_type": "markdown",
      "metadata": {
        "id": "gxwYnFL5P9qn"
      },
      "source": [
        "### 1.e) Report the accuracy obtained "
      ]
    },
    {
      "cell_type": "code",
      "metadata": {
        "id": "13bbxRRCP9qn",
        "outputId": "dd9bd554-4848-42e0-d5e5-8fa4d4565698",
        "colab": {
          "base_uri": "https://localhost:8080/"
        }
      },
      "source": [
        "accuracy_score(y_test,y_pred)"
      ],
      "execution_count": 39,
      "outputs": [
        {
          "output_type": "execute_result",
          "data": {
            "text/plain": [
              "0.9856060606060606"
            ]
          },
          "metadata": {
            "tags": []
          },
          "execution_count": 39
        }
      ]
    },
    {
      "cell_type": "markdown",
      "metadata": {
        "id": "a3tnofAXP9qs"
      },
      "source": [
        "## 2. SVM (Non-linearly separable Data)"
      ]
    },
    {
      "cell_type": "markdown",
      "metadata": {
        "id": "2dyJjChrP9qt"
      },
      "source": [
        "### You are given a two dimensional dataset with 2 classes as loaded below and you have to use SVM for classification."
      ]
    },
    {
      "cell_type": "code",
      "metadata": {
        "id": "B0UgOPYQP9qu"
      },
      "source": [
        "# generating data (do not change it)\n",
        "from sklearn.datasets import make_circles \n",
        "X, Y = make_circles(n_samples = 3000, noise = 0.04) "
      ],
      "execution_count": 40,
      "outputs": []
    },
    {
      "cell_type": "markdown",
      "metadata": {
        "id": "pXtthyRYP9qy"
      },
      "source": [
        "### 2.a) Use train_test_split function in sklearn to split the dataset into train and test sets in the ratio of 80:20"
      ]
    },
    {
      "cell_type": "code",
      "metadata": {
        "id": "DS6Ci1p3P9qy"
      },
      "source": [
        "X_train,X_test,y_train,y_test=train_test_split(X,Y,test_size=0.2,random_state=15)"
      ],
      "execution_count": 41,
      "outputs": []
    },
    {
      "cell_type": "markdown",
      "metadata": {
        "id": "b0TgsMo0P9q2"
      },
      "source": [
        "### 2.b) Write the code for SVM classifier with polynomial kernel (you can write code from scratch or use sklrean)\n",
        "\n",
        "Hint: Use kernel of degree 8."
      ]
    },
    {
      "cell_type": "code",
      "metadata": {
        "id": "xFLAhcemP9q3",
        "outputId": "91b8cad3-1351-46ac-f45f-cb04185c1f2e",
        "colab": {
          "base_uri": "https://localhost:8080/"
        }
      },
      "source": [
        "svm=SVC(kernel='poly', degree=8)\n",
        "svm.fit(X_train,y_train)"
      ],
      "execution_count": 42,
      "outputs": [
        {
          "output_type": "execute_result",
          "data": {
            "text/plain": [
              "SVC(C=1.0, break_ties=False, cache_size=200, class_weight=None, coef0=0.0,\n",
              "    decision_function_shape='ovr', degree=8, gamma='scale', kernel='poly',\n",
              "    max_iter=-1, probability=False, random_state=None, shrinking=True,\n",
              "    tol=0.001, verbose=False)"
            ]
          },
          "metadata": {
            "tags": []
          },
          "execution_count": 42
        }
      ]
    },
    {
      "cell_type": "markdown",
      "metadata": {
        "id": "G8DaDNuMP9q7"
      },
      "source": [
        "### 2.c) Generate the confusion matrix for the classifer on the test data"
      ]
    },
    {
      "cell_type": "code",
      "metadata": {
        "id": "NIFxZm3KP9q9",
        "outputId": "5970828d-678e-4dd9-ce3f-78c8d3bc7da2",
        "colab": {
          "base_uri": "https://localhost:8080/"
        }
      },
      "source": [
        "y_pred=svm.predict(X_test)\n",
        "confusion_matrix(y_test,y_pred)"
      ],
      "execution_count": 43,
      "outputs": [
        {
          "output_type": "execute_result",
          "data": {
            "text/plain": [
              "array([[300,   3],\n",
              "       [  2, 295]])"
            ]
          },
          "metadata": {
            "tags": []
          },
          "execution_count": 43
        }
      ]
    },
    {
      "cell_type": "markdown",
      "metadata": {
        "id": "Rp3i6U5rP9rC"
      },
      "source": [
        "### 2.d) Visualize the support vectors and plot the decision boundary"
      ]
    },
    {
      "cell_type": "code",
      "metadata": {
        "id": "hzGCLlj1Ip53",
        "outputId": "bde4f65e-74c2-4dc3-a9f6-5e080a7618bc",
        "colab": {
          "base_uri": "https://localhost:8080/",
          "height": 295
        }
      },
      "source": [
        "x1 = np.linspace(-1.5,1.5,100)\n",
        "x2 = np.linspace(-1.5,1.5,100)\n",
        "x1, x2 = np.meshgrid(x1, x2)\n",
        "X_new = np.c_[x1.ravel(), x2.ravel()]\n",
        "y_pred_ = svm.predict(X_new).reshape(x1.shape)\n",
        "plt.contourf(x1, x2, y_pred_, alpha=0.3,cmap=m.colors.ListedColormap(['white','black','white']))\n",
        "plt.scatter(svm.support_vectors_[:,0],svm.support_vectors_[:,1],color='b',label='support_vectors')\n",
        "plt.legend();\n",
        "plt.xlabel('X1')\n",
        "plt.ylabel('X2');\n",
        "plt.title('Support Vectors and Decision Boundary');"
      ],
      "execution_count": 44,
      "outputs": [
        {
          "output_type": "display_data",
          "data": {
            "image/png": "[encoded data removed]",
            "text/plain": [
              "<Figure size 432x288 with 1 Axes>"
            ]
          },
          "metadata": {
            "tags": [],
            "needs_background": "light"
          }
        }
      ]
    },
    {
      "cell_type": "markdown",
      "metadata": {
        "id": "8o44_ABiP9rL"
      },
      "source": [
        "### 2.e) Report the accuracy obtained "
      ]
    },
    {
      "cell_type": "code",
      "metadata": {
        "id": "hALDrX6WP9rN",
        "outputId": "c09a88ef-5f66-4689-efb1-eb80da8866e7",
        "colab": {
          "base_uri": "https://localhost:8080/"
        }
      },
      "source": [
        "accuracy_score(y_test,y_pred)"
      ],
      "execution_count": 45,
      "outputs": [
        {
          "output_type": "execute_result",
          "data": {
            "text/plain": [
              "0.9916666666666667"
            ]
          },
          "metadata": {
            "tags": []
          },
          "execution_count": 45
        }
      ]
    },
    {
      "cell_type": "markdown",
      "metadata": {
        "id": "6nmiAj9iP9rQ"
      },
      "source": [
        "### 2.f) Repeat the above steps with sigmoid kernel (you can write code from scratch or use sklearn). You can tune the parameter to obtain better accuracy on test set."
      ]
    },
    {
      "cell_type": "code",
      "metadata": {
        "id": "gQEpS_h-bMOQ",
        "outputId": "6fc86c58-29ef-4d2b-c013-90fb231237a8",
        "colab": {
          "base_uri": "https://localhost:8080/"
        }
      },
      "source": [
        "from sklearn.model_selection import GridSearchCV \n",
        "svm=SVC()\n",
        "param_grid = {'C': [0.1, 1, 10, 100, 1000],  \n",
        "              'gamma': [100,10,1, 0.1, 0.01, 0.001, 0.0001],\n",
        "              'kernel':['sigmoid']\n",
        "            }  \n",
        "grid = GridSearchCV(svm, param_grid, verbose = 3) \n",
        "grid.fit(X_train, y_train) "
      ],
      "execution_count": 55,
      "outputs": [
        {
          "output_type": "stream",
          "text": [
            "Fitting 5 folds for each of 35 candidates, totalling 175 fits\n",
            "[CV] C=0.1, gamma=100, kernel=sigmoid ................................\n",
            "[CV] .... C=0.1, gamma=100, kernel=sigmoid, score=0.523, total=   0.1s\n",
            "[CV] C=0.1, gamma=100, kernel=sigmoid ................................\n"
          ],
          "name": "stdout"
        },
        {
          "output_type": "stream",
          "text": [
            "[Parallel(n_jobs=1)]: Using backend SequentialBackend with 1 concurrent workers.\n",
            "[Parallel(n_jobs=1)]: Done   1 out of   1 | elapsed:    0.1s remaining:    0.0s\n"
          ],
          "name": "stderr"
        },
        {
          "output_type": "stream",
          "text": [
            "[CV] .... C=0.1, gamma=100, kernel=sigmoid, score=0.535, total=   0.1s\n",
            "[CV] C=0.1, gamma=100, kernel=sigmoid ................................\n",
            "[CV] .... C=0.1, gamma=100, kernel=sigmoid, score=0.517, total=   0.1s\n",
            "[CV] C=0.1, gamma=100, kernel=sigmoid ................................\n",
            "[CV] .... C=0.1, gamma=100, kernel=sigmoid, score=0.519, total=   0.1s\n",
            "[CV] C=0.1, gamma=100, kernel=sigmoid ................................\n"
          ],
          "name": "stdout"
        },
        {
          "output_type": "stream",
          "text": [
            "[Parallel(n_jobs=1)]: Done   2 out of   2 | elapsed:    0.2s remaining:    0.0s\n"
          ],
          "name": "stderr"
        },
        {
          "output_type": "stream",
          "text": [
            "[CV] .... C=0.1, gamma=100, kernel=sigmoid, score=0.498, total=   0.1s\n",
            "[CV] C=0.1, gamma=10, kernel=sigmoid .................................\n",
            "[CV] ..... C=0.1, gamma=10, kernel=sigmoid, score=0.544, total=   0.1s\n",
            "[CV] C=0.1, gamma=10, kernel=sigmoid .................................\n",
            "[CV] ..... C=0.1, gamma=10, kernel=sigmoid, score=0.469, total=   0.1s\n",
            "[CV] C=0.1, gamma=10, kernel=sigmoid .................................\n",
            "[CV] ..... C=0.1, gamma=10, kernel=sigmoid, score=0.533, total=   0.2s\n",
            "[CV] C=0.1, gamma=10, kernel=sigmoid .................................\n",
            "[CV] ..... C=0.1, gamma=10, kernel=sigmoid, score=0.523, total=   0.1s\n",
            "[CV] C=0.1, gamma=10, kernel=sigmoid .................................\n",
            "[CV] ..... C=0.1, gamma=10, kernel=sigmoid, score=0.500, total=   0.2s\n",
            "[CV] C=0.1, gamma=1, kernel=sigmoid ..................................\n",
            "[CV] ...... C=0.1, gamma=1, kernel=sigmoid, score=0.512, total=   0.2s\n",
            "[CV] C=0.1, gamma=1, kernel=sigmoid ..................................\n",
            "[CV] ...... C=0.1, gamma=1, kernel=sigmoid, score=0.525, total=   0.2s\n",
            "[CV] C=0.1, gamma=1, kernel=sigmoid ..................................\n",
            "[CV] ...... C=0.1, gamma=1, kernel=sigmoid, score=0.485, total=   0.2s\n",
            "[CV] C=0.1, gamma=1, kernel=sigmoid ..................................\n",
            "[CV] ...... C=0.1, gamma=1, kernel=sigmoid, score=0.487, total=   0.2s\n",
            "[CV] C=0.1, gamma=1, kernel=sigmoid ..................................\n",
            "[CV] ...... C=0.1, gamma=1, kernel=sigmoid, score=0.525, total=   0.2s\n",
            "[CV] C=0.1, gamma=0.1, kernel=sigmoid ................................\n",
            "[CV] .... C=0.1, gamma=0.1, kernel=sigmoid, score=0.502, total=   0.2s\n",
            "[CV] C=0.1, gamma=0.1, kernel=sigmoid ................................\n",
            "[CV] .... C=0.1, gamma=0.1, kernel=sigmoid, score=0.502, total=   0.2s\n",
            "[CV] C=0.1, gamma=0.1, kernel=sigmoid ................................\n",
            "[CV] .... C=0.1, gamma=0.1, kernel=sigmoid, score=0.502, total=   0.2s\n",
            "[CV] C=0.1, gamma=0.1, kernel=sigmoid ................................\n",
            "[CV] .... C=0.1, gamma=0.1, kernel=sigmoid, score=0.500, total=   0.2s\n",
            "[CV] C=0.1, gamma=0.1, kernel=sigmoid ................................\n",
            "[CV] .... C=0.1, gamma=0.1, kernel=sigmoid, score=0.500, total=   0.2s\n",
            "[CV] C=0.1, gamma=0.01, kernel=sigmoid ...............................\n",
            "[CV] ... C=0.1, gamma=0.01, kernel=sigmoid, score=0.502, total=   0.2s\n",
            "[CV] C=0.1, gamma=0.01, kernel=sigmoid ...............................\n",
            "[CV] ... C=0.1, gamma=0.01, kernel=sigmoid, score=0.502, total=   0.2s\n",
            "[CV] C=0.1, gamma=0.01, kernel=sigmoid ...............................\n",
            "[CV] ... C=0.1, gamma=0.01, kernel=sigmoid, score=0.502, total=   0.2s\n",
            "[CV] C=0.1, gamma=0.01, kernel=sigmoid ...............................\n",
            "[CV] ... C=0.1, gamma=0.01, kernel=sigmoid, score=0.500, total=   0.2s\n",
            "[CV] C=0.1, gamma=0.01, kernel=sigmoid ...............................\n",
            "[CV] ... C=0.1, gamma=0.01, kernel=sigmoid, score=0.500, total=   0.2s\n",
            "[CV] C=0.1, gamma=0.001, kernel=sigmoid ..............................\n",
            "[CV] .. C=0.1, gamma=0.001, kernel=sigmoid, score=0.502, total=   0.2s\n",
            "[CV] C=0.1, gamma=0.001, kernel=sigmoid ..............................\n",
            "[CV] .. C=0.1, gamma=0.001, kernel=sigmoid, score=0.502, total=   0.2s\n",
            "[CV] C=0.1, gamma=0.001, kernel=sigmoid ..............................\n",
            "[CV] .. C=0.1, gamma=0.001, kernel=sigmoid, score=0.502, total=   0.2s\n",
            "[CV] C=0.1, gamma=0.001, kernel=sigmoid ..............................\n",
            "[CV] .. C=0.1, gamma=0.001, kernel=sigmoid, score=0.500, total=   0.2s\n",
            "[CV] C=0.1, gamma=0.001, kernel=sigmoid ..............................\n",
            "[CV] .. C=0.1, gamma=0.001, kernel=sigmoid, score=0.500, total=   0.2s\n",
            "[CV] C=0.1, gamma=0.0001, kernel=sigmoid .............................\n",
            "[CV] . C=0.1, gamma=0.0001, kernel=sigmoid, score=0.502, total=   0.2s\n",
            "[CV] C=0.1, gamma=0.0001, kernel=sigmoid .............................\n",
            "[CV] . C=0.1, gamma=0.0001, kernel=sigmoid, score=0.502, total=   0.2s\n",
            "[CV] C=0.1, gamma=0.0001, kernel=sigmoid .............................\n",
            "[CV] . C=0.1, gamma=0.0001, kernel=sigmoid, score=0.502, total=   0.2s\n",
            "[CV] C=0.1, gamma=0.0001, kernel=sigmoid .............................\n",
            "[CV] . C=0.1, gamma=0.0001, kernel=sigmoid, score=0.500, total=   0.2s\n",
            "[CV] C=0.1, gamma=0.0001, kernel=sigmoid .............................\n",
            "[CV] . C=0.1, gamma=0.0001, kernel=sigmoid, score=0.500, total=   0.2s\n",
            "[CV] C=1, gamma=100, kernel=sigmoid ..................................\n",
            "[CV] ...... C=1, gamma=100, kernel=sigmoid, score=0.531, total=   0.1s\n",
            "[CV] C=1, gamma=100, kernel=sigmoid ..................................\n",
            "[CV] ...... C=1, gamma=100, kernel=sigmoid, score=0.531, total=   0.1s\n",
            "[CV] C=1, gamma=100, kernel=sigmoid ..................................\n",
            "[CV] ...... C=1, gamma=100, kernel=sigmoid, score=0.512, total=   0.1s\n",
            "[CV] C=1, gamma=100, kernel=sigmoid ..................................\n",
            "[CV] ...... C=1, gamma=100, kernel=sigmoid, score=0.521, total=   0.1s\n",
            "[CV] C=1, gamma=100, kernel=sigmoid ..................................\n",
            "[CV] ...... C=1, gamma=100, kernel=sigmoid, score=0.496, total=   0.1s\n",
            "[CV] C=1, gamma=10, kernel=sigmoid ...................................\n",
            "[CV] ....... C=1, gamma=10, kernel=sigmoid, score=0.560, total=   0.1s\n",
            "[CV] C=1, gamma=10, kernel=sigmoid ...................................\n",
            "[CV] ....... C=1, gamma=10, kernel=sigmoid, score=0.475, total=   0.1s\n",
            "[CV] C=1, gamma=10, kernel=sigmoid ...................................\n",
            "[CV] ....... C=1, gamma=10, kernel=sigmoid, score=0.546, total=   0.1s\n",
            "[CV] C=1, gamma=10, kernel=sigmoid ...................................\n",
            "[CV] ....... C=1, gamma=10, kernel=sigmoid, score=0.519, total=   0.1s\n",
            "[CV] C=1, gamma=10, kernel=sigmoid ...................................\n",
            "[CV] ....... C=1, gamma=10, kernel=sigmoid, score=0.500, total=   0.2s\n",
            "[CV] C=1, gamma=1, kernel=sigmoid ....................................\n",
            "[CV] ........ C=1, gamma=1, kernel=sigmoid, score=0.473, total=   0.2s\n",
            "[CV] C=1, gamma=1, kernel=sigmoid ....................................\n",
            "[CV] ........ C=1, gamma=1, kernel=sigmoid, score=0.533, total=   0.2s\n",
            "[CV] C=1, gamma=1, kernel=sigmoid ....................................\n",
            "[CV] ........ C=1, gamma=1, kernel=sigmoid, score=0.510, total=   0.2s\n",
            "[CV] C=1, gamma=1, kernel=sigmoid ....................................\n",
            "[CV] ........ C=1, gamma=1, kernel=sigmoid, score=0.521, total=   0.2s\n",
            "[CV] C=1, gamma=1, kernel=sigmoid ....................................\n",
            "[CV] ........ C=1, gamma=1, kernel=sigmoid, score=0.498, total=   0.2s\n",
            "[CV] C=1, gamma=0.1, kernel=sigmoid ..................................\n",
            "[CV] ...... C=1, gamma=0.1, kernel=sigmoid, score=0.510, total=   0.2s\n",
            "[CV] C=1, gamma=0.1, kernel=sigmoid ..................................\n",
            "[CV] ...... C=1, gamma=0.1, kernel=sigmoid, score=0.502, total=   0.2s\n",
            "[CV] C=1, gamma=0.1, kernel=sigmoid ..................................\n",
            "[CV] ...... C=1, gamma=0.1, kernel=sigmoid, score=0.485, total=   0.2s\n",
            "[CV] C=1, gamma=0.1, kernel=sigmoid ..................................\n",
            "[CV] ...... C=1, gamma=0.1, kernel=sigmoid, score=0.477, total=   0.2s\n",
            "[CV] C=1, gamma=0.1, kernel=sigmoid ..................................\n",
            "[CV] ...... C=1, gamma=0.1, kernel=sigmoid, score=0.525, total=   0.2s\n",
            "[CV] C=1, gamma=0.01, kernel=sigmoid .................................\n",
            "[CV] ..... C=1, gamma=0.01, kernel=sigmoid, score=0.502, total=   0.2s\n",
            "[CV] C=1, gamma=0.01, kernel=sigmoid .................................\n",
            "[CV] ..... C=1, gamma=0.01, kernel=sigmoid, score=0.502, total=   0.2s\n",
            "[CV] C=1, gamma=0.01, kernel=sigmoid .................................\n",
            "[CV] ..... C=1, gamma=0.01, kernel=sigmoid, score=0.502, total=   0.2s\n",
            "[CV] C=1, gamma=0.01, kernel=sigmoid .................................\n",
            "[CV] ..... C=1, gamma=0.01, kernel=sigmoid, score=0.500, total=   0.2s\n",
            "[CV] C=1, gamma=0.01, kernel=sigmoid .................................\n",
            "[CV] ..... C=1, gamma=0.01, kernel=sigmoid, score=0.500, total=   0.2s\n",
            "[CV] C=1, gamma=0.001, kernel=sigmoid ................................\n",
            "[CV] .... C=1, gamma=0.001, kernel=sigmoid, score=0.502, total=   0.2s\n",
            "[CV] C=1, gamma=0.001, kernel=sigmoid ................................\n",
            "[CV] .... C=1, gamma=0.001, kernel=sigmoid, score=0.502, total=   0.2s\n",
            "[CV] C=1, gamma=0.001, kernel=sigmoid ................................\n",
            "[CV] .... C=1, gamma=0.001, kernel=sigmoid, score=0.502, total=   0.2s\n",
            "[CV] C=1, gamma=0.001, kernel=sigmoid ................................\n",
            "[CV] .... C=1, gamma=0.001, kernel=sigmoid, score=0.500, total=   0.2s\n",
            "[CV] C=1, gamma=0.001, kernel=sigmoid ................................\n",
            "[CV] .... C=1, gamma=0.001, kernel=sigmoid, score=0.500, total=   0.2s\n",
            "[CV] C=1, gamma=0.0001, kernel=sigmoid ...............................\n",
            "[CV] ... C=1, gamma=0.0001, kernel=sigmoid, score=0.502, total=   0.2s\n",
            "[CV] C=1, gamma=0.0001, kernel=sigmoid ...............................\n",
            "[CV] ... C=1, gamma=0.0001, kernel=sigmoid, score=0.502, total=   0.2s\n",
            "[CV] C=1, gamma=0.0001, kernel=sigmoid ...............................\n",
            "[CV] ... C=1, gamma=0.0001, kernel=sigmoid, score=0.502, total=   0.2s\n",
            "[CV] C=1, gamma=0.0001, kernel=sigmoid ...............................\n",
            "[CV] ... C=1, gamma=0.0001, kernel=sigmoid, score=0.500, total=   0.2s\n",
            "[CV] C=1, gamma=0.0001, kernel=sigmoid ...............................\n",
            "[CV] ... C=1, gamma=0.0001, kernel=sigmoid, score=0.500, total=   0.2s\n",
            "[CV] C=10, gamma=100, kernel=sigmoid .................................\n",
            "[CV] ..... C=10, gamma=100, kernel=sigmoid, score=0.531, total=   0.1s\n",
            "[CV] C=10, gamma=100, kernel=sigmoid .................................\n",
            "[CV] ..... C=10, gamma=100, kernel=sigmoid, score=0.531, total=   0.1s\n",
            "[CV] C=10, gamma=100, kernel=sigmoid .................................\n",
            "[CV] ..... C=10, gamma=100, kernel=sigmoid, score=0.512, total=   0.1s\n",
            "[CV] C=10, gamma=100, kernel=sigmoid .................................\n",
            "[CV] ..... C=10, gamma=100, kernel=sigmoid, score=0.521, total=   0.1s\n",
            "[CV] C=10, gamma=100, kernel=sigmoid .................................\n",
            "[CV] ..... C=10, gamma=100, kernel=sigmoid, score=0.498, total=   0.1s\n",
            "[CV] C=10, gamma=10, kernel=sigmoid ..................................\n",
            "[CV] ...... C=10, gamma=10, kernel=sigmoid, score=0.533, total=   0.1s\n",
            "[CV] C=10, gamma=10, kernel=sigmoid ..................................\n",
            "[CV] ...... C=10, gamma=10, kernel=sigmoid, score=0.475, total=   0.1s\n",
            "[CV] C=10, gamma=10, kernel=sigmoid ..................................\n",
            "[CV] ...... C=10, gamma=10, kernel=sigmoid, score=0.546, total=   0.1s\n",
            "[CV] C=10, gamma=10, kernel=sigmoid ..................................\n",
            "[CV] ...... C=10, gamma=10, kernel=sigmoid, score=0.519, total=   0.1s\n",
            "[CV] C=10, gamma=10, kernel=sigmoid ..................................\n",
            "[CV] ...... C=10, gamma=10, kernel=sigmoid, score=0.502, total=   0.2s\n",
            "[CV] C=10, gamma=1, kernel=sigmoid ...................................\n",
            "[CV] ....... C=10, gamma=1, kernel=sigmoid, score=0.473, total=   0.2s\n",
            "[CV] C=10, gamma=1, kernel=sigmoid ...................................\n",
            "[CV] ....... C=10, gamma=1, kernel=sigmoid, score=0.531, total=   0.2s\n",
            "[CV] C=10, gamma=1, kernel=sigmoid ...................................\n",
            "[CV] ....... C=10, gamma=1, kernel=sigmoid, score=0.477, total=   0.2s\n",
            "[CV] C=10, gamma=1, kernel=sigmoid ...................................\n",
            "[CV] ....... C=10, gamma=1, kernel=sigmoid, score=0.523, total=   0.2s\n",
            "[CV] C=10, gamma=1, kernel=sigmoid ...................................\n",
            "[CV] ....... C=10, gamma=1, kernel=sigmoid, score=0.498, total=   0.2s\n",
            "[CV] C=10, gamma=0.1, kernel=sigmoid .................................\n",
            "[CV] ..... C=10, gamma=0.1, kernel=sigmoid, score=0.510, total=   0.2s\n",
            "[CV] C=10, gamma=0.1, kernel=sigmoid .................................\n",
            "[CV] ..... C=10, gamma=0.1, kernel=sigmoid, score=0.498, total=   0.2s\n",
            "[CV] C=10, gamma=0.1, kernel=sigmoid .................................\n",
            "[CV] ..... C=10, gamma=0.1, kernel=sigmoid, score=0.485, total=   0.2s\n",
            "[CV] C=10, gamma=0.1, kernel=sigmoid .................................\n",
            "[CV] ..... C=10, gamma=0.1, kernel=sigmoid, score=0.475, total=   0.2s\n",
            "[CV] C=10, gamma=0.1, kernel=sigmoid .................................\n",
            "[CV] ..... C=10, gamma=0.1, kernel=sigmoid, score=0.517, total=   0.2s\n",
            "[CV] C=10, gamma=0.01, kernel=sigmoid ................................\n",
            "[CV] .... C=10, gamma=0.01, kernel=sigmoid, score=0.512, total=   0.2s\n",
            "[CV] C=10, gamma=0.01, kernel=sigmoid ................................\n",
            "[CV] .... C=10, gamma=0.01, kernel=sigmoid, score=0.498, total=   0.2s\n",
            "[CV] C=10, gamma=0.01, kernel=sigmoid ................................\n",
            "[CV] .... C=10, gamma=0.01, kernel=sigmoid, score=0.485, total=   0.2s\n",
            "[CV] C=10, gamma=0.01, kernel=sigmoid ................................\n",
            "[CV] .... C=10, gamma=0.01, kernel=sigmoid, score=0.477, total=   0.2s\n",
            "[CV] C=10, gamma=0.01, kernel=sigmoid ................................\n",
            "[CV] .... C=10, gamma=0.01, kernel=sigmoid, score=0.527, total=   0.2s\n",
            "[CV] C=10, gamma=0.001, kernel=sigmoid ...............................\n",
            "[CV] ... C=10, gamma=0.001, kernel=sigmoid, score=0.502, total=   0.2s\n",
            "[CV] C=10, gamma=0.001, kernel=sigmoid ...............................\n",
            "[CV] ... C=10, gamma=0.001, kernel=sigmoid, score=0.502, total=   0.2s\n",
            "[CV] C=10, gamma=0.001, kernel=sigmoid ...............................\n",
            "[CV] ... C=10, gamma=0.001, kernel=sigmoid, score=0.502, total=   0.2s\n",
            "[CV] C=10, gamma=0.001, kernel=sigmoid ...............................\n",
            "[CV] ... C=10, gamma=0.001, kernel=sigmoid, score=0.500, total=   0.2s\n",
            "[CV] C=10, gamma=0.001, kernel=sigmoid ...............................\n",
            "[CV] ... C=10, gamma=0.001, kernel=sigmoid, score=0.500, total=   0.2s\n",
            "[CV] C=10, gamma=0.0001, kernel=sigmoid ..............................\n",
            "[CV] .. C=10, gamma=0.0001, kernel=sigmoid, score=0.502, total=   0.2s\n",
            "[CV] C=10, gamma=0.0001, kernel=sigmoid ..............................\n",
            "[CV] .. C=10, gamma=0.0001, kernel=sigmoid, score=0.502, total=   0.2s\n",
            "[CV] C=10, gamma=0.0001, kernel=sigmoid ..............................\n",
            "[CV] .. C=10, gamma=0.0001, kernel=sigmoid, score=0.502, total=   0.2s\n",
            "[CV] C=10, gamma=0.0001, kernel=sigmoid ..............................\n",
            "[CV] .. C=10, gamma=0.0001, kernel=sigmoid, score=0.500, total=   0.2s\n",
            "[CV] C=10, gamma=0.0001, kernel=sigmoid ..............................\n",
            "[CV] .. C=10, gamma=0.0001, kernel=sigmoid, score=0.500, total=   0.2s\n",
            "[CV] C=100, gamma=100, kernel=sigmoid ................................\n",
            "[CV] .... C=100, gamma=100, kernel=sigmoid, score=0.531, total=   0.1s\n",
            "[CV] C=100, gamma=100, kernel=sigmoid ................................\n",
            "[CV] .... C=100, gamma=100, kernel=sigmoid, score=0.531, total=   0.1s\n",
            "[CV] C=100, gamma=100, kernel=sigmoid ................................\n",
            "[CV] .... C=100, gamma=100, kernel=sigmoid, score=0.512, total=   0.1s\n",
            "[CV] C=100, gamma=100, kernel=sigmoid ................................\n",
            "[CV] .... C=100, gamma=100, kernel=sigmoid, score=0.521, total=   0.1s\n",
            "[CV] C=100, gamma=100, kernel=sigmoid ................................\n",
            "[CV] .... C=100, gamma=100, kernel=sigmoid, score=0.496, total=   0.1s\n",
            "[CV] C=100, gamma=10, kernel=sigmoid .................................\n",
            "[CV] ..... C=100, gamma=10, kernel=sigmoid, score=0.533, total=   0.1s\n",
            "[CV] C=100, gamma=10, kernel=sigmoid .................................\n",
            "[CV] ..... C=100, gamma=10, kernel=sigmoid, score=0.475, total=   0.1s\n",
            "[CV] C=100, gamma=10, kernel=sigmoid .................................\n",
            "[CV] ..... C=100, gamma=10, kernel=sigmoid, score=0.546, total=   0.1s\n",
            "[CV] C=100, gamma=10, kernel=sigmoid .................................\n",
            "[CV] ..... C=100, gamma=10, kernel=sigmoid, score=0.519, total=   0.1s\n",
            "[CV] C=100, gamma=10, kernel=sigmoid .................................\n",
            "[CV] ..... C=100, gamma=10, kernel=sigmoid, score=0.502, total=   0.2s\n",
            "[CV] C=100, gamma=1, kernel=sigmoid ..................................\n",
            "[CV] ...... C=100, gamma=1, kernel=sigmoid, score=0.481, total=   0.2s\n",
            "[CV] C=100, gamma=1, kernel=sigmoid ..................................\n",
            "[CV] ...... C=100, gamma=1, kernel=sigmoid, score=0.531, total=   0.2s\n",
            "[CV] C=100, gamma=1, kernel=sigmoid ..................................\n",
            "[CV] ...... C=100, gamma=1, kernel=sigmoid, score=0.475, total=   0.2s\n",
            "[CV] C=100, gamma=1, kernel=sigmoid ..................................\n",
            "[CV] ...... C=100, gamma=1, kernel=sigmoid, score=0.508, total=   0.2s\n",
            "[CV] C=100, gamma=1, kernel=sigmoid ..................................\n",
            "[CV] ...... C=100, gamma=1, kernel=sigmoid, score=0.498, total=   0.2s\n",
            "[CV] C=100, gamma=0.1, kernel=sigmoid ................................\n",
            "[CV] .... C=100, gamma=0.1, kernel=sigmoid, score=0.506, total=   0.2s\n",
            "[CV] C=100, gamma=0.1, kernel=sigmoid ................................\n",
            "[CV] .... C=100, gamma=0.1, kernel=sigmoid, score=0.510, total=   0.2s\n",
            "[CV] C=100, gamma=0.1, kernel=sigmoid ................................\n",
            "[CV] .... C=100, gamma=0.1, kernel=sigmoid, score=0.477, total=   0.2s\n",
            "[CV] C=100, gamma=0.1, kernel=sigmoid ................................\n",
            "[CV] .... C=100, gamma=0.1, kernel=sigmoid, score=0.506, total=   0.2s\n",
            "[CV] C=100, gamma=0.1, kernel=sigmoid ................................\n",
            "[CV] .... C=100, gamma=0.1, kernel=sigmoid, score=0.506, total=   0.2s\n",
            "[CV] C=100, gamma=0.01, kernel=sigmoid ...............................\n",
            "[CV] ... C=100, gamma=0.01, kernel=sigmoid, score=0.512, total=   0.2s\n",
            "[CV] C=100, gamma=0.01, kernel=sigmoid ...............................\n",
            "[CV] ... C=100, gamma=0.01, kernel=sigmoid, score=0.498, total=   0.2s\n",
            "[CV] C=100, gamma=0.01, kernel=sigmoid ...............................\n",
            "[CV] ... C=100, gamma=0.01, kernel=sigmoid, score=0.483, total=   0.2s\n",
            "[CV] C=100, gamma=0.01, kernel=sigmoid ...............................\n",
            "[CV] ... C=100, gamma=0.01, kernel=sigmoid, score=0.477, total=   0.2s\n",
            "[CV] C=100, gamma=0.01, kernel=sigmoid ...............................\n",
            "[CV] ... C=100, gamma=0.01, kernel=sigmoid, score=0.519, total=   0.2s\n",
            "[CV] C=100, gamma=0.001, kernel=sigmoid ..............................\n",
            "[CV] .. C=100, gamma=0.001, kernel=sigmoid, score=0.512, total=   0.2s\n",
            "[CV] C=100, gamma=0.001, kernel=sigmoid ..............................\n",
            "[CV] .. C=100, gamma=0.001, kernel=sigmoid, score=0.498, total=   0.2s\n",
            "[CV] C=100, gamma=0.001, kernel=sigmoid ..............................\n",
            "[CV] .. C=100, gamma=0.001, kernel=sigmoid, score=0.485, total=   0.2s\n",
            "[CV] C=100, gamma=0.001, kernel=sigmoid ..............................\n",
            "[CV] .. C=100, gamma=0.001, kernel=sigmoid, score=0.477, total=   0.2s\n",
            "[CV] C=100, gamma=0.001, kernel=sigmoid ..............................\n",
            "[CV] .. C=100, gamma=0.001, kernel=sigmoid, score=0.527, total=   0.2s\n",
            "[CV] C=100, gamma=0.0001, kernel=sigmoid .............................\n",
            "[CV] . C=100, gamma=0.0001, kernel=sigmoid, score=0.502, total=   0.2s\n",
            "[CV] C=100, gamma=0.0001, kernel=sigmoid .............................\n",
            "[CV] . C=100, gamma=0.0001, kernel=sigmoid, score=0.502, total=   0.2s\n",
            "[CV] C=100, gamma=0.0001, kernel=sigmoid .............................\n",
            "[CV] . C=100, gamma=0.0001, kernel=sigmoid, score=0.502, total=   0.2s\n",
            "[CV] C=100, gamma=0.0001, kernel=sigmoid .............................\n",
            "[CV] . C=100, gamma=0.0001, kernel=sigmoid, score=0.500, total=   0.2s\n",
            "[CV] C=100, gamma=0.0001, kernel=sigmoid .............................\n",
            "[CV] . C=100, gamma=0.0001, kernel=sigmoid, score=0.500, total=   0.2s\n",
            "[CV] C=1000, gamma=100, kernel=sigmoid ...............................\n",
            "[CV] ... C=1000, gamma=100, kernel=sigmoid, score=0.531, total=   0.1s\n",
            "[CV] C=1000, gamma=100, kernel=sigmoid ...............................\n",
            "[CV] ... C=1000, gamma=100, kernel=sigmoid, score=0.531, total=   0.1s\n",
            "[CV] C=1000, gamma=100, kernel=sigmoid ...............................\n",
            "[CV] ... C=1000, gamma=100, kernel=sigmoid, score=0.512, total=   0.1s\n",
            "[CV] C=1000, gamma=100, kernel=sigmoid ...............................\n",
            "[CV] ... C=1000, gamma=100, kernel=sigmoid, score=0.521, total=   0.1s\n",
            "[CV] C=1000, gamma=100, kernel=sigmoid ...............................\n",
            "[CV] ... C=1000, gamma=100, kernel=sigmoid, score=0.496, total=   0.1s\n",
            "[CV] C=1000, gamma=10, kernel=sigmoid ................................\n",
            "[CV] .... C=1000, gamma=10, kernel=sigmoid, score=0.533, total=   0.1s\n",
            "[CV] C=1000, gamma=10, kernel=sigmoid ................................\n",
            "[CV] .... C=1000, gamma=10, kernel=sigmoid, score=0.475, total=   0.1s\n",
            "[CV] C=1000, gamma=10, kernel=sigmoid ................................\n",
            "[CV] .... C=1000, gamma=10, kernel=sigmoid, score=0.546, total=   0.1s\n",
            "[CV] C=1000, gamma=10, kernel=sigmoid ................................\n",
            "[CV] .... C=1000, gamma=10, kernel=sigmoid, score=0.519, total=   0.1s\n",
            "[CV] C=1000, gamma=10, kernel=sigmoid ................................\n",
            "[CV] .... C=1000, gamma=10, kernel=sigmoid, score=0.502, total=   0.2s\n",
            "[CV] C=1000, gamma=1, kernel=sigmoid .................................\n",
            "[CV] ..... C=1000, gamma=1, kernel=sigmoid, score=0.475, total=   0.2s\n",
            "[CV] C=1000, gamma=1, kernel=sigmoid .................................\n",
            "[CV] ..... C=1000, gamma=1, kernel=sigmoid, score=0.529, total=   0.2s\n",
            "[CV] C=1000, gamma=1, kernel=sigmoid .................................\n",
            "[CV] ..... C=1000, gamma=1, kernel=sigmoid, score=0.475, total=   0.2s\n",
            "[CV] C=1000, gamma=1, kernel=sigmoid .................................\n",
            "[CV] ..... C=1000, gamma=1, kernel=sigmoid, score=0.521, total=   0.2s\n",
            "[CV] C=1000, gamma=1, kernel=sigmoid .................................\n",
            "[CV] ..... C=1000, gamma=1, kernel=sigmoid, score=0.498, total=   0.2s\n",
            "[CV] C=1000, gamma=0.1, kernel=sigmoid ...............................\n",
            "[CV] ... C=1000, gamma=0.1, kernel=sigmoid, score=0.535, total=   0.2s\n",
            "[CV] C=1000, gamma=0.1, kernel=sigmoid ...............................\n",
            "[CV] ... C=1000, gamma=0.1, kernel=sigmoid, score=0.550, total=   0.4s\n",
            "[CV] C=1000, gamma=0.1, kernel=sigmoid ...............................\n",
            "[CV] ... C=1000, gamma=0.1, kernel=sigmoid, score=0.560, total=   0.2s\n",
            "[CV] C=1000, gamma=0.1, kernel=sigmoid ...............................\n",
            "[CV] ... C=1000, gamma=0.1, kernel=sigmoid, score=0.481, total=   0.2s\n",
            "[CV] C=1000, gamma=0.1, kernel=sigmoid ...............................\n",
            "[CV] ... C=1000, gamma=0.1, kernel=sigmoid, score=0.508, total=   0.2s\n",
            "[CV] C=1000, gamma=0.01, kernel=sigmoid ..............................\n",
            "[CV] .. C=1000, gamma=0.01, kernel=sigmoid, score=0.510, total=   0.2s\n",
            "[CV] C=1000, gamma=0.01, kernel=sigmoid ..............................\n",
            "[CV] .. C=1000, gamma=0.01, kernel=sigmoid, score=0.502, total=   0.2s\n",
            "[CV] C=1000, gamma=0.01, kernel=sigmoid ..............................\n",
            "[CV] .. C=1000, gamma=0.01, kernel=sigmoid, score=0.483, total=   0.2s\n",
            "[CV] C=1000, gamma=0.01, kernel=sigmoid ..............................\n",
            "[CV] .. C=1000, gamma=0.01, kernel=sigmoid, score=0.477, total=   0.2s\n",
            "[CV] C=1000, gamma=0.01, kernel=sigmoid ..............................\n",
            "[CV] .. C=1000, gamma=0.01, kernel=sigmoid, score=0.519, total=   0.2s\n",
            "[CV] C=1000, gamma=0.001, kernel=sigmoid .............................\n",
            "[CV] . C=1000, gamma=0.001, kernel=sigmoid, score=0.512, total=   0.2s\n",
            "[CV] C=1000, gamma=0.001, kernel=sigmoid .............................\n",
            "[CV] . C=1000, gamma=0.001, kernel=sigmoid, score=0.498, total=   0.2s\n",
            "[CV] C=1000, gamma=0.001, kernel=sigmoid .............................\n",
            "[CV] . C=1000, gamma=0.001, kernel=sigmoid, score=0.483, total=   0.2s\n",
            "[CV] C=1000, gamma=0.001, kernel=sigmoid .............................\n",
            "[CV] . C=1000, gamma=0.001, kernel=sigmoid, score=0.477, total=   0.2s\n",
            "[CV] C=1000, gamma=0.001, kernel=sigmoid .............................\n",
            "[CV] . C=1000, gamma=0.001, kernel=sigmoid, score=0.519, total=   0.2s\n",
            "[CV] C=1000, gamma=0.0001, kernel=sigmoid ............................\n",
            "[CV]  C=1000, gamma=0.0001, kernel=sigmoid, score=0.512, total=   0.2s\n",
            "[CV] C=1000, gamma=0.0001, kernel=sigmoid ............................\n",
            "[CV]  C=1000, gamma=0.0001, kernel=sigmoid, score=0.498, total=   0.2s\n",
            "[CV] C=1000, gamma=0.0001, kernel=sigmoid ............................\n",
            "[CV]  C=1000, gamma=0.0001, kernel=sigmoid, score=0.485, total=   0.2s\n",
            "[CV] C=1000, gamma=0.0001, kernel=sigmoid ............................\n",
            "[CV]  C=1000, gamma=0.0001, kernel=sigmoid, score=0.477, total=   0.2s\n",
            "[CV] C=1000, gamma=0.0001, kernel=sigmoid ............................\n",
            "[CV]  C=1000, gamma=0.0001, kernel=sigmoid, score=0.527, total=   0.2s\n"
          ],
          "name": "stdout"
        },
        {
          "output_type": "stream",
          "text": [
            "[Parallel(n_jobs=1)]: Done 175 out of 175 | elapsed:   27.0s finished\n"
          ],
          "name": "stderr"
        },
        {
          "output_type": "execute_result",
          "data": {
            "text/plain": [
              "GridSearchCV(cv=None, error_score=nan,\n",
              "             estimator=SVC(C=1.0, break_ties=False, cache_size=200,\n",
              "                           class_weight=None, coef0=0.0,\n",
              "                           decision_function_shape='ovr', degree=3,\n",
              "                           gamma='scale', kernel='rbf', max_iter=-1,\n",
              "                           probability=False, random_state=None, shrinking=True,\n",
              "                           tol=0.001, verbose=False),\n",
              "             iid='deprecated', n_jobs=None,\n",
              "             param_grid={'C': [0.1, 1, 10, 100, 1000],\n",
              "                         'gamma': [100, 10, 1, 0.1, 0.01, 0.001, 0.0001],\n",
              "                         'kernel': ['sigmoid']},\n",
              "             pre_dispatch='2*n_jobs', refit=True, return_train_score=False,\n",
              "             scoring=None, verbose=3)"
            ]
          },
          "metadata": {
            "tags": []
          },
          "execution_count": 55
        }
      ]
    },
    {
      "cell_type": "code",
      "metadata": {
        "id": "M9mnwIg8nrTe",
        "outputId": "70fed11b-7cf2-496f-fe49-7f8a18348ba6",
        "colab": {
          "base_uri": "https://localhost:8080/"
        }
      },
      "source": [
        "grid.best_params_"
      ],
      "execution_count": 47,
      "outputs": [
        {
          "output_type": "execute_result",
          "data": {
            "text/plain": [
              "{'C': 1000, 'gamma': 0.1, 'kernel': 'sigmoid'}"
            ]
          },
          "metadata": {
            "tags": []
          },
          "execution_count": 47
        }
      ]
    },
    {
      "cell_type": "code",
      "metadata": {
        "id": "hgqy87OAZ55U",
        "outputId": "1d3a3a5c-69fa-4254-b326-dbce515b5ed8",
        "colab": {
          "base_uri": "https://localhost:8080/"
        }
      },
      "source": [
        "svm=SVC(C=1000,gamma=0.1,kernel='sigmoid')\n",
        "svm.fit(X_train,y_train)\n",
        "y_pred=svm.predict(X_test)\n",
        "confusion_matrix(y_test,y_pred)"
      ],
      "execution_count": 74,
      "outputs": [
        {
          "output_type": "execute_result",
          "data": {
            "text/plain": [
              "array([[162, 141],\n",
              "       [146, 151]])"
            ]
          },
          "metadata": {
            "tags": []
          },
          "execution_count": 74
        }
      ]
    },
    {
      "cell_type": "code",
      "metadata": {
        "id": "-JISvSBZaG_U",
        "outputId": "1e726554-c84f-4d2a-c966-0b47927be7c1",
        "colab": {
          "base_uri": "https://localhost:8080/",
          "height": 295
        }
      },
      "source": [
        "x1 = np.linspace(-1.5,1.5,100)\n",
        "x2 = np.linspace(-1.5,1.5,100)\n",
        "x1, x2 = np.meshgrid(x1, x2)\n",
        "X_new = np.c_[x1.ravel(), x2.ravel()]\n",
        "y_pred_ = grid.predict(X_new).reshape(x1.shape)\n",
        "plt.contourf(x1, x2, y_pred_, alpha=0.3,cmap=m.colors.ListedColormap(['white','black','white']))\n",
        "plt.scatter(svm.support_vectors_[:,0],svm.support_vectors_[:,1],color='b',label='support_vectors')\n",
        "plt.legend();\n",
        "plt.xlabel('X1')\n",
        "plt.ylabel('X2');\n",
        "plt.title('Support Vectors and Decision Boundary');"
      ],
      "execution_count": 75,
      "outputs": [
        {
          "output_type": "display_data",
          "data": {
            "image/png": "[encoded data removed]",
            "text/plain": [
              "<Figure size 432x288 with 1 Axes>"
            ]
          },
          "metadata": {
            "tags": [],
            "needs_background": "light"
          }
        }
      ]
    },
    {
      "cell_type": "code",
      "metadata": {
        "id": "0SB7ZN2QaPNn",
        "outputId": "c13766bb-f539-4b3c-d5f2-ad0d9e368df2",
        "colab": {
          "base_uri": "https://localhost:8080/"
        }
      },
      "source": [
        "accuracy_score(y_test,y_pred)"
      ],
      "execution_count": 76,
      "outputs": [
        {
          "output_type": "execute_result",
          "data": {
            "text/plain": [
              "0.5216666666666666"
            ]
          },
          "metadata": {
            "tags": []
          },
          "execution_count": 76
        }
      ]
    },
    {
      "cell_type": "markdown",
      "metadata": {
        "id": "DRv4R83yP9rV"
      },
      "source": [
        "### 2.g) Reapeat the steps 2.c to 2.g with  radial basis function kernel (you can write code from scratch or use sklrean). You can tune the parameter to obtain better accuracy on test set."
      ]
    },
    {
      "cell_type": "code",
      "metadata": {
        "id": "3kRf51NJP9rW",
        "outputId": "1939f4f8-6115-47a6-c70b-23664d917ceb",
        "colab": {
          "base_uri": "https://localhost:8080/"
        }
      },
      "source": [
        "from sklearn.model_selection import GridSearchCV \n",
        "param_grid = {'C': [0.1, 1, 10, 100, 1000],  \n",
        "              'gamma': [10,1, 0.1, 0.01, 0.001, 0.0001],'kernel':['rbf']}  \n",
        "grid = GridSearchCV(svm, param_grid,cv=5, verbose = 10) \n",
        "grid.fit(X_train, y_train) "
      ],
      "execution_count": 77,
      "outputs": [
        {
          "output_type": "stream",
          "text": [
            "Fitting 5 folds for each of 30 candidates, totalling 150 fits\n",
            "[CV] C=0.1, gamma=10, kernel=rbf .....................................\n",
            "[CV] ......... C=0.1, gamma=10, kernel=rbf, score=0.994, total=   0.1s\n",
            "[CV] C=0.1, gamma=10, kernel=rbf .....................................\n",
            "[CV] ......... C=0.1, gamma=10, kernel=rbf, score=0.994, total=   0.1s\n",
            "[CV] C=0.1, gamma=10, kernel=rbf .....................................\n"
          ],
          "name": "stdout"
        },
        {
          "output_type": "stream",
          "text": [
            "[Parallel(n_jobs=1)]: Using backend SequentialBackend with 1 concurrent workers.\n",
            "[Parallel(n_jobs=1)]: Done   1 out of   1 | elapsed:    0.1s remaining:    0.0s\n",
            "[Parallel(n_jobs=1)]: Done   2 out of   2 | elapsed:    0.2s remaining:    0.0s\n"
          ],
          "name": "stderr"
        },
        {
          "output_type": "stream",
          "text": [
            "[CV] ......... C=0.1, gamma=10, kernel=rbf, score=0.990, total=   0.1s\n",
            "[CV] C=0.1, gamma=10, kernel=rbf .....................................\n",
            "[CV] ......... C=0.1, gamma=10, kernel=rbf, score=0.994, total=   0.1s\n",
            "[CV] C=0.1, gamma=10, kernel=rbf .....................................\n",
            "[CV] ......... C=0.1, gamma=10, kernel=rbf, score=0.994, total=   0.1s\n",
            "[CV] C=0.1, gamma=1, kernel=rbf ......................................\n"
          ],
          "name": "stdout"
        },
        {
          "output_type": "stream",
          "text": [
            "[Parallel(n_jobs=1)]: Done   3 out of   3 | elapsed:    0.2s remaining:    0.0s\n",
            "[Parallel(n_jobs=1)]: Done   4 out of   4 | elapsed:    0.3s remaining:    0.0s\n",
            "[Parallel(n_jobs=1)]: Done   5 out of   5 | elapsed:    0.4s remaining:    0.0s\n"
          ],
          "name": "stderr"
        },
        {
          "output_type": "stream",
          "text": [
            "[CV] .......... C=0.1, gamma=1, kernel=rbf, score=0.994, total=   0.1s\n",
            "[CV] C=0.1, gamma=1, kernel=rbf ......................................\n",
            "[CV] .......... C=0.1, gamma=1, kernel=rbf, score=0.996, total=   0.1s\n",
            "[CV] C=0.1, gamma=1, kernel=rbf ......................................\n"
          ],
          "name": "stdout"
        },
        {
          "output_type": "stream",
          "text": [
            "[Parallel(n_jobs=1)]: Done   6 out of   6 | elapsed:    0.5s remaining:    0.0s\n",
            "[Parallel(n_jobs=1)]: Done   7 out of   7 | elapsed:    0.6s remaining:    0.0s\n"
          ],
          "name": "stderr"
        },
        {
          "output_type": "stream",
          "text": [
            "[CV] .......... C=0.1, gamma=1, kernel=rbf, score=0.990, total=   0.1s\n",
            "[CV] C=0.1, gamma=1, kernel=rbf ......................................\n",
            "[CV] .......... C=0.1, gamma=1, kernel=rbf, score=0.994, total=   0.1s\n",
            "[CV] C=0.1, gamma=1, kernel=rbf ......................................\n"
          ],
          "name": "stdout"
        },
        {
          "output_type": "stream",
          "text": [
            "[Parallel(n_jobs=1)]: Done   8 out of   8 | elapsed:    0.7s remaining:    0.0s\n",
            "[Parallel(n_jobs=1)]: Done   9 out of   9 | elapsed:    0.8s remaining:    0.0s\n"
          ],
          "name": "stderr"
        },
        {
          "output_type": "stream",
          "text": [
            "[CV] .......... C=0.1, gamma=1, kernel=rbf, score=0.996, total=   0.1s\n",
            "[CV] C=0.1, gamma=0.1, kernel=rbf ....................................\n",
            "[CV] ........ C=0.1, gamma=0.1, kernel=rbf, score=0.504, total=   0.1s\n",
            "[CV] C=0.1, gamma=0.1, kernel=rbf ....................................\n",
            "[CV] ........ C=0.1, gamma=0.1, kernel=rbf, score=0.502, total=   0.2s\n",
            "[CV] C=0.1, gamma=0.1, kernel=rbf ....................................\n",
            "[CV] ........ C=0.1, gamma=0.1, kernel=rbf, score=0.646, total=   0.1s\n",
            "[CV] C=0.1, gamma=0.1, kernel=rbf ....................................\n",
            "[CV] ........ C=0.1, gamma=0.1, kernel=rbf, score=0.500, total=   0.1s\n",
            "[CV] C=0.1, gamma=0.1, kernel=rbf ....................................\n",
            "[CV] ........ C=0.1, gamma=0.1, kernel=rbf, score=0.500, total=   0.1s\n",
            "[CV] C=0.1, gamma=0.01, kernel=rbf ...................................\n",
            "[CV] ....... C=0.1, gamma=0.01, kernel=rbf, score=0.502, total=   0.2s\n",
            "[CV] C=0.1, gamma=0.01, kernel=rbf ...................................\n",
            "[CV] ....... C=0.1, gamma=0.01, kernel=rbf, score=0.502, total=   0.1s\n",
            "[CV] C=0.1, gamma=0.01, kernel=rbf ...................................\n",
            "[CV] ....... C=0.1, gamma=0.01, kernel=rbf, score=0.502, total=   0.2s\n",
            "[CV] C=0.1, gamma=0.01, kernel=rbf ...................................\n",
            "[CV] ....... C=0.1, gamma=0.01, kernel=rbf, score=0.500, total=   0.2s\n",
            "[CV] C=0.1, gamma=0.01, kernel=rbf ...................................\n",
            "[CV] ....... C=0.1, gamma=0.01, kernel=rbf, score=0.500, total=   0.2s\n",
            "[CV] C=0.1, gamma=0.001, kernel=rbf ..................................\n",
            "[CV] ...... C=0.1, gamma=0.001, kernel=rbf, score=0.502, total=   0.1s\n",
            "[CV] C=0.1, gamma=0.001, kernel=rbf ..................................\n",
            "[CV] ...... C=0.1, gamma=0.001, kernel=rbf, score=0.502, total=   0.1s\n",
            "[CV] C=0.1, gamma=0.001, kernel=rbf ..................................\n",
            "[CV] ...... C=0.1, gamma=0.001, kernel=rbf, score=0.502, total=   0.1s\n",
            "[CV] C=0.1, gamma=0.001, kernel=rbf ..................................\n",
            "[CV] ...... C=0.1, gamma=0.001, kernel=rbf, score=0.500, total=   0.1s\n",
            "[CV] C=0.1, gamma=0.001, kernel=rbf ..................................\n",
            "[CV] ...... C=0.1, gamma=0.001, kernel=rbf, score=0.500, total=   0.1s\n",
            "[CV] C=0.1, gamma=0.0001, kernel=rbf .................................\n",
            "[CV] ..... C=0.1, gamma=0.0001, kernel=rbf, score=0.502, total=   0.2s\n",
            "[CV] C=0.1, gamma=0.0001, kernel=rbf .................................\n",
            "[CV] ..... C=0.1, gamma=0.0001, kernel=rbf, score=0.502, total=   0.1s\n",
            "[CV] C=0.1, gamma=0.0001, kernel=rbf .................................\n",
            "[CV] ..... C=0.1, gamma=0.0001, kernel=rbf, score=0.502, total=   0.1s\n",
            "[CV] C=0.1, gamma=0.0001, kernel=rbf .................................\n",
            "[CV] ..... C=0.1, gamma=0.0001, kernel=rbf, score=0.500, total=   0.2s\n",
            "[CV] C=0.1, gamma=0.0001, kernel=rbf .................................\n",
            "[CV] ..... C=0.1, gamma=0.0001, kernel=rbf, score=0.500, total=   0.1s\n",
            "[CV] C=1, gamma=10, kernel=rbf .......................................\n",
            "[CV] ........... C=1, gamma=10, kernel=rbf, score=0.992, total=   0.0s\n",
            "[CV] C=1, gamma=10, kernel=rbf .......................................\n",
            "[CV] ........... C=1, gamma=10, kernel=rbf, score=0.996, total=   0.0s\n",
            "[CV] C=1, gamma=10, kernel=rbf .......................................\n",
            "[CV] ........... C=1, gamma=10, kernel=rbf, score=0.988, total=   0.0s\n",
            "[CV] C=1, gamma=10, kernel=rbf .......................................\n",
            "[CV] ........... C=1, gamma=10, kernel=rbf, score=0.992, total=   0.0s\n",
            "[CV] C=1, gamma=10, kernel=rbf .......................................\n",
            "[CV] ........... C=1, gamma=10, kernel=rbf, score=0.994, total=   0.0s\n",
            "[CV] C=1, gamma=1, kernel=rbf ........................................\n",
            "[CV] ............ C=1, gamma=1, kernel=rbf, score=0.994, total=   0.0s\n",
            "[CV] C=1, gamma=1, kernel=rbf ........................................\n",
            "[CV] ............ C=1, gamma=1, kernel=rbf, score=0.996, total=   0.0s\n",
            "[CV] C=1, gamma=1, kernel=rbf ........................................\n",
            "[CV] ............ C=1, gamma=1, kernel=rbf, score=0.992, total=   0.0s\n",
            "[CV] C=1, gamma=1, kernel=rbf ........................................\n",
            "[CV] ............ C=1, gamma=1, kernel=rbf, score=0.992, total=   0.0s\n",
            "[CV] C=1, gamma=1, kernel=rbf ........................................\n",
            "[CV] ............ C=1, gamma=1, kernel=rbf, score=0.996, total=   0.0s\n",
            "[CV] C=1, gamma=0.1, kernel=rbf ......................................\n",
            "[CV] .......... C=1, gamma=0.1, kernel=rbf, score=0.994, total=   0.1s\n",
            "[CV] C=1, gamma=0.1, kernel=rbf ......................................\n",
            "[CV] .......... C=1, gamma=0.1, kernel=rbf, score=0.990, total=   0.1s\n",
            "[CV] C=1, gamma=0.1, kernel=rbf ......................................\n",
            "[CV] .......... C=1, gamma=0.1, kernel=rbf, score=0.988, total=   0.1s\n",
            "[CV] C=1, gamma=0.1, kernel=rbf ......................................\n",
            "[CV] .......... C=1, gamma=0.1, kernel=rbf, score=0.994, total=   0.1s\n",
            "[CV] C=1, gamma=0.1, kernel=rbf ......................................\n",
            "[CV] .......... C=1, gamma=0.1, kernel=rbf, score=0.994, total=   0.1s\n",
            "[CV] C=1, gamma=0.01, kernel=rbf .....................................\n",
            "[CV] ......... C=1, gamma=0.01, kernel=rbf, score=0.502, total=   0.1s\n",
            "[CV] C=1, gamma=0.01, kernel=rbf .....................................\n",
            "[CV] ......... C=1, gamma=0.01, kernel=rbf, score=0.502, total=   0.1s\n",
            "[CV] C=1, gamma=0.01, kernel=rbf .....................................\n",
            "[CV] ......... C=1, gamma=0.01, kernel=rbf, score=0.542, total=   0.2s\n",
            "[CV] C=1, gamma=0.01, kernel=rbf .....................................\n",
            "[CV] ......... C=1, gamma=0.01, kernel=rbf, score=0.500, total=   0.2s\n",
            "[CV] C=1, gamma=0.01, kernel=rbf .....................................\n",
            "[CV] ......... C=1, gamma=0.01, kernel=rbf, score=0.500, total=   0.2s\n",
            "[CV] C=1, gamma=0.001, kernel=rbf ....................................\n",
            "[CV] ........ C=1, gamma=0.001, kernel=rbf, score=0.502, total=   0.1s\n",
            "[CV] C=1, gamma=0.001, kernel=rbf ....................................\n",
            "[CV] ........ C=1, gamma=0.001, kernel=rbf, score=0.502, total=   0.1s\n",
            "[CV] C=1, gamma=0.001, kernel=rbf ....................................\n",
            "[CV] ........ C=1, gamma=0.001, kernel=rbf, score=0.502, total=   0.1s\n",
            "[CV] C=1, gamma=0.001, kernel=rbf ....................................\n",
            "[CV] ........ C=1, gamma=0.001, kernel=rbf, score=0.500, total=   0.1s\n",
            "[CV] C=1, gamma=0.001, kernel=rbf ....................................\n",
            "[CV] ........ C=1, gamma=0.001, kernel=rbf, score=0.500, total=   0.2s\n",
            "[CV] C=1, gamma=0.0001, kernel=rbf ...................................\n",
            "[CV] ....... C=1, gamma=0.0001, kernel=rbf, score=0.502, total=   0.2s\n",
            "[CV] C=1, gamma=0.0001, kernel=rbf ...................................\n",
            "[CV] ....... C=1, gamma=0.0001, kernel=rbf, score=0.502, total=   0.1s\n",
            "[CV] C=1, gamma=0.0001, kernel=rbf ...................................\n",
            "[CV] ....... C=1, gamma=0.0001, kernel=rbf, score=0.502, total=   0.1s\n",
            "[CV] C=1, gamma=0.0001, kernel=rbf ...................................\n",
            "[CV] ....... C=1, gamma=0.0001, kernel=rbf, score=0.500, total=   0.1s\n",
            "[CV] C=1, gamma=0.0001, kernel=rbf ...................................\n",
            "[CV] ....... C=1, gamma=0.0001, kernel=rbf, score=0.500, total=   0.1s\n",
            "[CV] C=10, gamma=10, kernel=rbf ......................................\n",
            "[CV] .......... C=10, gamma=10, kernel=rbf, score=0.994, total=   0.0s\n",
            "[CV] C=10, gamma=10, kernel=rbf ......................................\n",
            "[CV] .......... C=10, gamma=10, kernel=rbf, score=0.992, total=   0.0s\n",
            "[CV] C=10, gamma=10, kernel=rbf ......................................\n",
            "[CV] .......... C=10, gamma=10, kernel=rbf, score=0.983, total=   0.0s\n",
            "[CV] C=10, gamma=10, kernel=rbf ......................................\n",
            "[CV] .......... C=10, gamma=10, kernel=rbf, score=0.992, total=   0.0s\n",
            "[CV] C=10, gamma=10, kernel=rbf ......................................\n",
            "[CV] .......... C=10, gamma=10, kernel=rbf, score=0.998, total=   0.0s\n",
            "[CV] C=10, gamma=1, kernel=rbf .......................................\n",
            "[CV] ........... C=10, gamma=1, kernel=rbf, score=0.994, total=   0.0s\n",
            "[CV] C=10, gamma=1, kernel=rbf .......................................\n",
            "[CV] ........... C=10, gamma=1, kernel=rbf, score=0.994, total=   0.0s\n",
            "[CV] C=10, gamma=1, kernel=rbf .......................................\n",
            "[CV] ........... C=10, gamma=1, kernel=rbf, score=0.992, total=   0.0s\n",
            "[CV] C=10, gamma=1, kernel=rbf .......................................\n",
            "[CV] ........... C=10, gamma=1, kernel=rbf, score=0.994, total=   0.0s\n",
            "[CV] C=10, gamma=1, kernel=rbf .......................................\n",
            "[CV] ........... C=10, gamma=1, kernel=rbf, score=0.996, total=   0.0s\n",
            "[CV] C=10, gamma=0.1, kernel=rbf .....................................\n",
            "[CV] ......... C=10, gamma=0.1, kernel=rbf, score=0.994, total=   0.0s\n",
            "[CV] C=10, gamma=0.1, kernel=rbf .....................................\n",
            "[CV] ......... C=10, gamma=0.1, kernel=rbf, score=0.996, total=   0.0s\n",
            "[CV] C=10, gamma=0.1, kernel=rbf .....................................\n",
            "[CV] ......... C=10, gamma=0.1, kernel=rbf, score=0.988, total=   0.1s\n",
            "[CV] C=10, gamma=0.1, kernel=rbf .....................................\n",
            "[CV] ......... C=10, gamma=0.1, kernel=rbf, score=0.992, total=   0.0s\n",
            "[CV] C=10, gamma=0.1, kernel=rbf .....................................\n",
            "[CV] ......... C=10, gamma=0.1, kernel=rbf, score=0.996, total=   0.1s\n",
            "[CV] C=10, gamma=0.01, kernel=rbf ....................................\n",
            "[CV] ........ C=10, gamma=0.01, kernel=rbf, score=0.562, total=   0.2s\n",
            "[CV] C=10, gamma=0.01, kernel=rbf ....................................\n",
            "[CV] ........ C=10, gamma=0.01, kernel=rbf, score=0.548, total=   0.1s\n",
            "[CV] C=10, gamma=0.01, kernel=rbf ....................................\n",
            "[CV] ........ C=10, gamma=0.01, kernel=rbf, score=0.529, total=   0.1s\n",
            "[CV] C=10, gamma=0.01, kernel=rbf ....................................\n",
            "[CV] ........ C=10, gamma=0.01, kernel=rbf, score=0.537, total=   0.1s\n",
            "[CV] C=10, gamma=0.01, kernel=rbf ....................................\n",
            "[CV] ........ C=10, gamma=0.01, kernel=rbf, score=0.558, total=   0.2s\n",
            "[CV] C=10, gamma=0.001, kernel=rbf ...................................\n",
            "[CV] ....... C=10, gamma=0.001, kernel=rbf, score=0.502, total=   0.2s\n",
            "[CV] C=10, gamma=0.001, kernel=rbf ...................................\n",
            "[CV] ....... C=10, gamma=0.001, kernel=rbf, score=0.502, total=   0.2s\n",
            "[CV] C=10, gamma=0.001, kernel=rbf ...................................\n",
            "[CV] ....... C=10, gamma=0.001, kernel=rbf, score=0.525, total=   0.2s\n",
            "[CV] C=10, gamma=0.001, kernel=rbf ...................................\n",
            "[CV] ....... C=10, gamma=0.001, kernel=rbf, score=0.500, total=   0.2s\n",
            "[CV] C=10, gamma=0.001, kernel=rbf ...................................\n",
            "[CV] ....... C=10, gamma=0.001, kernel=rbf, score=0.500, total=   0.1s\n",
            "[CV] C=10, gamma=0.0001, kernel=rbf ..................................\n",
            "[CV] ...... C=10, gamma=0.0001, kernel=rbf, score=0.502, total=   0.1s\n",
            "[CV] C=10, gamma=0.0001, kernel=rbf ..................................\n",
            "[CV] ...... C=10, gamma=0.0001, kernel=rbf, score=0.502, total=   0.1s\n",
            "[CV] C=10, gamma=0.0001, kernel=rbf ..................................\n",
            "[CV] ...... C=10, gamma=0.0001, kernel=rbf, score=0.502, total=   0.1s\n",
            "[CV] C=10, gamma=0.0001, kernel=rbf ..................................\n",
            "[CV] ...... C=10, gamma=0.0001, kernel=rbf, score=0.500, total=   0.1s\n",
            "[CV] C=10, gamma=0.0001, kernel=rbf ..................................\n",
            "[CV] ...... C=10, gamma=0.0001, kernel=rbf, score=0.500, total=   0.2s\n",
            "[CV] C=100, gamma=10, kernel=rbf .....................................\n",
            "[CV] ......... C=100, gamma=10, kernel=rbf, score=0.996, total=   0.0s\n",
            "[CV] C=100, gamma=10, kernel=rbf .....................................\n",
            "[CV] ......... C=100, gamma=10, kernel=rbf, score=0.990, total=   0.0s\n",
            "[CV] C=100, gamma=10, kernel=rbf .....................................\n",
            "[CV] ......... C=100, gamma=10, kernel=rbf, score=0.983, total=   0.0s\n",
            "[CV] C=100, gamma=10, kernel=rbf .....................................\n",
            "[CV] ......... C=100, gamma=10, kernel=rbf, score=0.990, total=   0.0s\n",
            "[CV] C=100, gamma=10, kernel=rbf .....................................\n",
            "[CV] ......... C=100, gamma=10, kernel=rbf, score=0.988, total=   0.0s\n",
            "[CV] C=100, gamma=1, kernel=rbf ......................................\n",
            "[CV] .......... C=100, gamma=1, kernel=rbf, score=0.996, total=   0.0s\n",
            "[CV] C=100, gamma=1, kernel=rbf ......................................\n",
            "[CV] .......... C=100, gamma=1, kernel=rbf, score=0.990, total=   0.0s\n",
            "[CV] C=100, gamma=1, kernel=rbf ......................................\n",
            "[CV] .......... C=100, gamma=1, kernel=rbf, score=0.990, total=   0.0s\n",
            "[CV] C=100, gamma=1, kernel=rbf ......................................\n",
            "[CV] .......... C=100, gamma=1, kernel=rbf, score=0.994, total=   0.0s\n",
            "[CV] C=100, gamma=1, kernel=rbf ......................................\n",
            "[CV] .......... C=100, gamma=1, kernel=rbf, score=0.998, total=   0.0s\n",
            "[CV] C=100, gamma=0.1, kernel=rbf ....................................\n",
            "[CV] ........ C=100, gamma=0.1, kernel=rbf, score=0.994, total=   0.0s\n",
            "[CV] C=100, gamma=0.1, kernel=rbf ....................................\n",
            "[CV] ........ C=100, gamma=0.1, kernel=rbf, score=0.996, total=   0.0s\n",
            "[CV] C=100, gamma=0.1, kernel=rbf ....................................\n",
            "[CV] ........ C=100, gamma=0.1, kernel=rbf, score=0.990, total=   0.0s\n",
            "[CV] C=100, gamma=0.1, kernel=rbf ....................................\n",
            "[CV] ........ C=100, gamma=0.1, kernel=rbf, score=0.992, total=   0.0s\n",
            "[CV] C=100, gamma=0.1, kernel=rbf ....................................\n",
            "[CV] ........ C=100, gamma=0.1, kernel=rbf, score=0.994, total=   0.0s\n",
            "[CV] C=100, gamma=0.01, kernel=rbf ...................................\n",
            "[CV] ....... C=100, gamma=0.01, kernel=rbf, score=0.994, total=   0.1s\n",
            "[CV] C=100, gamma=0.01, kernel=rbf ...................................\n",
            "[CV] ....... C=100, gamma=0.01, kernel=rbf, score=0.988, total=   0.1s\n",
            "[CV] C=100, gamma=0.01, kernel=rbf ...................................\n",
            "[CV] ....... C=100, gamma=0.01, kernel=rbf, score=0.988, total=   0.1s\n",
            "[CV] C=100, gamma=0.01, kernel=rbf ...................................\n",
            "[CV] ....... C=100, gamma=0.01, kernel=rbf, score=0.994, total=   0.1s\n",
            "[CV] C=100, gamma=0.01, kernel=rbf ...................................\n",
            "[CV] ....... C=100, gamma=0.01, kernel=rbf, score=0.994, total=   0.1s\n",
            "[CV] C=100, gamma=0.001, kernel=rbf ..................................\n",
            "[CV] ...... C=100, gamma=0.001, kernel=rbf, score=0.519, total=   0.1s\n",
            "[CV] C=100, gamma=0.001, kernel=rbf ..................................\n",
            "[CV] ...... C=100, gamma=0.001, kernel=rbf, score=0.504, total=   0.1s\n",
            "[CV] C=100, gamma=0.001, kernel=rbf ..................................\n",
            "[CV] ...... C=100, gamma=0.001, kernel=rbf, score=0.492, total=   0.1s\n",
            "[CV] C=100, gamma=0.001, kernel=rbf ..................................\n",
            "[CV] ...... C=100, gamma=0.001, kernel=rbf, score=0.479, total=   0.2s\n",
            "[CV] C=100, gamma=0.001, kernel=rbf ..................................\n",
            "[CV] ...... C=100, gamma=0.001, kernel=rbf, score=0.525, total=   0.1s\n",
            "[CV] C=100, gamma=0.0001, kernel=rbf .................................\n",
            "[CV] ..... C=100, gamma=0.0001, kernel=rbf, score=0.502, total=   0.1s\n",
            "[CV] C=100, gamma=0.0001, kernel=rbf .................................\n",
            "[CV] ..... C=100, gamma=0.0001, kernel=rbf, score=0.502, total=   0.1s\n",
            "[CV] C=100, gamma=0.0001, kernel=rbf .................................\n",
            "[CV] ..... C=100, gamma=0.0001, kernel=rbf, score=0.523, total=   0.2s\n",
            "[CV] C=100, gamma=0.0001, kernel=rbf .................................\n",
            "[CV] ..... C=100, gamma=0.0001, kernel=rbf, score=0.500, total=   0.1s\n",
            "[CV] C=100, gamma=0.0001, kernel=rbf .................................\n",
            "[CV] ..... C=100, gamma=0.0001, kernel=rbf, score=0.500, total=   0.1s\n",
            "[CV] C=1000, gamma=10, kernel=rbf ....................................\n",
            "[CV] ........ C=1000, gamma=10, kernel=rbf, score=0.994, total=   0.0s\n",
            "[CV] C=1000, gamma=10, kernel=rbf ....................................\n",
            "[CV] ........ C=1000, gamma=10, kernel=rbf, score=0.985, total=   0.0s\n",
            "[CV] C=1000, gamma=10, kernel=rbf ....................................\n",
            "[CV] ........ C=1000, gamma=10, kernel=rbf, score=0.985, total=   0.0s\n",
            "[CV] C=1000, gamma=10, kernel=rbf ....................................\n",
            "[CV] ........ C=1000, gamma=10, kernel=rbf, score=0.994, total=   0.0s\n",
            "[CV] C=1000, gamma=10, kernel=rbf ....................................\n",
            "[CV] ........ C=1000, gamma=10, kernel=rbf, score=0.990, total=   0.0s\n",
            "[CV] C=1000, gamma=1, kernel=rbf .....................................\n",
            "[CV] ......... C=1000, gamma=1, kernel=rbf, score=0.998, total=   0.0s\n",
            "[CV] C=1000, gamma=1, kernel=rbf .....................................\n",
            "[CV] ......... C=1000, gamma=1, kernel=rbf, score=0.988, total=   0.0s\n",
            "[CV] C=1000, gamma=1, kernel=rbf .....................................\n",
            "[CV] ......... C=1000, gamma=1, kernel=rbf, score=0.992, total=   0.0s\n",
            "[CV] C=1000, gamma=1, kernel=rbf .....................................\n",
            "[CV] ......... C=1000, gamma=1, kernel=rbf, score=0.992, total=   0.0s\n",
            "[CV] C=1000, gamma=1, kernel=rbf .....................................\n",
            "[CV] ......... C=1000, gamma=1, kernel=rbf, score=0.996, total=   0.0s\n",
            "[CV] C=1000, gamma=0.1, kernel=rbf ...................................\n",
            "[CV] ....... C=1000, gamma=0.1, kernel=rbf, score=0.994, total=   0.0s\n",
            "[CV] C=1000, gamma=0.1, kernel=rbf ...................................\n",
            "[CV] ....... C=1000, gamma=0.1, kernel=rbf, score=0.996, total=   0.0s\n",
            "[CV] C=1000, gamma=0.1, kernel=rbf ...................................\n",
            "[CV] ....... C=1000, gamma=0.1, kernel=rbf, score=0.990, total=   0.0s\n",
            "[CV] C=1000, gamma=0.1, kernel=rbf ...................................\n",
            "[CV] ....... C=1000, gamma=0.1, kernel=rbf, score=0.992, total=   0.0s\n",
            "[CV] C=1000, gamma=0.1, kernel=rbf ...................................\n",
            "[CV] ....... C=1000, gamma=0.1, kernel=rbf, score=0.998, total=   0.0s\n",
            "[CV] C=1000, gamma=0.01, kernel=rbf ..................................\n",
            "[CV] ...... C=1000, gamma=0.01, kernel=rbf, score=0.994, total=   0.1s\n",
            "[CV] C=1000, gamma=0.01, kernel=rbf ..................................\n",
            "[CV] ...... C=1000, gamma=0.01, kernel=rbf, score=0.996, total=   0.1s\n",
            "[CV] C=1000, gamma=0.01, kernel=rbf ..................................\n",
            "[CV] ...... C=1000, gamma=0.01, kernel=rbf, score=0.988, total=   0.1s\n",
            "[CV] C=1000, gamma=0.01, kernel=rbf ..................................\n",
            "[CV] ...... C=1000, gamma=0.01, kernel=rbf, score=0.992, total=   0.1s\n",
            "[CV] C=1000, gamma=0.01, kernel=rbf ..................................\n",
            "[CV] ...... C=1000, gamma=0.01, kernel=rbf, score=0.994, total=   0.1s\n",
            "[CV] C=1000, gamma=0.001, kernel=rbf .................................\n",
            "[CV] ..... C=1000, gamma=0.001, kernel=rbf, score=0.567, total=   0.2s\n",
            "[CV] C=1000, gamma=0.001, kernel=rbf .................................\n",
            "[CV] ..... C=1000, gamma=0.001, kernel=rbf, score=0.550, total=   0.2s\n",
            "[CV] C=1000, gamma=0.001, kernel=rbf .................................\n",
            "[CV] ..... C=1000, gamma=0.001, kernel=rbf, score=0.529, total=   0.2s\n",
            "[CV] C=1000, gamma=0.001, kernel=rbf .................................\n",
            "[CV] ..... C=1000, gamma=0.001, kernel=rbf, score=0.540, total=   0.2s\n",
            "[CV] C=1000, gamma=0.001, kernel=rbf .................................\n",
            "[CV] ..... C=1000, gamma=0.001, kernel=rbf, score=0.558, total=   0.2s\n",
            "[CV] C=1000, gamma=0.0001, kernel=rbf ................................\n",
            "[CV] .... C=1000, gamma=0.0001, kernel=rbf, score=0.512, total=   0.1s\n",
            "[CV] C=1000, gamma=0.0001, kernel=rbf ................................\n",
            "[CV] .... C=1000, gamma=0.0001, kernel=rbf, score=0.504, total=   0.2s\n",
            "[CV] C=1000, gamma=0.0001, kernel=rbf ................................\n",
            "[CV] .... C=1000, gamma=0.0001, kernel=rbf, score=0.485, total=   0.2s\n",
            "[CV] C=1000, gamma=0.0001, kernel=rbf ................................\n",
            "[CV] .... C=1000, gamma=0.0001, kernel=rbf, score=0.477, total=   0.2s\n",
            "[CV] C=1000, gamma=0.0001, kernel=rbf ................................\n",
            "[CV] .... C=1000, gamma=0.0001, kernel=rbf, score=0.521, total=   0.1s\n"
          ],
          "name": "stdout"
        },
        {
          "output_type": "stream",
          "text": [
            "[Parallel(n_jobs=1)]: Done 150 out of 150 | elapsed:   14.5s finished\n"
          ],
          "name": "stderr"
        },
        {
          "output_type": "execute_result",
          "data": {
            "text/plain": [
              "GridSearchCV(cv=5, error_score=nan,\n",
              "             estimator=SVC(C=1000, break_ties=False, cache_size=200,\n",
              "                           class_weight=None, coef0=0.0,\n",
              "                           decision_function_shape='ovr', degree=3, gamma=0.1,\n",
              "                           kernel='sigmoid', max_iter=-1, probability=False,\n",
              "                           random_state=None, shrinking=True, tol=0.001,\n",
              "                           verbose=False),\n",
              "             iid='deprecated', n_jobs=None,\n",
              "             param_grid={'C': [0.1, 1, 10, 100, 1000],\n",
              "                         'gamma': [10, 1, 0.1, 0.01, 0.001, 0.0001],\n",
              "                         'kernel': ['rbf']},\n",
              "             pre_dispatch='2*n_jobs', refit=True, return_train_score=False,\n",
              "             scoring=None, verbose=10)"
            ]
          },
          "metadata": {
            "tags": []
          },
          "execution_count": 77
        }
      ]
    },
    {
      "cell_type": "code",
      "metadata": {
        "id": "1Jh2L1f3dtd0",
        "outputId": "7888a857-1691-4ec7-eb4e-9e6b5a397f5a",
        "colab": {
          "base_uri": "https://localhost:8080/"
        }
      },
      "source": [
        "y_pred=grid.predict(X_test)\n",
        "confusion_matrix(y_test,y_pred)"
      ],
      "execution_count": 78,
      "outputs": [
        {
          "output_type": "execute_result",
          "data": {
            "text/plain": [
              "array([[302,   1],\n",
              "       [  3, 294]])"
            ]
          },
          "metadata": {
            "tags": []
          },
          "execution_count": 78
        }
      ]
    },
    {
      "cell_type": "code",
      "metadata": {
        "id": "yzO8sSR6dtQA",
        "outputId": "91c795cd-c1f2-4bb8-84bb-d7bfef058deb",
        "colab": {
          "base_uri": "https://localhost:8080/",
          "height": 295
        }
      },
      "source": [
        "x1 = np.linspace(-1.5,1.5,100)\n",
        "x2 = np.linspace(-1.5,1.5,100)\n",
        "x1, x2 = np.meshgrid(x1, x2)\n",
        "X_new = np.c_[x1.ravel(), x2.ravel()]\n",
        "y_pred_ = grid.predict(X_new).reshape(x1.shape)\n",
        "plt.contourf(x1, x2, y_pred_, alpha=0.3,cmap=m.colors.ListedColormap(['white','black','white']))\n",
        "plt.scatter(svm.support_vectors_[:,0],svm.support_vectors_[:,1],color='b',label='support_vectors')\n",
        "plt.legend();\n",
        "plt.xlabel('X1')\n",
        "plt.ylabel('X2');\n",
        "plt.title('Support Vectors and Decision Boundary');"
      ],
      "execution_count": 80,
      "outputs": [
        {
          "output_type": "display_data",
          "data": {
            "image/png": "[encoded data removed]",
            "text/plain": [
              "<Figure size 432x288 with 1 Axes>"
            ]
          },
          "metadata": {
            "tags": [],
            "needs_background": "light"
          }
        }
      ]
    },
    {
      "cell_type": "code",
      "metadata": {
        "id": "G57_B3lHd33E",
        "outputId": "47d674fa-692f-4d03-9564-fa4559727481",
        "colab": {
          "base_uri": "https://localhost:8080/"
        }
      },
      "source": [
        "accuracy_score(y_test,y_pred)"
      ],
      "execution_count": 79,
      "outputs": [
        {
          "output_type": "execute_result",
          "data": {
            "text/plain": [
              "0.9933333333333333"
            ]
          },
          "metadata": {
            "tags": []
          },
          "execution_count": 79
        }
      ]
    },
    {
      "cell_type": "markdown",
      "metadata": {
        "id": "ufb9Uc8kP9rZ"
      },
      "source": [
        "### 2.h) For which kernal in SVM, you have obtained the highest and lowest  accuracy? What do you think the reason for it? \n",
        "\n",
        "### Ans: RBF kernel has the highest accuracy(0.99333) and the Sigmoid kernel has the least accuracy (0.52166). This is because the kernel transformation of RBF is most suited for the circular data classification. Whereas the SVM with sigmoid kernel is a 2 layer perceptron which is not that complex to classify a circular distributed data."
      ]
    },
    {
      "cell_type": "code",
      "metadata": {
        "id": "1-o7sGDNrv7i"
      },
      "source": [
        ""
      ],
      "execution_count": null,
      "outputs": []
    }
  ]
}